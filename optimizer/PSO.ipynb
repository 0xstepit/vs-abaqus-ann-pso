{
 "cells": [
  {
   "cell_type": "markdown",
   "metadata": {
    "colab_type": "text",
    "id": "view-in-github"
   },
   "source": [
    "<a href=\"https://colab.research.google.com/github/stepyt/vs_cylinder_ann_pso/blob/master/PSO.ipynb\" target=\"_parent\"><img src=\"https://colab.research.google.com/assets/colab-badge.svg\" alt=\"Open In Colab\"/></a>"
   ]
  },
  {
   "cell_type": "markdown",
   "metadata": {
    "colab_type": "text",
    "id": "zTh7XIZJCX-i"
   },
   "source": [
    "# **OPTIMIZATION OF VARIABLE STIFFNESS CYLINDRICAL SHELL**"
   ]
  },
  {
   "cell_type": "markdown",
   "metadata": {
    "colab_type": "text",
    "id": "GhbFr4zAM3Af"
   },
   "source": [
    "In this notebook the optimized neural network will be used for the optimization of the fibers path parameters in order to achieve the maximum buckling value. To this end a bio-inspired metaheuristic algorithm, named PSO, will be used. Below a picture of the idea behind the code."
   ]
  },
  {
   "cell_type": "code",
   "execution_count": 1,
   "metadata": {
    "colab": {},
    "colab_type": "code",
    "id": "9h3x9SSQOm0a"
   },
   "outputs": [],
   "source": [
    "import matplotlib.pyplot as plt\n",
    "import pandas as pd\n",
    "import numpy as np\n",
    "import time\n",
    "import sys"
   ]
  },
  {
   "cell_type": "markdown",
   "metadata": {
    "colab_type": "text",
    "id": "WEbYJLPTPHmp"
   },
   "source": [
    "We need to import the normalization variables in order to normalize the particles position and recover the output of the networks. These normalization variables must be the same used during the training of the network."
   ]
  },
  {
   "cell_type": "code",
   "execution_count": 3,
   "metadata": {
    "colab": {
     "base_uri": "https://localhost:8080/",
     "height": 51
    },
    "colab_type": "code",
    "id": "ODKOMqsoWMBA",
    "outputId": "0bcb6ed3-f803-42ee-da4d-afaace2e5d3a"
   },
   "outputs": [
    {
     "data": {
      "text/html": [
       "<div>\n",
       "<style scoped>\n",
       "    .dataframe tbody tr th:only-of-type {\n",
       "        vertical-align: middle;\n",
       "    }\n",
       "\n",
       "    .dataframe tbody tr th {\n",
       "        vertical-align: top;\n",
       "    }\n",
       "\n",
       "    .dataframe thead th {\n",
       "        text-align: right;\n",
       "    }\n",
       "</style>\n",
       "<table border=\"1\" class=\"dataframe\">\n",
       "  <thead>\n",
       "    <tr style=\"text-align: right;\">\n",
       "      <th></th>\n",
       "      <th>Height</th>\n",
       "      <th>Radius</th>\n",
       "      <th>MaxCurvature</th>\n",
       "      <th>MeshSize</th>\n",
       "      <th>Plies</th>\n",
       "      <th>EffectivePlies</th>\n",
       "      <th>Symmetric</th>\n",
       "      <th>Balanced</th>\n",
       "      <th>AnglesFunction</th>\n",
       "      <th>Train</th>\n",
       "      <th>Test</th>\n",
       "    </tr>\n",
       "  </thead>\n",
       "  <tbody>\n",
       "    <tr>\n",
       "      <td>Value</td>\n",
       "      <td>705</td>\n",
       "      <td>300</td>\n",
       "      <td>0.001575</td>\n",
       "      <td>5</td>\n",
       "      <td>8</td>\n",
       "      <td>4</td>\n",
       "      <td>True</td>\n",
       "      <td>False</td>\n",
       "      <td>harmlin</td>\n",
       "      <td>367</td>\n",
       "      <td>92</td>\n",
       "    </tr>\n",
       "  </tbody>\n",
       "</table>\n",
       "</div>"
      ],
      "text/plain": [
       "       Height  Radius  MaxCurvature  MeshSize  Plies  EffectivePlies  \\\n",
       "Value     705     300      0.001575         5      8               4   \n",
       "\n",
       "       Symmetric  Balanced AnglesFunction  Train  Test  \n",
       "Value       True     False        harmlin    367    92  "
      ]
     },
     "execution_count": 3,
     "metadata": {},
     "output_type": "execute_result"
    }
   ],
   "source": [
    "info = pd.read_csv('../metamodel/data367/model_info.csv', sep=\",\")\n",
    "info.index = ['Value']\n",
    "eff_plies = int(info['EffectivePlies'].values)\n",
    "train_smp = int(info['Train'].values)\n",
    "info.head()"
   ]
  },
  {
   "cell_type": "markdown",
   "metadata": {
    "colab_type": "text",
    "id": "E8yp7LJZaZI5"
   },
   "source": [
    "The steps below are the same on the notebook of the nn."
   ]
  },
  {
   "cell_type": "code",
   "execution_count": 5,
   "metadata": {
    "colab": {
     "base_uri": "https://localhost:8080/",
     "height": 51
    },
    "colab_type": "code",
    "id": "x3w0_OxNaa31",
    "outputId": "79426fde-3fe3-45a3-9a26-27e3b29a5663"
   },
   "outputs": [],
   "source": [
    "data_orig = pd.read_csv('../metamodel/data367/data.csv', sep=',')\n",
    "data = data_orig.drop(columns='Stiffness')"
   ]
  },
  {
   "cell_type": "code",
   "execution_count": 6,
   "metadata": {},
   "outputs": [],
   "source": [
    "def range_norm(x):\n",
    "  \"\"\" Normalize x in range [0, 1] \"\"\"\n",
    "  x_min = np.min(x, axis=0)\n",
    "  x_max = np.max(x, axis=0)\n",
    "  x_norm = (x - x_min) / (x_max - x_min)\n",
    "  return x_norm, x_min, x_max\n",
    "\n",
    "def std_norm(x, m=False, s=False):\n",
    "  \"\"\" Remove mean and fix standard deviation to 1 \"\"\"\n",
    "  if isinstance(m, (np.ndarray, np.generic))==False and isinstance(m, (np.ndarray, np.generic))==False:\n",
    "    m = np.mean(x, axis=0)\n",
    "    s = np.std(x, axis=0)\n",
    "  x_norm = (x - m) / s\n",
    "  return x_norm, m, s\n",
    "\n",
    "def inv_range_norm(x_norm, x_min, x_max):\n",
    "  \"\"\" Recover the original value of the variables \"\"\"\n",
    "  x = x_norm * (x_max - x_min) + x_min\n",
    "  return x\n",
    "\n",
    "def inv_std_norm(x_norm, m, s):\n",
    "  \"\"\" Recover the original value of the variables \"\"\"\n",
    "  x = x_norm * s + m\n",
    "  return x"
   ]
  },
  {
   "cell_type": "code",
   "execution_count": 7,
   "metadata": {},
   "outputs": [],
   "source": [
    "X = data_orig.drop(columns='Buckling').values\n",
    "Y = data_orig['Buckling'].values\n",
    "\n",
    "X_orig_tv = X[:train_smp, :]\n",
    "Y_orig_tv = Y[:train_smp]"
   ]
  },
  {
   "cell_type": "code",
   "execution_count": 8,
   "metadata": {},
   "outputs": [],
   "source": [
    "_, m_data, s_data = std_norm(X_orig_tv)\n",
    "_, m_target, s_target = std_norm(Y_orig_tv)"
   ]
  },
  {
   "cell_type": "markdown",
   "metadata": {},
   "source": [
    "Now we have to recover the boundaries used during the design of experiments in order to be able to define the deisign space in which search for an optimum configuration."
   ]
  },
  {
   "cell_type": "code",
   "execution_count": 28,
   "metadata": {},
   "outputs": [],
   "source": [
    "boundaries = pd.read_csv('../metamodel/data367/features_min_max.csv', sep=',')\n",
    "ds = {}\n",
    "out = ['RUN']\n",
    "for ply in range(eff_plies):\n",
    "    for key in boundaries.keys():\n",
    "        ds[key.upper() + str(ply+1)] = boundaries[key]\n",
    "        out += [key.upper() + str(ply+1)]\n",
    "design_space = pd.DataFrame(ds)"
   ]
  },
  {
   "cell_type": "markdown",
   "metadata": {},
   "source": [
    "## **Particle Swarm Optimizer**"
   ]
  },
  {
   "cell_type": "markdown",
   "metadata": {},
   "source": [
    "Now we can define some parameters of the optimizer:"
   ]
  },
  {
   "cell_type": "code",
   "execution_count": 0,
   "metadata": {
    "colab": {},
    "colab_type": "code",
    "id": "J1VxsJFUDoME"
   },
   "outputs": [],
   "source": [
    "particles = 80\n",
    "max_iter = 1"
   ]
  },
  {
   "cell_type": "code",
   "execution_count": 0,
   "metadata": {
    "colab": {},
    "colab_type": "code",
    "id": "C3SRjCCICBTY"
   },
   "outputs": [],
   "source": [
    "tic = time.time()\n",
    "for run in range(max_iter):\n",
    "\n",
    "    print(run)\n",
    "\n",
    "    pos, vel = particles_init(particles, boundaries)\n",
    "    f_bck, k_bck = net_prediction(pos, x_min_max, y_min_max)\n",
    "    score = 1 / f_bck\n",
    "    p_best = copy(score)\n",
    "    pos_p_best = copy(pos)\n",
    "    part_best = np.argmin(score)\n",
    "    g_best = score[part_best]\n",
    "    pos_g_best = pos[part_best, :]\n",
    "    stiffness_best = 0\n",
    "    buckling_best = 0\n",
    "    history_buckling_best = []\n",
    "\n",
    "    for k in range(0, max_iter):\n",
    "\n",
    "        new_pos = fly(pos, vel, pos_p_best, pos_g_best, boundaries, max_iter, k + 1)\n",
    "        f_bck, k_bck = net_prediction(new_pos, x_min_max, y_min_max)\n",
    "        score = 1 / f_bck\n",
    "\n",
    "        pos_p_best_update = np.where(p_best > score)\n",
    "        p_best[pos_p_best_update] = score[pos_p_best_update]\n",
    "        pos_p_best[pos_p_best_update, :] = new_pos[pos_p_best_update, :]\n",
    "\n",
    "        part_best = np.argmin(score)\n",
    "        if g_best > score[part_best]:\n",
    "            g_best = score[part_best]\n",
    "            pos_g_best = new_pos[part_best, :]\n",
    "            buckling_best = f_bck[part_best]\n",
    "            stiffness_best = k_bck[part_best]\n",
    "\n",
    "        history_buckling_best.append(buckling_best)\n",
    "\n",
    "        print(stiffness_best)\n",
    "        print(buckling_best)\n",
    "\n",
    "    outputFile.write(str(run+1) + ', ' +\n",
    "                     str(buckling_best) + ', ' + str(stiffness_best) + ', ' +\n",
    "                     str(pos_g_best[0]) + ', ' + str(pos_g_best[1]) + ', ' +\n",
    "                     str(pos_g_best[2]) + ', ' + str(pos_g_best[3]) + ', ' +\n",
    "                     str(pos_g_best[4]) + ', ' + str(pos_g_best[5]) + ', ' +\n",
    "                     str(pos_g_best[6]) + ', ' + str(pos_g_best[7]) + '\\n')\n",
    "\n",
    "    history = np.array([history_buckling_best])\n",
    "    name_history = 'history_best_' + str(run + 1) + '.csv'\n",
    "    np.savetxt(name_history, history, delimiter=\",\")\n",
    "toc = time.time()\n",
    "train_time = toc - tic\n",
    "print('TIME: ' + str(train_time))\n",
    "outputFile.close()"
   ]
  }
 ],
 "metadata": {
  "colab": {
   "authorship_tag": "ABX9TyN2KpjBYmG7+zswyvIZyQz3",
   "collapsed_sections": [],
   "include_colab_link": true,
   "name": "PSO.ipynb",
   "provenance": []
  },
  "kernelspec": {
   "display_name": "Python 3",
   "language": "python",
   "name": "python3"
  },
  "language_info": {
   "codemirror_mode": {
    "name": "ipython",
    "version": 3
   },
   "file_extension": ".py",
   "mimetype": "text/x-python",
   "name": "python",
   "nbconvert_exporter": "python",
   "pygments_lexer": "ipython3",
   "version": "3.7.4"
  }
 },
 "nbformat": 4,
 "nbformat_minor": 1
}
