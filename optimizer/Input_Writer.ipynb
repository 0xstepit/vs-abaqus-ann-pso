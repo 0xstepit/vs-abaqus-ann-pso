{
 "cells": [
  {
   "cell_type": "markdown",
   "metadata": {},
   "source": [
    "# **ABAQUS INPUT FILE GENERATOR**\n",
    "---\n",
    "This notebook will be used to check the results of the optimization process."
   ]
  },
  {
   "cell_type": "code",
   "execution_count": 1,
   "metadata": {
    "colab": {
     "base_uri": "https://localhost:8080/",
     "height": 35
    },
    "colab_type": "code",
    "executionInfo": {
     "elapsed": 742,
     "status": "ok",
     "timestamp": 1585004366690,
     "user": {
      "displayName": "Stefano Francesco Pitton",
      "photoUrl": "https://lh3.googleusercontent.com/a-/AOh14GjW-iCKvab94ITigBbPk2X7gaPtHInoGHAT3bpE=s64",
      "userId": "13533339971354837176"
     },
     "user_tz": -60
    },
    "id": "1cILkH305cwy",
    "outputId": "e5858f7b-abe9-48a7-ed3a-cb4536acd112"
   },
   "outputs": [],
   "source": [
    "import os\n",
    "import sys\n",
    "import numpy as np\n",
    "import pandas as pd\n",
    "import matplotlib\n",
    "import matplotlib.pyplot as plt\n",
    "from mpl_toolkits.mplot3d import Axes3D"
   ]
  },
  {
   "cell_type": "code",
   "execution_count": 2,
   "metadata": {},
   "outputs": [
    {
     "data": {
      "text/html": [
       "<div>\n",
       "<style scoped>\n",
       "    .dataframe tbody tr th:only-of-type {\n",
       "        vertical-align: middle;\n",
       "    }\n",
       "\n",
       "    .dataframe tbody tr th {\n",
       "        vertical-align: top;\n",
       "    }\n",
       "\n",
       "    .dataframe thead th {\n",
       "        text-align: right;\n",
       "    }\n",
       "</style>\n",
       "<table border=\"1\" class=\"dataframe\">\n",
       "  <thead>\n",
       "    <tr style=\"text-align: right;\">\n",
       "      <th></th>\n",
       "      <th>Buckling</th>\n",
       "      <th>Amplitude1</th>\n",
       "      <th>PhaseShift1</th>\n",
       "      <th>Omega1</th>\n",
       "      <th>Beta1</th>\n",
       "      <th>Amplitude2</th>\n",
       "      <th>PhaseShift2</th>\n",
       "      <th>Omega2</th>\n",
       "      <th>Beta2</th>\n",
       "    </tr>\n",
       "  </thead>\n",
       "  <tbody>\n",
       "    <tr>\n",
       "      <td>0</td>\n",
       "      <td>47623.1580</td>\n",
       "      <td>-82.0448</td>\n",
       "      <td>-34.5756</td>\n",
       "      <td>0.0</td>\n",
       "      <td>90.0000</td>\n",
       "      <td>200.0000</td>\n",
       "      <td>90.0</td>\n",
       "      <td>2.0</td>\n",
       "      <td>-90.0000</td>\n",
       "    </tr>\n",
       "    <tr>\n",
       "      <td>1</td>\n",
       "      <td>47366.4543</td>\n",
       "      <td>200.0000</td>\n",
       "      <td>-90.0000</td>\n",
       "      <td>0.0</td>\n",
       "      <td>71.4717</td>\n",
       "      <td>200.0000</td>\n",
       "      <td>90.0</td>\n",
       "      <td>2.0</td>\n",
       "      <td>-90.0000</td>\n",
       "    </tr>\n",
       "    <tr>\n",
       "      <td>2</td>\n",
       "      <td>47057.6757</td>\n",
       "      <td>200.0000</td>\n",
       "      <td>90.0000</td>\n",
       "      <td>0.0</td>\n",
       "      <td>90.0000</td>\n",
       "      <td>15.7313</td>\n",
       "      <td>-90.0</td>\n",
       "      <td>2.0</td>\n",
       "      <td>5.5403</td>\n",
       "    </tr>\n",
       "    <tr>\n",
       "      <td>3</td>\n",
       "      <td>47551.6897</td>\n",
       "      <td>-87.0601</td>\n",
       "      <td>-31.9412</td>\n",
       "      <td>0.0</td>\n",
       "      <td>90.0000</td>\n",
       "      <td>200.0000</td>\n",
       "      <td>90.0</td>\n",
       "      <td>2.0</td>\n",
       "      <td>-90.0000</td>\n",
       "    </tr>\n",
       "    <tr>\n",
       "      <td>4</td>\n",
       "      <td>47042.5380</td>\n",
       "      <td>200.0000</td>\n",
       "      <td>90.0000</td>\n",
       "      <td>0.0</td>\n",
       "      <td>90.0000</td>\n",
       "      <td>18.2856</td>\n",
       "      <td>-90.0</td>\n",
       "      <td>2.0</td>\n",
       "      <td>6.0871</td>\n",
       "    </tr>\n",
       "    <tr>\n",
       "      <td>5</td>\n",
       "      <td>47557.5643</td>\n",
       "      <td>-87.8164</td>\n",
       "      <td>-32.2232</td>\n",
       "      <td>0.0</td>\n",
       "      <td>90.0000</td>\n",
       "      <td>200.0000</td>\n",
       "      <td>90.0</td>\n",
       "      <td>2.0</td>\n",
       "      <td>-90.0000</td>\n",
       "    </tr>\n",
       "    <tr>\n",
       "      <td>6</td>\n",
       "      <td>47622.1405</td>\n",
       "      <td>-80.2295</td>\n",
       "      <td>-34.4328</td>\n",
       "      <td>0.0</td>\n",
       "      <td>90.0000</td>\n",
       "      <td>200.0000</td>\n",
       "      <td>90.0</td>\n",
       "      <td>2.0</td>\n",
       "      <td>-90.0000</td>\n",
       "    </tr>\n",
       "    <tr>\n",
       "      <td>7</td>\n",
       "      <td>47055.1277</td>\n",
       "      <td>200.0000</td>\n",
       "      <td>90.0000</td>\n",
       "      <td>0.0</td>\n",
       "      <td>90.0000</td>\n",
       "      <td>15.9944</td>\n",
       "      <td>-90.0</td>\n",
       "      <td>2.0</td>\n",
       "      <td>6.6708</td>\n",
       "    </tr>\n",
       "    <tr>\n",
       "      <td>8</td>\n",
       "      <td>47061.4004</td>\n",
       "      <td>200.0000</td>\n",
       "      <td>90.0000</td>\n",
       "      <td>0.0</td>\n",
       "      <td>90.0000</td>\n",
       "      <td>15.1108</td>\n",
       "      <td>-90.0</td>\n",
       "      <td>2.0</td>\n",
       "      <td>5.3462</td>\n",
       "    </tr>\n",
       "    <tr>\n",
       "      <td>9</td>\n",
       "      <td>47263.4986</td>\n",
       "      <td>-200.0000</td>\n",
       "      <td>-22.2087</td>\n",
       "      <td>0.0</td>\n",
       "      <td>90.0000</td>\n",
       "      <td>200.0000</td>\n",
       "      <td>90.0</td>\n",
       "      <td>2.0</td>\n",
       "      <td>-90.0000</td>\n",
       "    </tr>\n",
       "  </tbody>\n",
       "</table>\n",
       "</div>"
      ],
      "text/plain": [
       "     Buckling  Amplitude1  PhaseShift1  Omega1    Beta1  Amplitude2  \\\n",
       "0  47623.1580    -82.0448     -34.5756     0.0  90.0000    200.0000   \n",
       "1  47366.4543    200.0000     -90.0000     0.0  71.4717    200.0000   \n",
       "2  47057.6757    200.0000      90.0000     0.0  90.0000     15.7313   \n",
       "3  47551.6897    -87.0601     -31.9412     0.0  90.0000    200.0000   \n",
       "4  47042.5380    200.0000      90.0000     0.0  90.0000     18.2856   \n",
       "5  47557.5643    -87.8164     -32.2232     0.0  90.0000    200.0000   \n",
       "6  47622.1405    -80.2295     -34.4328     0.0  90.0000    200.0000   \n",
       "7  47055.1277    200.0000      90.0000     0.0  90.0000     15.9944   \n",
       "8  47061.4004    200.0000      90.0000     0.0  90.0000     15.1108   \n",
       "9  47263.4986   -200.0000     -22.2087     0.0  90.0000    200.0000   \n",
       "\n",
       "   PhaseShift2  Omega2    Beta2  \n",
       "0         90.0     2.0 -90.0000  \n",
       "1         90.0     2.0 -90.0000  \n",
       "2        -90.0     2.0   5.5403  \n",
       "3         90.0     2.0 -90.0000  \n",
       "4        -90.0     2.0   6.0871  \n",
       "5         90.0     2.0 -90.0000  \n",
       "6         90.0     2.0 -90.0000  \n",
       "7        -90.0     2.0   6.6708  \n",
       "8        -90.0     2.0   5.3462  \n",
       "9         90.0     2.0 -90.0000  "
      ]
     },
     "execution_count": 2,
     "metadata": {},
     "output_type": "execute_result"
    }
   ],
   "source": [
    "# Modify to match required case\n",
    "load_case = 'torsion'\n",
    "stacking_sequence = 'symmetric_balanced'\n",
    "data_set = '8x'\n",
    "fiber_path = 'harmlin'\n",
    "\n",
    "# Results folder\n",
    "input_folder = './' + load_case + '/' + stacking_sequence + '/' + data_set + '/' + fiber_path + '/'\n",
    "\n",
    "# Optimization results\n",
    "results = pd.read_csv(input_folder + 'results.csv', sep=\",\")\n",
    "results"
   ]
  },
  {
   "cell_type": "code",
   "execution_count": 3,
   "metadata": {},
   "outputs": [],
   "source": [
    "h = 705\n",
    "r = 300\n",
    "mesh_x = 10\n",
    "x_elem = int(h / mesh_x)\n",
    "plies = 8\n",
    "eff_plies = 2\n",
    "symmetric = True\n",
    "balanced = True\n",
    "t = 0.181\n",
    "\n",
    "p = 2 * np.pi * r\n",
    "mesh_yz = p / round(p / mesh_x)\n",
    "n_x = int(h / mesh_x + 1)\n",
    "n_yz = int(p / mesh_yz)\n",
    "tot_nodes = n_x * n_yz\n",
    "plot = False"
   ]
  },
  {
   "cell_type": "markdown",
   "metadata": {},
   "source": [
    "Some info related to the type of analysis"
   ]
  },
  {
   "cell_type": "code",
   "execution_count": 4,
   "metadata": {},
   "outputs": [],
   "source": [
    "flag_torsion = True\n",
    "flag_axial = False"
   ]
  },
  {
   "cell_type": "markdown",
   "metadata": {},
   "source": [
    "## **Local angles definition**\n",
    "---"
   ]
  },
  {
   "cell_type": "code",
   "execution_count": 5,
   "metadata": {},
   "outputs": [],
   "source": [
    "def harmlin(height, mesh_size, amplitude, phase_shift, omega, beta):\n",
    "    x_elems = int(h / mesh_size)\n",
    "    x = np.linspace(mesh_size / 2, h - mesh_size / 2, x_elems)  # normalized domain\n",
    "    y = amplitude * (np.sin(omega * (2 * np.pi / h) * x + phase_shift)) + x * np.tan(beta)\n",
    "    simb_dy = 2 * np.pi / h * omega * amplitude * np.cos(omega * (2 * np.pi / h) * x + phase_shift) + np.tan(beta)\n",
    "    return np.arctan(simb_dy) * 180 / np.pi"
   ]
  },
  {
   "cell_type": "code",
   "execution_count": 6,
   "metadata": {},
   "outputs": [],
   "source": [
    "row = 2\n",
    "ply_1 = results.loc[row, ['Amplitude1', 'PhaseShift1', 'Omega1', 'Beta1']].to_numpy()\n",
    "ply_2 = results.loc[row, ['Amplitude2', 'PhaseShift2', 'Omega2', 'Beta2']].to_numpy()\n",
    "arr_plies = np.array([ply_1, ply_2])"
   ]
  },
  {
   "cell_type": "code",
   "execution_count": 7,
   "metadata": {},
   "outputs": [
    {
     "name": "stdout",
     "output_type": "stream",
     "text": [
      "[90. 90. 90. 90. 90. 90. 90. 90. 90. 90. 90. 90. 90. 90. 90. 90. 90. 90.\n",
      " 90. 90. 90. 90. 90. 90. 90. 90. 90. 90. 90. 90. 90. 90. 90. 90. 90. 90.\n",
      " 90. 90. 90. 90. 90. 90. 90. 90. 90. 90. 90. 90. 90. 90. 90. 90. 90. 90.\n",
      " 90. 90. 90. 90. 90. 90. 90. 90. 90. 90. 90. 90. 90. 90. 90. 90.]\n",
      "[  6.9532546    9.72765148  12.32599203  14.66460273  16.6763762\n",
      "  18.31109235  19.53371538  20.3216924   20.66222169  20.5502021\n",
      "  19.98728267  18.9821794   17.55220512  15.72572716  13.54499121\n",
      "  11.06846063   8.37163684   5.54543948   2.69176673  -0.08325617\n",
      "  -2.67697172  -4.99709357  -6.96643448  -8.52493675  -9.62938835\n",
      " -10.25177381 -10.37733007 -10.00317179  -9.13798997  -7.80292623\n",
      "  -6.03331859  -3.880625    -1.41352824   1.2828392    4.11027349\n",
      "   6.9634372    9.73736828  12.33491513  14.6724601   16.68295745\n",
      "  18.31624569  19.53733905  20.32372437  20.66263075  20.54898226\n",
      "  19.98445207  18.97778365  17.54632479  15.71848766  13.53657273\n",
      "  11.05910435   8.36164401   5.53516044   2.68158018  -0.09297015\n",
      "  -2.68585899  -5.00484738  -6.97280766  -8.5297444   -9.63250366\n",
      " -10.25312099 -10.37687801 -10.00093081  -9.13401296  -7.79731366\n",
      "  -6.02622563  -3.87226763  -1.40418441   1.2928368    4.12055454]\n"
     ]
    }
   ],
   "source": [
    "col = ['Theta' + str(i) for i in range(1, x_elem + 1)]\n",
    "angles = {}\n",
    "for ply in range(0, eff_plies):\n",
    "    ang = np.empty((0, x_elem), int)\n",
    "    ang = np.array(harmlin(h, mesh_x, arr_plies[ply][0], arr_plies[ply][1] * np.pi / 180, arr_plies[ply][2], arr_plies[ply][3] * np.pi / 180))\n",
    "    print(ang)\n",
    "    angles.update({'Ply' + str(ply+1): ang})  "
   ]
  },
  {
   "cell_type": "markdown",
   "metadata": {
    "colab_type": "text",
    "id": "xpWVmdKi6zk1"
   },
   "source": [
    "Define nodes coordinate:"
   ]
  },
  {
   "cell_type": "code",
   "execution_count": 8,
   "metadata": {
    "colab": {
     "base_uri": "https://localhost:8080/",
     "height": 751
    },
    "colab_type": "code",
    "executionInfo": {
     "elapsed": 1446,
     "status": "ok",
     "timestamp": 1585004493919,
     "user": {
      "displayName": "Stefano Francesco Pitton",
      "photoUrl": "https://lh3.googleusercontent.com/a-/AOh14GjW-iCKvab94ITigBbPk2X7gaPtHInoGHAT3bpE=s64",
      "userId": "13533339971354837176"
     },
     "user_tz": -60
    },
    "id": "8W5KLvZV6zCG",
    "outputId": "dac09b04-1a04-4e31-c040-f7e9227de68b"
   },
   "outputs": [],
   "source": [
    "x =  np.linspace(0, h, n_x)\n",
    "theta = np.arange(0, 2 * np.pi, 2 * np.pi / n_yz)\n",
    "#theta = np.linspace(0, 2 * np.pi, n_yz) #last node coincide with first\n",
    "y = r * np.cos(theta)\n",
    "z = r * np.sin(theta)\n",
    "\n",
    "coord_x = np.zeros(n_yz)\n",
    "coord_y = y\n",
    "coord_z = z\n",
    "for v_elem in range(1, n_x):\n",
    "    coord_x = np.append(coord_x, np.ones(n_yz) * x[v_elem])\n",
    "    coord_y = np.append(coord_y, y)\n",
    "    coord_z = np.append(coord_z, z)"
   ]
  },
  {
   "cell_type": "code",
   "execution_count": 9,
   "metadata": {
    "colab": {
     "base_uri": "https://localhost:8080/",
     "height": 55
    },
    "colab_type": "code",
    "executionInfo": {
     "elapsed": 1752,
     "status": "ok",
     "timestamp": 1585001096653,
     "user": {
      "displayName": "Stefano Francesco Pitton",
      "photoUrl": "https://lh3.googleusercontent.com/a-/AOh14GjW-iCKvab94ITigBbPk2X7gaPtHInoGHAT3bpE=s64",
      "userId": "13533339971354837176"
     },
     "user_tz": -60
    },
    "id": "wWAyGW7M62gG",
    "outputId": "42eededd-a1e5-42bf-fbc6-18f9c80525c6"
   },
   "outputs": [],
   "source": [
    "nodes = {}\n",
    "for n in range(0, tot_nodes):\n",
    "    name = 'Node' + str(n + 1)\n",
    "    nodes[name] = (round(coord_x[n], 6), round(coord_y[n], 6), round(coord_z[n], 6))"
   ]
  },
  {
   "cell_type": "markdown",
   "metadata": {},
   "source": [
    "Nodes for constraint and load and sets"
   ]
  },
  {
   "cell_type": "code",
   "execution_count": 10,
   "metadata": {},
   "outputs": [],
   "source": [
    "ref_nodes = {'Load': (h, 0, 0), 'Constraint': (0, 0, 0)} \n",
    "\n",
    "set_nodes ={'LoadNodes': [i for i in range(n_x * n_yz - n_yz + 1, n_x * n_yz + 1)],\n",
    "            'ConstraintNodes': [i for i in range(1, n_yz + 1)]}"
   ]
  },
  {
   "cell_type": "code",
   "execution_count": 11,
   "metadata": {},
   "outputs": [],
   "source": [
    "elements = {}\n",
    "foo = 1\n",
    "for n_v in range(0, n_x - 1):\n",
    "    for n_h in range(0, n_yz - 1):\n",
    "        name = 'Element' + str(foo)\n",
    "        foo += 1\n",
    "        n1 = n_v * n_yz + n_h + 1\n",
    "        n2 =  n1 + 1\n",
    "        n3 = n2 + n_yz\n",
    "        n4 = n1 + n_yz\n",
    "        elements[name] = (n1, n2, n3, n4)\n",
    "    mid1 = n2 - n_h - 1\n",
    "    mid2 = n3 - n_h - 1\n",
    "    elements['Element' + str(foo)] = (n2, mid1, mid2, n3)\n",
    "    foo += 1\n",
    "tot_elems = foo - 1"
   ]
  },
  {
   "cell_type": "code",
   "execution_count": 12,
   "metadata": {},
   "outputs": [],
   "source": [
    "if flag_axial:\n",
    "    heading = 'Analysis of a variable stiffness cylindrical shell in axial compression'\n",
    "elif flag_torsion:\n",
    "    heading = 'Analysis of a variable stiffness cylindrical shell in torsion'\n",
    "job = 'Buckling analysis'\n",
    "model = 'Variable stiffness cylindrical shell'"
   ]
  },
  {
   "cell_type": "code",
   "execution_count": 13,
   "metadata": {},
   "outputs": [],
   "source": [
    "directory = input_folder + 'abaqus/'\n",
    "\n",
    "try:\n",
    "    if not os.path.isdir(directory):\n",
    "        os.makedirs(directory)\n",
    "except OSError:\n",
    "    print('Error: Creating directory. ' + directory)"
   ]
  },
  {
   "cell_type": "code",
   "execution_count": 14,
   "metadata": {},
   "outputs": [
    {
     "data": {
      "text/plain": [
       "29"
      ]
     },
     "execution_count": 14,
     "metadata": {},
     "output_type": "execute_result"
    }
   ],
   "source": [
    "f = open(directory + \"optimum_config.inp\",\"w+\")\n",
    "f.write('*HEADING\\n' + heading + '\\n')\n",
    "f.write('** Job name: ' + job + '\\n')\n",
    "f.write('** Model name: ' + model + '\\n')\n",
    "f.write('** Generated by: S.F. Pitton\\n')"
   ]
  },
  {
   "cell_type": "code",
   "execution_count": 15,
   "metadata": {},
   "outputs": [
    {
     "data": {
      "text/plain": [
       "10"
      ]
     },
     "execution_count": 15,
     "metadata": {},
     "output_type": "execute_result"
    }
   ],
   "source": [
    "f.write('**\\n** PARTS\\n**\\n')\n",
    "part_name = 'Cylinder'\n",
    "f.write('*Part, name = ' + part_name + '\\n')\n",
    "f.write('*End Part\\n')"
   ]
  },
  {
   "cell_type": "code",
   "execution_count": 16,
   "metadata": {},
   "outputs": [
    {
     "data": {
      "text/plain": [
       "53"
      ]
     },
     "execution_count": 16,
     "metadata": {},
     "output_type": "execute_result"
    }
   ],
   "source": [
    "f.write('**\\n** ASSEMBLY\\n**\\n')\n",
    "assembly_name = 'Assembly_Cylinder'\n",
    "f.write('*Assembly, name = ' + assembly_name + '\\n**\\n')\n",
    "instance_name = 'Instance_Cylinder'\n",
    "f.write('*Instance, name = ' + instance_name + ', part = ' + part_name + '\\n')"
   ]
  },
  {
   "cell_type": "code",
   "execution_count": 17,
   "metadata": {},
   "outputs": [
    {
     "data": {
      "text/plain": [
       "14"
      ]
     },
     "execution_count": 17,
     "metadata": {},
     "output_type": "execute_result"
    }
   ],
   "source": [
    "f.write('**\\n** MESH\\n**\\n')"
   ]
  },
  {
   "cell_type": "code",
   "execution_count": 18,
   "metadata": {},
   "outputs": [],
   "source": [
    "f.write('*Node\\n')\n",
    "#f.write('*Node, nset = all\\n')\n",
    "for ID_node in range(1, tot_nodes + 1):\n",
    "    nx = nodes['Node' + str(ID_node)][0]\n",
    "    ny = nodes['Node' + str(ID_node)][1]\n",
    "    nz = nodes['Node' + str(ID_node)][2]\n",
    "    f.write('%4.0f, %12.6f, %12.6f, %12.6f\\n' % (ID_node, nx, ny, nz))"
   ]
  },
  {
   "cell_type": "code",
   "execution_count": 19,
   "metadata": {},
   "outputs": [],
   "source": [
    "f.write('**\\n** ELEMENTS\\n**\\n')\n",
    "f.write('*Element, type=S4R\\n')\n",
    "#f.write('*Element, type=S4R, elset = all\\n')\n",
    "for ID_elem in range(1, tot_elems + 1):\n",
    "    n1 = elements['Element' + str(ID_elem)][0]\n",
    "    n2 = elements['Element' + str(ID_elem)][1]\n",
    "    n3 = elements['Element' + str(ID_elem)][2]\n",
    "    n4 = elements['Element' + str(ID_elem)][3]\n",
    "    f.write('%4.0f, %4.0f, %4.0f, %4.0f, %4.0f\\n' % (ID_elem, n1, n2, n3, n4))"
   ]
  },
  {
   "cell_type": "code",
   "execution_count": 20,
   "metadata": {},
   "outputs": [],
   "source": [
    "f.write('**\\n** SETS OF ELEMENTS\\n**\\n')\n",
    "for e_set in range(0, n_x - 1):\n",
    "    f.write('*Elset, elset = set' + str(e_set + 1) + ', GENERATE\\n')\n",
    "    e_start = 1 + e_set * n_yz\n",
    "    e_end = n_yz + e_set * n_yz\n",
    "    inc = 1\n",
    "    f.write('%4.0f, %4.0f, %4.0f\\n' % (e_start, e_end, inc))"
   ]
  },
  {
   "cell_type": "code",
   "execution_count": 21,
   "metadata": {},
   "outputs": [],
   "source": [
    "f.write('**\\n** SECTION\\n**\\n')\n",
    "for j in range(1, n_x):\n",
    "    if symmetric:\n",
    "        f.write('*Shell Section, elset = set' + str(j) + ', composite, layup = vs' + str(j) + ', symmetric\\n')\n",
    "    else:\n",
    "        f.write('*Shell Section, elset = set' + str(j) + ', composite, layup = vs' + str(j) + '\\n')\n",
    "\n",
    "    for i in range(0, eff_plies):\n",
    "        f.write('%1.4f, %d, AS4/8552, %4.1f, ply%d \\n' % (t, 3, angles['Ply' + str(i + 1)][j - 1], i + 1))\n",
    "\n",
    "        if balanced:\n",
    "                f.write('%1.4f, %d, AS4/8552, %4.1f, ply%d \\n' %\n",
    "                        (t, 3, -angles['Ply' + str(i + 1)][j - 1], i + eff_plies + 1))"
   ]
  },
  {
   "cell_type": "code",
   "execution_count": 22,
   "metadata": {},
   "outputs": [
    {
     "data": {
      "text/plain": [
       "20"
      ]
     },
     "execution_count": 22,
     "metadata": {},
     "output_type": "execute_result"
    }
   ],
   "source": [
    "f.write('**\\n*End Instance\\n**\\n')"
   ]
  },
  {
   "cell_type": "code",
   "execution_count": 23,
   "metadata": {},
   "outputs": [],
   "source": [
    "f.write('**\\n*Node\\n')\n",
    "foo = 1 \n",
    "for key in ref_nodes.keys():\n",
    "    nx = ref_nodes[key][0]\n",
    "    ny = ref_nodes[key][1]\n",
    "    nz = ref_nodes[key][2]\n",
    "    f.write('%4.0f, %12.6f, %12.6f, %12.6f\\n' % (tot_nodes + foo, nx, ny, nz))\n",
    "    foo += 1"
   ]
  },
  {
   "cell_type": "markdown",
   "metadata": {},
   "source": [
    "Create set of nodes"
   ]
  },
  {
   "cell_type": "code",
   "execution_count": 24,
   "metadata": {},
   "outputs": [],
   "source": [
    "f.write('**\\n** SET OF NODES\\n**\\n')\n",
    "for key in set_nodes.keys():\n",
    "    f.write('*Nset, nset = \"' + key + '\", GENERATE, instance =' + instance_name + '\\n')\n",
    "    n_start = set_nodes[key][0]\n",
    "    n_end = set_nodes[key][-1]\n",
    "    inc = 1\n",
    "    f.write('%4.0f, %4.0f, %4.0f\\n' % (n_start, n_end, inc))"
   ]
  },
  {
   "cell_type": "markdown",
   "metadata": {},
   "source": [
    "Crate tied constraint"
   ]
  },
  {
   "cell_type": "code",
   "execution_count": 25,
   "metadata": {},
   "outputs": [],
   "source": [
    "f.write('**\\n** CONSTRAINTS\\n**\\n')\n",
    "foo = 1\n",
    "for key in set_nodes.keys():\n",
    "    f.write('*Rigid Body, ref node = %4.0f,' % (tot_nodes + foo))\n",
    "    f.write(' tie nset = \"' + key + '\"\\n')\n",
    "    foo += 1"
   ]
  },
  {
   "cell_type": "code",
   "execution_count": 26,
   "metadata": {},
   "outputs": [
    {
     "data": {
      "text/plain": [
       "17"
      ]
     },
     "execution_count": 26,
     "metadata": {},
     "output_type": "execute_result"
    }
   ],
   "source": [
    "f.write('**\\n*End Assembly\\n')"
   ]
  },
  {
   "cell_type": "markdown",
   "metadata": {},
   "source": [
    "Crate material"
   ]
  },
  {
   "cell_type": "code",
   "execution_count": 27,
   "metadata": {},
   "outputs": [
    {
     "data": {
      "text/plain": [
       "48"
      ]
     },
     "execution_count": 27,
     "metadata": {},
     "output_type": "execute_result"
    }
   ],
   "source": [
    "f.write('**\\n** MATERIALS\\n**\\n')\n",
    "f.write('*Material, name = AS4/8552\\n')\n",
    "f.write('*Elastic, type = LAMINA\\n')\n",
    "f.write('%4.1f, %4.1f, %4.1f, %4.1f, %4.1f, %4.1f\\n' % (141000., 10300.,   0.3, 4500., 4500., 3700.))"
   ]
  },
  {
   "cell_type": "markdown",
   "metadata": {},
   "source": [
    "create the step"
   ]
  },
  {
   "cell_type": "code",
   "execution_count": 28,
   "metadata": {},
   "outputs": [
    {
     "data": {
      "text/plain": [
       "10"
      ]
     },
     "execution_count": 28,
     "metadata": {},
     "output_type": "execute_result"
    }
   ],
   "source": [
    "f.write('**\\n** ----------------------------------------------------------------\\n')\n",
    "f.write('**\\n** STEP\\n**\\n')\n",
    "f.write('*Step, name = \"Buckling force step\", nlgeom = NO, perturbation\\n')\n",
    "f.write('Eigenvalues calculation \\n')\n",
    "f.write('*Buckle\\n')\n",
    "f.write('%d, , 600,\\n' % 5)"
   ]
  },
  {
   "cell_type": "markdown",
   "metadata": {},
   "source": [
    "Boundary conditions and loads"
   ]
  },
  {
   "cell_type": "code",
   "execution_count": 29,
   "metadata": {},
   "outputs": [],
   "source": [
    "if flag_axial:\n",
    "    f.write('**\\n** BOUNDARY CONDITIONS\\n**\\n')\n",
    "    f.write('** Name:Only x displacements free\\n')\n",
    "    f.write('*Boundary, op = NEW, load case = 1 \\n')\n",
    "    f.write('%d, %d, %d\\n' % (tot_nodes + 1, 2, 6))\n",
    "    f.write('*Boundary, op = NEW, load case = 2 \\n')\n",
    "    f.write('%d, %d, %d\\n' % (tot_nodes + 1, 2, 6))\n",
    "    f.write('** Name: Clamped edge\\n')\n",
    "    f.write('*Boundary, op = NEW, load case = 1 \\n')\n",
    "    f.write('%d, %d, %d\\n' % (tot_nodes + 2, 1, 6))\n",
    "    f.write('*Boundary, op = NEW, load case = 2 \\n')\n",
    "    f.write('%d, %d, %d\\n' % (tot_nodes + 2, 1, 6))\n",
    "\n",
    "    f.write('**\\n** LOADS\\n**\\n')\n",
    "    f.write('** Name: Concentrated force \\n')\n",
    "    f.write('*Cload \\n')\n",
    "    f.write('%d, %d, %2.2f\\n' % (tot_nodes + 1, 1, -1.))\n",
    "\n",
    "if flag_torsion:\n",
    "    f.write('**\\n** BOUNDARY CONDITIONS\\n**\\n')\n",
    "    f.write('** Name: Constraint y and z displacements\\n')\n",
    "    f.write('*Boundary, op = NEW, load case = 1 \\n')\n",
    "    f.write('%d, %d, %d\\n' % (tot_nodes + 1, 2, 3))\n",
    "    f.write('*Boundary, op = NEW, load case = 2 \\n')\n",
    "    f.write('%d, %d, %d\\n' % (tot_nodes + 1, 2, 3))\n",
    "    f.write('** Name: Constraint rotations around y and z\\n')\n",
    "    f.write('*Boundary, op = NEW, load case = 1 \\n')\n",
    "    f.write('%d, %d, %d\\n' % (tot_nodes + 1, 5, 6))\n",
    "    f.write('*Boundary, op = NEW, load case = 2 \\n')\n",
    "    f.write('%d, %d, %d\\n' % (tot_nodes + 1, 5, 6))\n",
    "    f.write('** Name: Clamped edge\\n')\n",
    "    f.write('*Boundary, op = NEW, load case = 1 \\n')\n",
    "    f.write('%d, %d, %d\\n' % (tot_nodes + 2, 1, 6))\n",
    "    f.write('*Boundary, op = NEW, load case = 2 \\n')\n",
    "    f.write('%d, %d, %d\\n' % (tot_nodes + 2, 1, 6))\n",
    "\n",
    "    f.write('**\\n** LOADS\\n**\\n')\n",
    "    f.write('** Name: Concentrated torque\\n')\n",
    "    f.write('*Cload \\n')\n",
    "    f.write('%d, %d, %2.2f\\n' % (tot_nodes + 1, 4, -1.))"
   ]
  },
  {
   "cell_type": "markdown",
   "metadata": {},
   "source": [
    "Outputs"
   ]
  },
  {
   "cell_type": "code",
   "execution_count": 30,
   "metadata": {},
   "outputs": [
    {
     "data": {
      "text/plain": [
       "9"
      ]
     },
     "execution_count": 30,
     "metadata": {},
     "output_type": "execute_result"
    }
   ],
   "source": [
    "f.write('**\\n** OUTPUT REQUESTS\\n**\\n')\n",
    "f.write('*Restart, write, frequency = 0\\n')\n",
    "f.write('**\\n** FIELD OUTPUT\\n**\\n')\n",
    "f.write('*Output, field\\n')\n",
    "f.write('*Node Output\\n')\n",
    "f.write('RF, U\\n')\n",
    "f.write('*Element Output, directions = YES\\n')\n",
    "f.write('E, S\\n')\n",
    "f.write('**\\n** FIELD OUTPUT\\n**\\n')\n",
    "f.write('*Output, field, variable = PRESELECT\\n')\n",
    "f.write('*End Step')"
   ]
  },
  {
   "cell_type": "code",
   "execution_count": 31,
   "metadata": {},
   "outputs": [],
   "source": [
    "f.close()"
   ]
  },
  {
   "cell_type": "code",
   "execution_count": 32,
   "metadata": {},
   "outputs": [],
   "source": [
    "if plot:\n",
    "    %matplotlib notebook\n",
    "    fig = plt.figure(figsize=(8,8))\n",
    "    ax = Axes3D(fig)\n",
    "    ax.scatter(coord_y, coord_z, coord_x, marker='o', linewidth=3, color='red')\n",
    "    nomi = [str(i) for i in range(1, tot_nodes + 1)]\n",
    "    for i in range(0, tot_nodes):\n",
    "        ax.text(coord_y[i], coord_z[i],coord_x[i], nomi[i], color='black')\n",
    "\n",
    "    ax.scatter(ref_nodes['Load'][1], ref_nodes['Load'][2], ref_nodes['Load'][0], marker='x',s=100, color='blue')\n",
    "    ax.scatter(ref_nodes['Constraint'][1], ref_nodes['Constraint'][2], ref_nodes['Constraint'][0], marker='x',s=100, color='blue')\n",
    "    ax.scatter(ref_nodes['Constraint'][1], ref_nodes['Constraint'][2], ref_nodes['Constraint'][0], marker='*',s=100, color='red')\n",
    "    ax.quiver(0, 0, h + 0.2 * h, 0, 0, -0.2 * h, color='red', linewidth=3)\n",
    "\n",
    "    foo_theta = np.linspace(0, 2 * np.pi, n_yz+1) \n",
    "\n",
    "    yy = np.outer(r * np.cos(foo_theta), np.ones(len(x)))\n",
    "    zz = np.outer(r * np.sin(foo_theta),np.ones(len(x))) \n",
    "    xx = np.outer(np.ones(len(foo_theta)),x)\n",
    "\n",
    "    # Plot the surface\n",
    "    ax.plot_surface(yy, zz, xx, alpha=0.3)\n",
    "\n",
    "    plt.show()"
   ]
  }
 ],
 "metadata": {
  "colab": {
   "authorship_tag": "ABX9TyND1XzRTsfp3i8lyrsWSG9S",
   "collapsed_sections": [],
   "name": "inp_Writer.ipynb",
   "provenance": []
  },
  "kernelspec": {
   "display_name": "Python 3",
   "language": "python",
   "name": "python3"
  },
  "language_info": {
   "codemirror_mode": {
    "name": "ipython",
    "version": 3
   },
   "file_extension": ".py",
   "mimetype": "text/x-python",
   "name": "python",
   "nbconvert_exporter": "python",
   "pygments_lexer": "ipython3",
   "version": "3.7.4"
  }
 },
 "nbformat": 4,
 "nbformat_minor": 4
}
