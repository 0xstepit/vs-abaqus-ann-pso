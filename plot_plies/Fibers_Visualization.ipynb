{
 "cells": [
  {
   "cell_type": "markdown",
   "metadata": {},
   "source": [
    "# **VISUALIZATION OF FIBER SHAPES**\n",
    "\n",
    "---\n",
    "\n",
    "This notebook helps to better understand the effectiveness of the function used to represent the fibers by visualizing them."
   ]
  },
  {
   "cell_type": "code",
   "execution_count": 1,
   "metadata": {},
   "outputs": [],
   "source": [
    "import seaborn as sns\n",
    "import numpy as np\n",
    "import pandas as pd\n",
    "import matplotlib.pyplot as plt\n",
    "import os\n",
    "import sys"
   ]
  },
  {
   "cell_type": "markdown",
   "metadata": {},
   "source": [
    "We can import the model info"
   ]
  },
  {
   "cell_type": "code",
   "execution_count": 2,
   "metadata": {},
   "outputs": [],
   "source": [
    "angles_func = 'harmlin'\n",
    "directory = '../dataset/' + angles_func + '/'\n",
    "model_info = pd.read_csv(directory + 'model_info.csv', sep=\",\")\n",
    "sets = [set.lower() for set in ['Train', 'Val', 'Test'] if set in model_info.columns]\n",
    "# The annoying question of x.value[..] is due to series nature of the dataframe\n",
    "h = int(model_info['Height'].values)\n",
    "r = int(model_info['Radius'].values)\n",
    "mesh_x = int(model_info['MeshSize'].values)\n",
    "plies = int(model_info['Plies'].values)\n",
    "eff_plies = int(model_info['EffectivePlies'].values)\n",
    "symmetric = model_info['Symmetric'].values[0]\n",
    "balanced = model_info['Balanced'].values[0]\n",
    "train_smp = int(model_info['Train'].values)\n",
    "\n",
    "if angles_func == 'harmlin':\n",
    "    col_name = ['Amplitude', 'PhaseShift', 'Omega', 'Beta']"
   ]
  },
  {
   "cell_type": "markdown",
   "metadata": {},
   "source": [
    "We have to create the folder to store the plot. Just the shape of the fibers for the training set will be generated."
   ]
  },
  {
   "cell_type": "code",
   "execution_count": 3,
   "metadata": {},
   "outputs": [],
   "source": [
    "try:\n",
    "    if not os.path.isdir(directory + 'train_shape'):\n",
    "        os.makedirs(directory + 'train_shape')\n",
    "except OSError:\n",
    "    print('Error: Creating directory. ' + directory + 'train_shape')"
   ]
  },
  {
   "cell_type": "markdown",
   "metadata": {},
   "source": [
    "Now we have to create a container for the parameters of each ply which must be easily accessible."
   ]
  },
  {
   "cell_type": "code",
   "execution_count": 4,
   "metadata": {},
   "outputs": [],
   "source": [
    "params_dict = {}\n",
    "if angles_func == 'harmlin':\n",
    "    file_name = 'ply'\n",
    "elif angles_func == 'linear':\n",
    "    file_name = 'theta'\n",
    "for ply in range(1, eff_plies+1):\n",
    "    ply_param = pd.read_csv(directory + 'train/' + file_name + str(ply) + '.csv', sep=\",\", skiprows=0)\n",
    "    params_dict.update({'ply'+str(ply): ply_param})"
   ]
  },
  {
   "cell_type": "markdown",
   "metadata": {},
   "source": [
    "We have to iterate over each sample and for each sample we have to iterate over all the free plies."
   ]
  },
  {
   "cell_type": "code",
   "execution_count": 5,
   "metadata": {},
   "outputs": [
    {
     "data": {
      "text/plain": [
       "array([65.08, 20.6 ,  0.39, 38.52])"
      ]
     },
     "execution_count": 5,
     "metadata": {},
     "output_type": "execute_result"
    }
   ],
   "source": [
    "tht = params_dict['ply1'].iloc[0].values\n",
    "tht"
   ]
  },
  {
   "cell_type": "code",
   "execution_count": 6,
   "metadata": {},
   "outputs": [],
   "source": [
    "deg2rad = np.pi / 180\n",
    "\n",
    "if angles_func == 'harmlin':\n",
    "    x = np.linspace(mesh_x / 2, h - mesh_x / 2, 1000)\n",
    "    for smp in range(0, train_smp):\n",
    "        legend = []\n",
    "        for ply in range(1, eff_plies+1):\n",
    "            amplitude = params_dict['ply' + str(ply)]['Amplitude'][smp]\n",
    "            phase_shift = params_dict['ply' + str(ply)]['PhaseShift'][smp] * deg2rad\n",
    "            omega = params_dict['ply' + str(ply)]['Omega'][smp]\n",
    "            beta = params_dict['ply' + str(ply)]['Beta'][smp] * deg2rad \n",
    "\n",
    "            y = amplitude * (np.sin(omega * (2 * np.pi / h) * x + phase_shift)) + x * np.tan(beta)\n",
    "\n",
    "            plt.figure(smp)\n",
    "            plt.title('Fiber')\n",
    "            plt.plot(x, y)\n",
    "            plt.xlim([0, 750])\n",
    "            plt.ylim([-750, 750])\n",
    "            legend = np.append(legend, 'ply' + str(ply))\n",
    "        plt.legend(legend)  \n",
    "        plt.savefig(directory + 'train_shape/sample' + str(smp) + '.png')\n",
    "        plt.close()\n",
    "        \n",
    "elif angles_func == 'linear':\n",
    "    x_elems = int(h / mesh_x)\n",
    "    x = np.linspace(0, h, x_elems)\n",
    "    for smp in range(0, train_smp):\n",
    "        legend = []\n",
    "        for ply in range(1, eff_plies+1):\n",
    "            tht = params_dict['ply' + str(ply)].iloc[smp].values\n",
    "            y = np.array([np.tan(tht[i]*deg2rad)*mesh_x for i in range(len(tht))])\n",
    "            yy = np.zeros(len(y))\n",
    "            for i in range(len(y) - 1):\n",
    "                yy[i + 1] = yy[i] + y[i + 1]\n",
    "                \n",
    "            plt.figure(smp)\n",
    "            plt.title('Fiber')\n",
    "            plt.plot(x, yy)\n",
    "            plt.xlim([0, 750])\n",
    "#             plt.ylim([-750, 750])\n",
    "            legend = np.append(legend, 'ply' + str(ply))\n",
    "        plt.legend(legend)  \n",
    "        plt.savefig(directory + 'train_shape/sample' + str(smp) + '.png')\n",
    "        plt.close()"
   ]
  },
  {
   "cell_type": "code",
   "execution_count": 7,
   "metadata": {},
   "outputs": [],
   "source": [
    "h = 700 # height\n",
    "r = 300  # radius\n",
    "mesh_size = 10  # mesh size\n",
    "x_elems= int(h / mesh_size)\n",
    "x = np.linspace(0, h, x_elems)\n",
    "deg2rad = np.pi / 180\n",
    "k_max = 1 / 635\n",
    "\n",
    "pieces = 2\n",
    "T = [0, 1, 10]\n",
    "\n",
    "mid = int(np.ceil(len(x)/pieces))\n",
    "top = int(np.floor(len(x)/pieces                                                                                                                                                                                                                                                                                                                                                                                                                                                                                                                                                                                                                               ))\n",
    "if mid == top:\n",
    "    mid += 1\n",
    "x1 = np.linspace(0,h/2,mid)\n",
    "x2 = np.linspace(0,h/2 - mesh_size,top)\n",
    "\n",
    "tht_1 = 0 + T[0] + (T[1] - T[0]) * x1 / x1[-1]\n",
    "tht_2 = 0 + T[1] + (T[2] - T[1]) * x2 / x2[-1]\n",
    "k1 = (T[1] - T[0]) * deg2rad / x1[-1] * np.cos(tht_1 * deg2rad)\n",
    "k2 = (T[2] - T[1]) * deg2rad / x2[-1] * np.cos(tht_2 * deg2rad)\n",
    "tht = np.concatenate([tht_1[0:-1], tht_2])\n",
    "\n",
    "y = np.array([np.tan(tht[i]*deg2rad)*mesh_size for i in range(len(tht))])\n",
    "yy = np.zeros(len(y))\n",
    "for i in range(len(y) - 1):\n",
    "    yy[i + 1] = yy[i] + y[i + 1]"
   ]
  },
  {
   "cell_type": "code",
   "execution_count": 8,
   "metadata": {},
   "outputs": [
    {
     "name": "stdout",
     "output_type": "stream",
     "text": [
      "[0, -100.45, -50]\n",
      "-100.45\n",
      "[0, -31.450000000000003, -50]\n"
     ]
    }
   ],
   "source": [
    "pieces = 2\n",
    "T = [0, -100.45, -50]\n",
    "print(T)\n",
    "print(T[1])\n",
    "pieces_length = [np.ceil(len(x)/pieces)]\n",
    "for piece in range(pieces-1):\n",
    "    pieces_length.append(np.floor(len(x)/pieces))\n",
    "if pieces_length[0] == pieces_length[1]:\n",
    "    pieces_length[0] += 1\n",
    "\n",
    "x_tmp = np.linspace(0,h/pieces,int(pieces_length[0]))\n",
    "tht_tmp = 0 + T[0] + (T[1] - T[0]) * x_tmp / x_tmp[-1]\n",
    "k_tmp = (T[1] - T[0]) * deg2rad / x_tmp[-1] * np.cos(tht_tmp * deg2rad)\n",
    "\n",
    "max_k = np.max(k_tmp)\n",
    "min_k= np.min(k_tmp)\n",
    "if max_k >= abs(min_k):\n",
    "    maxim = max_k\n",
    "    flag_pos = True\n",
    "else:\n",
    "    maxim = abs(min_k)\n",
    "    flag_pos = False\n",
    "\n",
    "if maxim > k_max and flag_pos:\n",
    "    iterate = True\n",
    "    while iterate:\n",
    "        T[1] -= 1\n",
    "        tht_tmp = 0 + T[0] + (T[1] - T[0]) * x_tmp / x_tmp[-1]\n",
    "        k_tmp = (T[1] - T[0]) * deg2rad / x_tmp[-1] * np.cos(tht_tmp * deg2rad)\n",
    "        max_k = np.max(k_tmp)\n",
    "        if max_k < k_max:\n",
    "            iterate = False\n",
    "elif maxim > k_max and not flag_pos:\n",
    "    iterate = True\n",
    "    while iterate:\n",
    "        T[1] += 1\n",
    "        tht_tmp = 0 + T[0] + (T[1] - T[0]) * x_tmp / x_tmp[-1]\n",
    "        k_tmp = (T[1] - T[0]) * deg2rad / x_tmp[-1] * np.cos(tht_tmp * deg2rad)\n",
    "        max_k = abs(np.min(k_tmp))\n",
    "        if max_k < k_max:\n",
    "            iterate = False\n",
    "            \n",
    "tht = tht_tmp[0:-1]\n",
    "\n",
    "for i in range(1,pieces):\n",
    "    x_tmp = np.linspace(0,h/pieces,int(pieces_length[i]))\n",
    "    tht_tmp = 0 + T[i] + (T[i+1] - T[i]) * x_tmp / x_tmp[-1]\n",
    "    k_tmp = (T[i+1] - T[i]) * deg2rad / x_tmp[-1] * np.cos(tht_tmp * deg2rad)\n",
    "\n",
    "    max_k = np.max(k_tmp)\n",
    "    min_k= np.min(k_tmp)\n",
    "    if max_k >= abs(min_k):\n",
    "        maxim = max_k\n",
    "        flag_pos = True\n",
    "    else:\n",
    "        maxim = abs(min_k)\n",
    "        flag_pos = False\n",
    "\n",
    "    if maxim > k_max and flag_pos:\n",
    "        iterate = True\n",
    "        while iterate:\n",
    "            T[i+1] -= 1\n",
    "            tht_tmp = 0 + T[i] + (T[i+1] - T[i]) * x_tmp / x_tmp[-1]\n",
    "            k_tmp = (T[i+1] - T[i]) * deg2rad / x_tmp[-1] * np.cos(tht_tmp * deg2rad)\n",
    "            max_k = np.max(k_tmp)\n",
    "            if max_k < k_max:\n",
    "                iterate = False\n",
    "    elif maxim > k_max and not flag_pos:\n",
    "        iterate = True\n",
    "        while iterate:\n",
    "            T[i+1] += 1\n",
    "            tht_tmp = 0 + T[i] + (T[i+1] - T[i]) * x_tmp / x_tmp[-1]\n",
    "            k_tmp = (T[i+1] - T[i]) * deg2rad / x_tmp[-1] * np.cos(tht_tmp * deg2rad)\n",
    "            max_k = abs(np.min(k_tmp))\n",
    "            if max_k < k_max:\n",
    "                iterate = False\n",
    "    tht = np.concatenate([tht, tht_tmp])\n",
    "print(T)\n",
    "\n",
    "# tht = np.concatenate([tht_1[0:-1], tht_2])\n",
    "\n",
    "# y = np.array([np.tan(tht[i]*deg2rad)*mesh_size for i in range(len(tht))])\n",
    "# yy = np.zeros(len(y))\n",
    "# for i in range(len(y) - 1):\n",
    "#     yy[i + 1] = yy[i] + y[i + 1]"
   ]
  },
  {
   "cell_type": "code",
   "execution_count": 9,
   "metadata": {},
   "outputs": [
    {
     "data": {
      "text/plain": [
       "70"
      ]
     },
     "execution_count": 9,
     "metadata": {},
     "output_type": "execute_result"
    }
   ],
   "source": [
    "len(tht)"
   ]
  },
  {
   "cell_type": "code",
   "execution_count": 10,
   "metadata": {},
   "outputs": [
    {
     "data": {
      "text/plain": [
       "[<matplotlib.lines.Line2D at 0x26e474f64c8>]"
      ]
     },
     "execution_count": 10,
     "metadata": {},
     "output_type": "execute_result"
    },
    {
     "data": {
      "image/png": "[encoded data removed]",
      "text/plain": [
       "<Figure size 432x288 with 1 Axes>"
      ]
     },
     "metadata": {
      "needs_background": "light"
     },
     "output_type": "display_data"
    }
   ],
   "source": [
    "plt.plot(x, yy)"
   ]
  },
  {
   "cell_type": "code",
   "execution_count": 11,
   "metadata": {},
   "outputs": [],
   "source": [
    "# from scipy.optimize import fsolve\n",
    "# def T_max(height, l_tmp, mesh_size, T0, T1, k_max):\n",
    "#     x_tmp = np.linspace(0,height/2,l_tmp)\n",
    "#     tht_tmp = 0 + T0 + (T1 - T0) * x_tmp / x_tmp[-1]\n",
    "#     k_tmp = (T1 - T0) * deg2rad / x_tmp[-1] * np.cos(tht_tmp * deg2rad)\n",
    "    \n",
    "#     max_value = np.amax(abs(k_tmp))\n",
    "#     max_pos = np.where(abs(k_tmp) == max_value)\n",
    "\n",
    "#     if max_value > k_max:\n",
    "#         def curvature(T_hat):\n",
    "#             tht_foo = 0 + T0 + (T_hat - T0) * x_tmp / x_tmp[-1]\n",
    "#             k_foo = (T_hat - T0) * deg2rad / x_tmp[-1] * np.cos(tht_tmp * deg2rad)\n",
    "#             max_value = np.amax(abs(k_foo))\n",
    "#             max_pos = np.where(abs(k_foo) == max_value)\n",
    "#             phi = T0 + (T_hat - T0) * x_tmp[max_pos] / x_tmp[-1]\n",
    "#             kappa = (T_hat - T0) * deg2rad / x_tmp[-1] * np.cos(phi * deg2rad)\n",
    "#             return k_max - kappa\n",
    "\n",
    "#         new_T = fsolve(curvature, T1)\n",
    "#     else:\n",
    "#         new_T = T1\n",
    "    \n",
    "#     return new_T\n",
    "        \n",
    "# new_t = T_max(h, mid, mesh_size, T[0], T[1], k_max)"
   ]
  },
  {
   "cell_type": "code",
   "execution_count": null,
   "metadata": {},
   "outputs": [],
   "source": []
  }
 ],
 "metadata": {
  "kernelspec": {
   "display_name": "Python 3",
   "language": "python",
   "name": "python3"
  },
  "language_info": {
   "codemirror_mode": {
    "name": "ipython",
    "version": 3
   },
   "file_extension": ".py",
   "mimetype": "text/x-python",
   "name": "python",
   "nbconvert_exporter": "python",
   "pygments_lexer": "ipython3",
   "version": "3.7.4"
  }
 },
 "nbformat": 4,
 "nbformat_minor": 4
}
