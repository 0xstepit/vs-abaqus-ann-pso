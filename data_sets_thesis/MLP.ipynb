{
 "cells": [
  {
   "cell_type": "markdown",
   "metadata": {
    "colab_type": "text",
    "id": "GLQLStKwyzgs"
   },
   "source": [
    "# **METAMODELING WITH ARTIFICIAL NEURAL NETWORK**\n",
    "\n",
    "In this notebook, we will use the results of Abaqus analyses in order to build an Artificial Neural Network (ANN) of the Finite Element (FE) analysis solver."
   ]
  },
  {
   "cell_type": "code",
   "execution_count": 1,
   "metadata": {
    "colab": {},
    "colab_type": "code",
    "id": "1HiM0koqnW-b"
   },
   "outputs": [],
   "source": [
    "# Install latest Tensorflow build\n",
    "#!pip install -q tf-nightly-2.0-preview\n",
    "from tensorflow import summary\n",
    "%load_ext tensorboard"
   ]
  },
  {
   "cell_type": "code",
   "execution_count": 2,
   "metadata": {
    "colab": {},
    "colab_type": "code",
    "id": "Orwif6dIvF4t"
   },
   "outputs": [],
   "source": [
    "import matplotlib.pyplot as plt\n",
    "import pandas as pd\n",
    "import numpy as np\n",
    "import random\n",
    "import time\n",
    "import sys\n",
    "import os"
   ]
  },
  {
   "cell_type": "code",
   "execution_count": 62,
   "metadata": {
    "colab": {
     "base_uri": "https://localhost:8080/",
     "height": 51
    },
    "colab_type": "code",
    "id": "Bwj567NSvHv1",
    "outputId": "e91823c3-87c5-47fe-cca9-cd505741e7ff"
   },
   "outputs": [
    {
     "name": "stdout",
     "output_type": "stream",
     "text": [
      "Requirement already satisfied: pyrenn in /opt/anaconda3/lib/python3.7/site-packages (0.1)\r\n",
      "Requirement already satisfied: numpy in /opt/anaconda3/lib/python3.7/site-packages (from pyrenn) (1.18.1)\r\n"
     ]
    }
   ],
   "source": [
    "# Scikit-learn\n",
    "from sklearn.model_selection import train_test_split\n",
    "\n",
    "# PyTorch\n",
    "import torch\n",
    "import torch.utils.data as Data\n",
    "from torch.autograd import Variable\n",
    "from torch.nn.parameter import Parameter\n",
    "import torch.nn as nn\n",
    "import torch.nn.functional as F\n",
    "import torch.optim as optim\n",
    "import torch.nn.init as init\n",
    "from torch.utils.tensorboard import SummaryWriter\n",
    "\n",
    "# Pyrenn\n",
    "! pip install pyrenn\n",
    "import pyrenn as prn\n",
    "\n",
    "# Matplotlib spec\n",
    "from matplotlib import rc\n",
    "rc('font',**{'family':'serif','serif':['Palatino']}) # Palatino font\n",
    "plt.rcParams['pdf.fonttype'] = 42"
   ]
  },
  {
   "cell_type": "code",
   "execution_count": 4,
   "metadata": {
    "colab": {
     "base_uri": "https://localhost:8080/",
     "height": 34
    },
    "colab_type": "code",
    "id": "jqtrSiFqdBTe",
    "outputId": "1cd691d5-fc75-4420-b6e5-d331a6ee9c38"
   },
   "outputs": [
    {
     "data": {
      "text/plain": [
       "'1.5.0'"
      ]
     },
     "execution_count": 4,
     "metadata": {},
     "output_type": "execute_result"
    }
   ],
   "source": [
    "torch.__version__"
   ]
  },
  {
   "cell_type": "markdown",
   "metadata": {
    "colab_type": "text",
    "id": "xMkgB8U2dS1A"
   },
   "source": [
    "When this notebook has been generated the result of the previous line of code is: _'1.5.1+cu101'_"
   ]
  },
  {
   "cell_type": "markdown",
   "metadata": {
    "colab_type": "text",
    "id": "JZDSnO7jyzg8"
   },
   "source": [
    "We fix the seed in order to obtain reproducible results.\n",
    "\n",
    "__N.B.__ : Reproducible results are obtained every time the runtime is restarded and runned. If you run multiple time the same cell the results will not be reporducible."
   ]
  },
  {
   "cell_type": "code",
   "execution_count": 5,
   "metadata": {
    "colab": {},
    "colab_type": "code",
    "id": "SytMvTAE22lL"
   },
   "outputs": [],
   "source": [
    "seed = 0\n",
    "np.random.seed(seed=seed)\n",
    "torch.manual_seed(seed=seed)\n",
    "random.seed(seed)\n",
    "torch.backends.cudnn.deterministic = True\n",
    "torch.cuda.manual_seed(seed=seed)"
   ]
  },
  {
   "cell_type": "markdown",
   "metadata": {
    "colab_type": "text",
    "id": "bxRgA_ioyzhA"
   },
   "source": [
    "## **Data preprocessing**\n",
    "\n",
    "We start by importing some information about the model used to generate the dataset."
   ]
  },
  {
   "cell_type": "code",
   "execution_count": 7,
   "metadata": {
    "colab": {
     "base_uri": "https://localhost:8080/",
     "height": 80
    },
    "colab_type": "code",
    "id": "0FZ6R8aeyzhB",
    "outputId": "e6f59f12-68cb-4eb0-dd90-990424b0c8c0"
   },
   "outputs": [
    {
     "data": {
      "text/html": [
       "<div>\n",
       "<style scoped>\n",
       "    .dataframe tbody tr th:only-of-type {\n",
       "        vertical-align: middle;\n",
       "    }\n",
       "\n",
       "    .dataframe tbody tr th {\n",
       "        vertical-align: top;\n",
       "    }\n",
       "\n",
       "    .dataframe thead th {\n",
       "        text-align: right;\n",
       "    }\n",
       "</style>\n",
       "<table border=\"1\" class=\"dataframe\">\n",
       "  <thead>\n",
       "    <tr style=\"text-align: right;\">\n",
       "      <th></th>\n",
       "      <th>Height</th>\n",
       "      <th>Radius</th>\n",
       "      <th>MaxCurvature</th>\n",
       "      <th>MeshSize</th>\n",
       "      <th>Plies</th>\n",
       "      <th>EffectivePlies</th>\n",
       "      <th>Symmetric</th>\n",
       "      <th>Balanced</th>\n",
       "      <th>AnglesFunction</th>\n",
       "      <th>LoadCase</th>\n",
       "      <th>Train</th>\n",
       "      <th>Val</th>\n",
       "      <th>Test</th>\n",
       "    </tr>\n",
       "  </thead>\n",
       "  <tbody>\n",
       "    <tr>\n",
       "      <th>Value</th>\n",
       "      <td>705</td>\n",
       "      <td>300</td>\n",
       "      <td>0.001575</td>\n",
       "      <td>5</td>\n",
       "      <td>8</td>\n",
       "      <td>2</td>\n",
       "      <td>True</td>\n",
       "      <td>True</td>\n",
       "      <td>harmlin</td>\n",
       "      <td>axial</td>\n",
       "      <td>81</td>\n",
       "      <td>27</td>\n",
       "      <td>27</td>\n",
       "    </tr>\n",
       "  </tbody>\n",
       "</table>\n",
       "</div>"
      ],
      "text/plain": [
       "       Height  Radius  MaxCurvature  MeshSize  Plies  EffectivePlies  \\\n",
       "Value     705     300      0.001575         5      8               2   \n",
       "\n",
       "       Symmetric  Balanced AnglesFunction LoadCase  Train  Val  Test  \n",
       "Value       True      True        harmlin    axial     81   27    27  "
      ]
     },
     "execution_count": 7,
     "metadata": {},
     "output_type": "execute_result"
    }
   ],
   "source": [
    "# Modify parameter to choose the output folder to consider\n",
    "stacking_sequence = 'symmetric'\n",
    "data_set = 'large1.65'\n",
    "load_case = 'torsion'\n",
    "fiber_path = 'harmlin'\n",
    "\n",
    "# Check if notebook running in Colab\n",
    "is_colab = 'google.colab' in sys.modules\n",
    "\n",
    "# Model info folder\n",
    "input_folder = './'\n",
    "\n",
    "info = pd.read_csv(input_folder + 'model_info.csv', sep=\";\")\n",
    "info.index = ['Value']\n",
    "eff_plies = int(info['EffectivePlies'].values)\n",
    "info.head()"
   ]
  },
  {
   "cell_type": "code",
   "execution_count": 17,
   "metadata": {},
   "outputs": [],
   "source": [
    "sets = ['Train', 'Val', 'Test']\n",
    "for set in sets:\n",
    "    if set not in info.keys():\n",
    "        sets.remove(set)"
   ]
  },
  {
   "cell_type": "markdown",
   "metadata": {
    "colab_type": "text",
    "id": "EIBWzRwLyzhG"
   },
   "source": [
    "At this point we have to import the data set containing the input and output of the FE analysis. The data is stored in a dataframe in which the upper part is associated to the training set and the lower part to the test set. The precise number of upper row belonging to the train set is indicated in the info above."
   ]
  },
  {
   "cell_type": "code",
   "execution_count": 26,
   "metadata": {
    "colab": {
     "base_uri": "https://localhost:8080/",
     "height": 419
    },
    "colab_type": "code",
    "id": "niD2Q60oyzhG",
    "outputId": "6046f3fb-ed80-4099-aa94-7eb2dd87de49"
   },
   "outputs": [
    {
     "data": {
      "text/html": [
       "<div>\n",
       "<style scoped>\n",
       "    .dataframe tbody tr th:only-of-type {\n",
       "        vertical-align: middle;\n",
       "    }\n",
       "\n",
       "    .dataframe tbody tr th {\n",
       "        vertical-align: top;\n",
       "    }\n",
       "\n",
       "    .dataframe thead th {\n",
       "        text-align: right;\n",
       "    }\n",
       "</style>\n",
       "<table border=\"1\" class=\"dataframe\">\n",
       "  <thead>\n",
       "    <tr style=\"text-align: right;\">\n",
       "      <th></th>\n",
       "      <th>Amplitude1</th>\n",
       "      <th>PhaseShift1</th>\n",
       "      <th>Omega1</th>\n",
       "      <th>Beta1</th>\n",
       "      <th>Amplitude2</th>\n",
       "      <th>PhaseShift2</th>\n",
       "      <th>Omega2</th>\n",
       "      <th>Beta2</th>\n",
       "      <th>Buckling</th>\n",
       "      <th>Stiffness</th>\n",
       "    </tr>\n",
       "  </thead>\n",
       "  <tbody>\n",
       "    <tr>\n",
       "      <th>0</th>\n",
       "      <td>65.08</td>\n",
       "      <td>20.60</td>\n",
       "      <td>0.39</td>\n",
       "      <td>38.52</td>\n",
       "      <td>14.60</td>\n",
       "      <td>76.85</td>\n",
       "      <td>1.27</td>\n",
       "      <td>13.29</td>\n",
       "      <td>235.051</td>\n",
       "      <td>281175.0</td>\n",
       "    </tr>\n",
       "    <tr>\n",
       "      <th>1</th>\n",
       "      <td>24.39</td>\n",
       "      <td>85.65</td>\n",
       "      <td>1.72</td>\n",
       "      <td>7.86</td>\n",
       "      <td>46.78</td>\n",
       "      <td>69.20</td>\n",
       "      <td>0.66</td>\n",
       "      <td>27.25</td>\n",
       "      <td>239.225</td>\n",
       "      <td>388831.0</td>\n",
       "    </tr>\n",
       "    <tr>\n",
       "      <th>2</th>\n",
       "      <td>19.29</td>\n",
       "      <td>45.21</td>\n",
       "      <td>1.29</td>\n",
       "      <td>8.63</td>\n",
       "      <td>87.30</td>\n",
       "      <td>76.00</td>\n",
       "      <td>0.53</td>\n",
       "      <td>2.56</td>\n",
       "      <td>190.754</td>\n",
       "      <td>465806.0</td>\n",
       "    </tr>\n",
       "    <tr>\n",
       "      <th>3</th>\n",
       "      <td>65.79</td>\n",
       "      <td>62.30</td>\n",
       "      <td>0.25</td>\n",
       "      <td>2.35</td>\n",
       "      <td>20.34</td>\n",
       "      <td>16.69</td>\n",
       "      <td>1.16</td>\n",
       "      <td>19.37</td>\n",
       "      <td>182.235</td>\n",
       "      <td>448824.0</td>\n",
       "    </tr>\n",
       "    <tr>\n",
       "      <th>4</th>\n",
       "      <td>13.92</td>\n",
       "      <td>28.67</td>\n",
       "      <td>0.07</td>\n",
       "      <td>26.28</td>\n",
       "      <td>57.23</td>\n",
       "      <td>84.57</td>\n",
       "      <td>0.48</td>\n",
       "      <td>20.18</td>\n",
       "      <td>248.555</td>\n",
       "      <td>365717.0</td>\n",
       "    </tr>\n",
       "    <tr>\n",
       "      <th>...</th>\n",
       "      <td>...</td>\n",
       "      <td>...</td>\n",
       "      <td>...</td>\n",
       "      <td>...</td>\n",
       "      <td>...</td>\n",
       "      <td>...</td>\n",
       "      <td>...</td>\n",
       "      <td>...</td>\n",
       "      <td>...</td>\n",
       "      <td>...</td>\n",
       "    </tr>\n",
       "    <tr>\n",
       "      <th>130</th>\n",
       "      <td>73.83</td>\n",
       "      <td>10.10</td>\n",
       "      <td>0.30</td>\n",
       "      <td>15.26</td>\n",
       "      <td>19.30</td>\n",
       "      <td>48.92</td>\n",
       "      <td>1.81</td>\n",
       "      <td>7.24</td>\n",
       "      <td>225.731</td>\n",
       "      <td>421545.0</td>\n",
       "    </tr>\n",
       "    <tr>\n",
       "      <th>131</th>\n",
       "      <td>33.20</td>\n",
       "      <td>6.00</td>\n",
       "      <td>1.23</td>\n",
       "      <td>36.61</td>\n",
       "      <td>94.59</td>\n",
       "      <td>58.90</td>\n",
       "      <td>0.23</td>\n",
       "      <td>26.93</td>\n",
       "      <td>225.708</td>\n",
       "      <td>194835.0</td>\n",
       "    </tr>\n",
       "    <tr>\n",
       "      <th>132</th>\n",
       "      <td>33.40</td>\n",
       "      <td>23.11</td>\n",
       "      <td>0.11</td>\n",
       "      <td>7.64</td>\n",
       "      <td>42.03</td>\n",
       "      <td>76.21</td>\n",
       "      <td>0.85</td>\n",
       "      <td>17.11</td>\n",
       "      <td>178.640</td>\n",
       "      <td>452326.0</td>\n",
       "    </tr>\n",
       "    <tr>\n",
       "      <th>133</th>\n",
       "      <td>23.20</td>\n",
       "      <td>25.50</td>\n",
       "      <td>0.49</td>\n",
       "      <td>32.97</td>\n",
       "      <td>84.96</td>\n",
       "      <td>32.20</td>\n",
       "      <td>0.18</td>\n",
       "      <td>9.29</td>\n",
       "      <td>243.416</td>\n",
       "      <td>322473.0</td>\n",
       "    </tr>\n",
       "    <tr>\n",
       "      <th>134</th>\n",
       "      <td>11.04</td>\n",
       "      <td>71.92</td>\n",
       "      <td>0.43</td>\n",
       "      <td>34.01</td>\n",
       "      <td>65.61</td>\n",
       "      <td>71.46</td>\n",
       "      <td>1.15</td>\n",
       "      <td>37.22</td>\n",
       "      <td>242.012</td>\n",
       "      <td>157904.0</td>\n",
       "    </tr>\n",
       "  </tbody>\n",
       "</table>\n",
       "<p>135 rows × 10 columns</p>\n",
       "</div>"
      ],
      "text/plain": [
       "     Amplitude1  PhaseShift1  Omega1  Beta1  Amplitude2  PhaseShift2  Omega2  \\\n",
       "0         65.08        20.60    0.39  38.52       14.60        76.85    1.27   \n",
       "1         24.39        85.65    1.72   7.86       46.78        69.20    0.66   \n",
       "2         19.29        45.21    1.29   8.63       87.30        76.00    0.53   \n",
       "3         65.79        62.30    0.25   2.35       20.34        16.69    1.16   \n",
       "4         13.92        28.67    0.07  26.28       57.23        84.57    0.48   \n",
       "..          ...          ...     ...    ...         ...          ...     ...   \n",
       "130       73.83        10.10    0.30  15.26       19.30        48.92    1.81   \n",
       "131       33.20         6.00    1.23  36.61       94.59        58.90    0.23   \n",
       "132       33.40        23.11    0.11   7.64       42.03        76.21    0.85   \n",
       "133       23.20        25.50    0.49  32.97       84.96        32.20    0.18   \n",
       "134       11.04        71.92    0.43  34.01       65.61        71.46    1.15   \n",
       "\n",
       "     Beta2  Buckling  Stiffness  \n",
       "0    13.29   235.051   281175.0  \n",
       "1    27.25   239.225   388831.0  \n",
       "2     2.56   190.754   465806.0  \n",
       "3    19.37   182.235   448824.0  \n",
       "4    20.18   248.555   365717.0  \n",
       "..     ...       ...        ...  \n",
       "130   7.24   225.731   421545.0  \n",
       "131  26.93   225.708   194835.0  \n",
       "132  17.11   178.640   452326.0  \n",
       "133   9.29   243.416   322473.0  \n",
       "134  37.22   242.012   157904.0  \n",
       "\n",
       "[135 rows x 10 columns]"
      ]
     },
     "execution_count": 26,
     "metadata": {},
     "output_type": "execute_result"
    }
   ],
   "source": [
    "# Data folder\n",
    "data_folder = './'\n",
    "\n",
    "data_orig = pd.read_csv(data_folder + '/data.csv', sep=';')\n",
    "data = data_orig.drop(columns='Stiffness')\n",
    "data_orig"
   ]
  },
  {
   "cell_type": "markdown",
   "metadata": {
    "colab_type": "text",
    "id": "S9U4RPrnyzhP"
   },
   "source": [
    "The most important step to perform before training our model is the normalization of the variables. Different strategies are possible at this end, among which 2 are the most used:\n",
    "\n",
    "* Range normalization: converts all the values to the range $[0, 1]$\n",
    "\n",
    "* Standard score normalization: forces the variables to have $0$ mean and $1$ standard deviation\n",
    "\n",
    "We will try both to see the effect on the model performance."
   ]
  },
  {
   "cell_type": "code",
   "execution_count": 27,
   "metadata": {
    "colab": {},
    "colab_type": "code",
    "id": "-ZVjkHziyzhQ"
   },
   "outputs": [],
   "source": [
    "def range_norm(x):\n",
    "    \"\"\"normalization in range [0, 1]\"\"\"\n",
    "    x_min = np.min(x, axis=0)\n",
    "    x_max = np.max(x, axis=0)\n",
    "    x_norm = (x - x_min) / (x_max - x_min)\n",
    "\n",
    "    return x_norm\n",
    "\n",
    "def std_norm(x):\n",
    "    \"\"\"normalization with zero mean and unitary standard deviation\"\"\"\n",
    "    m = np.mean(x, axis=0)\n",
    "    s = np.std(x, axis=0)\n",
    "    x_norm = (x - m) / s\n",
    "    \n",
    "    return x_norm"
   ]
  },
  {
   "cell_type": "code",
   "execution_count": 28,
   "metadata": {
    "colab": {
     "base_uri": "https://localhost:8080/",
     "height": 297
    },
    "colab_type": "code",
    "id": "ORbqtnh-yzhR",
    "outputId": "d18315cf-cbc9-40f5-f987-26f6485bba5b"
   },
   "outputs": [
    {
     "data": {
      "text/html": [
       "<div>\n",
       "<style scoped>\n",
       "    .dataframe tbody tr th:only-of-type {\n",
       "        vertical-align: middle;\n",
       "    }\n",
       "\n",
       "    .dataframe tbody tr th {\n",
       "        vertical-align: top;\n",
       "    }\n",
       "\n",
       "    .dataframe thead th {\n",
       "        text-align: right;\n",
       "    }\n",
       "</style>\n",
       "<table border=\"1\" class=\"dataframe\">\n",
       "  <thead>\n",
       "    <tr style=\"text-align: right;\">\n",
       "      <th></th>\n",
       "      <th>Amplitude1</th>\n",
       "      <th>PhaseShift1</th>\n",
       "      <th>Omega1</th>\n",
       "      <th>Beta1</th>\n",
       "      <th>Amplitude2</th>\n",
       "      <th>PhaseShift2</th>\n",
       "      <th>Omega2</th>\n",
       "      <th>Beta2</th>\n",
       "      <th>Buckling</th>\n",
       "      <th>Stiffness</th>\n",
       "    </tr>\n",
       "  </thead>\n",
       "  <tbody>\n",
       "    <tr>\n",
       "      <th>count</th>\n",
       "      <td>135.000000</td>\n",
       "      <td>135.000000</td>\n",
       "      <td>135.000000</td>\n",
       "      <td>135.000000</td>\n",
       "      <td>135.000000</td>\n",
       "      <td>135.000000</td>\n",
       "      <td>135.000000</td>\n",
       "      <td>135.000000</td>\n",
       "      <td>135.000000</td>\n",
       "      <td>135.000000</td>\n",
       "    </tr>\n",
       "    <tr>\n",
       "      <th>mean</th>\n",
       "      <td>0.503193</td>\n",
       "      <td>0.501657</td>\n",
       "      <td>0.342395</td>\n",
       "      <td>0.497512</td>\n",
       "      <td>0.500112</td>\n",
       "      <td>0.502561</td>\n",
       "      <td>0.366686</td>\n",
       "      <td>0.502270</td>\n",
       "      <td>0.495412</td>\n",
       "      <td>0.510102</td>\n",
       "    </tr>\n",
       "    <tr>\n",
       "      <th>std</th>\n",
       "      <td>0.293347</td>\n",
       "      <td>0.293968</td>\n",
       "      <td>0.256763</td>\n",
       "      <td>0.293973</td>\n",
       "      <td>0.295692</td>\n",
       "      <td>0.293923</td>\n",
       "      <td>0.262649</td>\n",
       "      <td>0.292343</td>\n",
       "      <td>0.216112</td>\n",
       "      <td>0.258279</td>\n",
       "    </tr>\n",
       "    <tr>\n",
       "      <th>min</th>\n",
       "      <td>0.000000</td>\n",
       "      <td>0.000000</td>\n",
       "      <td>0.000000</td>\n",
       "      <td>0.000000</td>\n",
       "      <td>0.000000</td>\n",
       "      <td>0.000000</td>\n",
       "      <td>0.000000</td>\n",
       "      <td>0.000000</td>\n",
       "      <td>0.000000</td>\n",
       "      <td>0.000000</td>\n",
       "    </tr>\n",
       "    <tr>\n",
       "      <th>25%</th>\n",
       "      <td>0.257680</td>\n",
       "      <td>0.250901</td>\n",
       "      <td>0.147208</td>\n",
       "      <td>0.248591</td>\n",
       "      <td>0.243842</td>\n",
       "      <td>0.251185</td>\n",
       "      <td>0.154450</td>\n",
       "      <td>0.256666</td>\n",
       "      <td>0.369555</td>\n",
       "      <td>0.285821</td>\n",
       "    </tr>\n",
       "    <tr>\n",
       "      <th>50%</th>\n",
       "      <td>0.503545</td>\n",
       "      <td>0.498198</td>\n",
       "      <td>0.274112</td>\n",
       "      <td>0.500563</td>\n",
       "      <td>0.501305</td>\n",
       "      <td>0.511515</td>\n",
       "      <td>0.324607</td>\n",
       "      <td>0.502129</td>\n",
       "      <td>0.505081</td>\n",
       "      <td>0.523821</td>\n",
       "    </tr>\n",
       "    <tr>\n",
       "      <th>75%</th>\n",
       "      <td>0.750760</td>\n",
       "      <td>0.753660</td>\n",
       "      <td>0.497462</td>\n",
       "      <td>0.745436</td>\n",
       "      <td>0.748326</td>\n",
       "      <td>0.757507</td>\n",
       "      <td>0.528796</td>\n",
       "      <td>0.750168</td>\n",
       "      <td>0.633420</td>\n",
       "      <td>0.712391</td>\n",
       "    </tr>\n",
       "    <tr>\n",
       "      <th>max</th>\n",
       "      <td>1.000000</td>\n",
       "      <td>1.000000</td>\n",
       "      <td>1.000000</td>\n",
       "      <td>1.000000</td>\n",
       "      <td>1.000000</td>\n",
       "      <td>1.000000</td>\n",
       "      <td>1.000000</td>\n",
       "      <td>1.000000</td>\n",
       "      <td>1.000000</td>\n",
       "      <td>1.000000</td>\n",
       "    </tr>\n",
       "  </tbody>\n",
       "</table>\n",
       "</div>"
      ],
      "text/plain": [
       "       Amplitude1  PhaseShift1      Omega1       Beta1  Amplitude2  \\\n",
       "count  135.000000   135.000000  135.000000  135.000000  135.000000   \n",
       "mean     0.503193     0.501657    0.342395    0.497512    0.500112   \n",
       "std      0.293347     0.293968    0.256763    0.293973    0.295692   \n",
       "min      0.000000     0.000000    0.000000    0.000000    0.000000   \n",
       "25%      0.257680     0.250901    0.147208    0.248591    0.243842   \n",
       "50%      0.503545     0.498198    0.274112    0.500563    0.501305   \n",
       "75%      0.750760     0.753660    0.497462    0.745436    0.748326   \n",
       "max      1.000000     1.000000    1.000000    1.000000    1.000000   \n",
       "\n",
       "       PhaseShift2      Omega2       Beta2    Buckling   Stiffness  \n",
       "count   135.000000  135.000000  135.000000  135.000000  135.000000  \n",
       "mean      0.502561    0.366686    0.502270    0.495412    0.510102  \n",
       "std       0.293923    0.262649    0.292343    0.216112    0.258279  \n",
       "min       0.000000    0.000000    0.000000    0.000000    0.000000  \n",
       "25%       0.251185    0.154450    0.256666    0.369555    0.285821  \n",
       "50%       0.511515    0.324607    0.502129    0.505081    0.523821  \n",
       "75%       0.757507    0.528796    0.750168    0.633420    0.712391  \n",
       "max       1.000000    1.000000    1.000000    1.000000    1.000000  "
      ]
     },
     "execution_count": 28,
     "metadata": {},
     "output_type": "execute_result"
    }
   ],
   "source": [
    "data_norm = range_norm(data_orig)\n",
    "data_norm.describe()"
   ]
  },
  {
   "cell_type": "markdown",
   "metadata": {
    "colab_type": "text",
    "id": "TL3mX63XyzhT"
   },
   "source": [
    "Now we can split the data into training and test set. The two sets have been generate independently during the DOE."
   ]
  },
  {
   "cell_type": "code",
   "execution_count": 59,
   "metadata": {
    "colab": {
     "base_uri": "https://localhost:8080/",
     "height": 153
    },
    "colab_type": "code",
    "id": "uy149NwNyzhT",
    "outputId": "224f9a13-bed4-4c54-f05e-a4eee762b812"
   },
   "outputs": [
    {
     "name": "stdout",
     "output_type": "stream",
     "text": [
      "             - - - - - - - \n",
      "            |Problem info:|\n",
      "             - - - - - - -  \n",
      "\n",
      "X_train : (81, 8)  |  Y_train : (81, 2)\n",
      "X_val   : (27, 8)  |  Y_val   : (27, 2)\n",
      "X_test  : (27, 8)  |  Y_test  : (27, 2) \n",
      "\n"
     ]
    }
   ],
   "source": [
    "X = data_norm.drop(['Buckling', 'Stiffness'], axis=1).values\n",
    "Y = data_norm[['Buckling','Stiffness']].values\n",
    "\n",
    "# Train set\n",
    "train_smp = int(info['Train'].values)\n",
    "X_train = X[:train_smp, :]\n",
    "Y_train = Y[:train_smp]\n",
    "last = np.copy(train_smp)\n",
    "\n",
    "# Validation set\n",
    "if 'Val' in sets:\n",
    "    val_smp = int(info['Val'].values)\n",
    "    X_val = X[last:last+val_smp, :]\n",
    "    Y_val = Y[last:last+val_smp]\n",
    "    last += val_smp\n",
    "\n",
    "# Test set\n",
    "if 'Test' in sets:\n",
    "    test_smp = int(info['Test'].values)\n",
    "    X_test = X[last:last+test_smp, :]\n",
    "    Y_test = Y[last:last+test_smp]\n",
    "\n",
    "print('             - - - - - - - ')\n",
    "print('            |Problem info:|')\n",
    "print('             - - - - - - -  \\n')\n",
    "print(\"X_train : {}  |  Y_train : {}\".format(X_train.shape, Y_train.shape))\n",
    "print(\"X_val   : {}  |  Y_val   : {}\".format(X_val.shape, Y_val.shape))\n",
    "print(\"X_test  : {}  |  Y_test  : {} \\n\".format(X_test.shape, Y_test.shape))\n"
   ]
  },
  {
   "cell_type": "markdown",
   "metadata": {
    "colab_type": "text",
    "id": "6ngXLJgnf3zs"
   },
   "source": [
    "At this point we can generate the iterable data sets for Torch"
   ]
  },
  {
   "cell_type": "code",
   "execution_count": 168,
   "metadata": {
    "colab": {},
    "colab_type": "code",
    "id": "J3haXjC9f3UA"
   },
   "outputs": [],
   "source": [
    "# just for the training set\n",
    "batch = 32\n",
    "\n",
    "def _init_fn(worker_id):\n",
    "    np.random.seed(int(seed))\n",
    "    \n",
    "train_dataset = Data.TensorDataset(torch.from_numpy(X_train).float(), torch.from_numpy(Y_train).float())\n",
    "train_loader = Data.DataLoader(dataset=train_dataset, batch_size=batch, shuffle=True, num_workers=0, worker_init_fn=_init_fn)\n",
    "\n",
    "val_dataset = Data.TensorDataset(torch.from_numpy(X_val).float(), torch.from_numpy(Y_val).float())\n",
    "val_loader = Data.DataLoader(dataset=val_dataset, batch_size=X_val.shape[0], shuffle=True, num_workers=0,  worker_init_fn=_init_fn)\n",
    "\n",
    "test_dataset = Data.TensorDataset(torch.from_numpy(X_test).float(), torch.from_numpy(Y_test).float())\n",
    "test_loader = Data.DataLoader(dataset=test_dataset, batch_size=X_test.shape[0], shuffle=True, num_workers=0, worker_init_fn=_init_fn)"
   ]
  },
  {
   "cell_type": "markdown",
   "metadata": {
    "colab_type": "text",
    "id": "-7O7AIIoyzhU"
   },
   "source": [
    "## **Neural network**"
   ]
  },
  {
   "cell_type": "markdown",
   "metadata": {
    "colab_type": "text",
    "id": "Vyx3cytYfs7E"
   },
   "source": [
    "First define network class"
   ]
  },
  {
   "cell_type": "code",
   "execution_count": 192,
   "metadata": {
    "colab": {},
    "colab_type": "code",
    "id": "3aMiO2DUfrIK"
   },
   "outputs": [],
   "source": [
    "class MLPNN(torch.nn.Module):\n",
    "\n",
    "    def __init__(self, D_in, H, D_out):\n",
    "        super(MLPNN, self).__init__()\n",
    "        # First hidden layer\n",
    "        self.W_1 = Parameter(init.xavier_normal_(torch.Tensor(H, D_in)))\n",
    "        self.b_1 = Parameter(init.constant_(torch.Tensor(H), 0))\n",
    "        # Second hidden layer\n",
    "        self.W_2 = Parameter(init.xavier_normal_(torch.Tensor(H, H)))\n",
    "        self.b_2 = Parameter(init.constant_(torch.Tensor(H), 0))\n",
    "        # Third hidden layer\n",
    "        self.W_3 = Parameter(init.xavier_normal_(torch.Tensor(H, H)))\n",
    "        self.b_3 = Parameter(init.constant_(torch.Tensor(H), 0))\n",
    "        # Output layer\n",
    "        self.W_4 = Parameter(init.xavier_normal_(torch.Tensor(D_out, H)))\n",
    "        self.b_4 = Parameter(init.constant_(torch.Tensor(D_out), 0))\n",
    "        \n",
    "        # define activation function in constructor\n",
    "        self.activation_1 = torch.nn.ReLU()\n",
    "        self.activation_2 = torch.nn.ReLU()\n",
    "        self.activation_3 = torch.nn.ReLU()\n",
    "\n",
    "    def forward(self, x):\n",
    "        x = F.linear(x, self.W_1, self.b_1)\n",
    "        x = self.activation_1(x)\n",
    "        x = F.linear(x, self.W_2, self.b_2)\n",
    "        x = self.activation_2(x)\n",
    "        x = F.linear(x, self.W_3, self.b_3)\n",
    "        x = self.activation_3(x)\n",
    "        pred = F.linear(x, self.W_4, self.b_4)\n",
    "        return pred"
   ]
  },
  {
   "cell_type": "code",
   "execution_count": 170,
   "metadata": {},
   "outputs": [],
   "source": [
    "# Lambda function to generate mini-batches\n",
    "get_batch = lambda i, size: range(i * size, (i + 1) * size)"
   ]
  },
  {
   "cell_type": "code",
   "execution_count": 190,
   "metadata": {
    "colab": {
     "base_uri": "https://localhost:8080/",
     "height": 357
    },
    "colab_type": "code",
    "id": "ibkHXkYKmXs6",
    "outputId": "3a2927df-9996-474a-eee5-3ec0d6f12263"
   },
   "outputs": [
    {
     "name": "stdout",
     "output_type": "stream",
     "text": [
      "Iteration : 0 | Train loss : 0.04220 | Val loss : 0.09654\n",
      "Iteration : 100 | Train loss : 0.00837 | Val loss : 0.02631\n",
      "Iteration : 200 | Train loss : 0.00355 | Val loss : 0.02465\n",
      "Iteration : 300 | Train loss : 0.00747 | Val loss : 0.02560\n",
      "Iteration : 400 | Train loss : 0.00439 | Val loss : 0.02708\n",
      "Iteration : 500 | Train loss : 0.00572 | Val loss : 0.02715\n",
      "Iteration : 600 | Train loss : 0.00840 | Val loss : 0.02824\n",
      "Iteration : 700 | Train loss : 0.00595 | Val loss : 0.03039\n",
      "Iteration : 800 | Train loss : 0.00625 | Val loss : 0.02844\n",
      "Iteration : 900 | Train loss : 0.00595 | Val loss : 0.03126\n",
      "Iteration : 1000 | Train loss : 0.00408 | Val loss : 0.03026\n",
      "Iteration : 1100 | Train loss : 0.00573 | Val loss : 0.03032\n",
      "Iteration : 1200 | Train loss : 0.00438 | Val loss : 0.02997\n",
      "Iteration : 1300 | Train loss : 0.00395 | Val loss : 0.02993\n",
      "Iteration : 1400 | Train loss : 0.00604 | Val loss : 0.02894\n",
      "Iteration : 1500 | Train loss : 0.00429 | Val loss : 0.03053\n",
      "Iteration : 1600 | Train loss : 0.00445 | Val loss : 0.02918\n",
      "Iteration : 1700 | Train loss : 0.00486 | Val loss : 0.02937\n",
      "Iteration : 1800 | Train loss : 0.00396 | Val loss : 0.02858\n",
      "Iteration : 1900 | Train loss : 0.00476 | Val loss : 0.02918\n",
      "Iteration : 2000 | Train loss : 0.00390 | Val loss : 0.02885\n",
      "Iteration : 2100 | Train loss : 0.00462 | Val loss : 0.02845\n",
      "Iteration : 2200 | Train loss : 0.00391 | Val loss : 0.02812\n",
      "Iteration : 2300 | Train loss : 0.00578 | Val loss : 0.02777\n",
      "Iteration : 2400 | Train loss : 0.00386 | Val loss : 0.02974\n",
      "Iteration : 2500 | Train loss : 0.00323 | Val loss : 0.02783\n",
      "Iteration : 2600 | Train loss : 0.00486 | Val loss : 0.02751\n",
      "Iteration : 2700 | Train loss : 0.00409 | Val loss : 0.02990\n",
      "Iteration : 2800 | Train loss : 0.00428 | Val loss : 0.02900\n",
      "Iteration : 2900 | Train loss : 0.00350 | Val loss : 0.02887\n",
      "Iteration : 3000 | Train loss : 0.00482 | Val loss : 0.02864\n",
      "Iteration : 3100 | Train loss : 0.00497 | Val loss : 0.02948\n",
      "Iteration : 3200 | Train loss : 0.00418 | Val loss : 0.02826\n",
      "Iteration : 3300 | Train loss : 0.00394 | Val loss : 0.02885\n",
      "Iteration : 3400 | Train loss : 0.00389 | Val loss : 0.02874\n",
      "Iteration : 3500 | Train loss : 0.00476 | Val loss : 0.02945\n",
      "Iteration : 3600 | Train loss : 0.00371 | Val loss : 0.02834\n",
      "Iteration : 3700 | Train loss : 0.00413 | Val loss : 0.02922\n",
      "Iteration : 3800 | Train loss : 0.00511 | Val loss : 0.02796\n",
      "Iteration : 3900 | Train loss : 0.00565 | Val loss : 0.02818\n",
      "Iteration : 4000 | Train loss : 0.00303 | Val loss : 0.02848\n",
      "Iteration : 4100 | Train loss : 0.00426 | Val loss : 0.02843\n",
      "Iteration : 4200 | Train loss : 0.00285 | Val loss : 0.02753\n",
      "Iteration : 4300 | Train loss : 0.00506 | Val loss : 0.02801\n",
      "Iteration : 4400 | Train loss : 0.00321 | Val loss : 0.02772\n",
      "Iteration : 4500 | Train loss : 0.00413 | Val loss : 0.02808\n",
      "Iteration : 4600 | Train loss : 0.00463 | Val loss : 0.02816\n",
      "Iteration : 4700 | Train loss : 0.00485 | Val loss : 0.02809\n",
      "Iteration : 4800 | Train loss : 0.00429 | Val loss : 0.02788\n",
      "Iteration : 4900 | Train loss : 0.00678 | Val loss : 0.02798\n",
      "Iteration : 5000 | Train loss : 0.00336 | Val loss : 0.02849\n",
      "Iteration : 5100 | Train loss : 0.00477 | Val loss : 0.02778\n",
      "Iteration : 5200 | Train loss : 0.00465 | Val loss : 0.02835\n",
      "Iteration : 5300 | Train loss : 0.00414 | Val loss : 0.02812\n",
      "Iteration : 5400 | Train loss : 0.00486 | Val loss : 0.02768\n",
      "Iteration : 5500 | Train loss : 0.00324 | Val loss : 0.02793\n",
      "Iteration : 5600 | Train loss : 0.00482 | Val loss : 0.02763\n",
      "Iteration : 5700 | Train loss : 0.00605 | Val loss : 0.02877\n",
      "Iteration : 5800 | Train loss : 0.00362 | Val loss : 0.02879\n",
      "Iteration : 5900 | Train loss : 0.00366 | Val loss : 0.02746\n",
      "Iteration : 6000 | Train loss : 0.00394 | Val loss : 0.02856\n",
      "Iteration : 6100 | Train loss : 0.00518 | Val loss : 0.02731\n",
      "Iteration : 6200 | Train loss : 0.00332 | Val loss : 0.02710\n",
      "Iteration : 6300 | Train loss : 0.00423 | Val loss : 0.02680\n",
      "Iteration : 6400 | Train loss : 0.00702 | Val loss : 0.02841\n",
      "Iteration : 6500 | Train loss : 0.00600 | Val loss : 0.02758\n",
      "Iteration : 6600 | Train loss : 0.00398 | Val loss : 0.02836\n",
      "Iteration : 6700 | Train loss : 0.00448 | Val loss : 0.02686\n",
      "Iteration : 6800 | Train loss : 0.00457 | Val loss : 0.02867\n",
      "Iteration : 6900 | Train loss : 0.00367 | Val loss : 0.02870\n",
      "Iteration : 7000 | Train loss : 0.00423 | Val loss : 0.02815\n",
      "Iteration : 7100 | Train loss : 0.00481 | Val loss : 0.02727\n",
      "Iteration : 7200 | Train loss : 0.00485 | Val loss : 0.02724\n",
      "Iteration : 7300 | Train loss : 0.00616 | Val loss : 0.02829\n",
      "Iteration : 7400 | Train loss : 0.00433 | Val loss : 0.02691\n",
      "Iteration : 7500 | Train loss : 0.00540 | Val loss : 0.02743\n",
      "Iteration : 7600 | Train loss : 0.00520 | Val loss : 0.02768\n",
      "Iteration : 7700 | Train loss : 0.00401 | Val loss : 0.02809\n",
      "Iteration : 7800 | Train loss : 0.00384 | Val loss : 0.02682\n",
      "Iteration : 7900 | Train loss : 0.00692 | Val loss : 0.02786\n",
      "Iteration : 8000 | Train loss : 0.00467 | Val loss : 0.02823\n",
      "Iteration : 8100 | Train loss : 0.00325 | Val loss : 0.02795\n",
      "Iteration : 8200 | Train loss : 0.00814 | Val loss : 0.02731\n",
      "Iteration : 8300 | Train loss : 0.00295 | Val loss : 0.02820\n",
      "Iteration : 8400 | Train loss : 0.00234 | Val loss : 0.02800\n",
      "Iteration : 8500 | Train loss : 0.00493 | Val loss : 0.02845\n",
      "Iteration : 8600 | Train loss : 0.00445 | Val loss : 0.02812\n",
      "Iteration : 8700 | Train loss : 0.00513 | Val loss : 0.02828\n",
      "Iteration : 8800 | Train loss : 0.00505 | Val loss : 0.02773\n",
      "Iteration : 8900 | Train loss : 0.00378 | Val loss : 0.02767\n",
      "Iteration : 9000 | Train loss : 0.00464 | Val loss : 0.02877\n",
      "Iteration : 9100 | Train loss : 0.00392 | Val loss : 0.02863\n",
      "Iteration : 9200 | Train loss : 0.00458 | Val loss : 0.02751\n",
      "Iteration : 9300 | Train loss : 0.00290 | Val loss : 0.02815\n",
      "Iteration : 9400 | Train loss : 0.00688 | Val loss : 0.02749\n",
      "Iteration : 9500 | Train loss : 0.00349 | Val loss : 0.02792\n",
      "Iteration : 9600 | Train loss : 0.00578 | Val loss : 0.02786\n",
      "Iteration : 9700 | Train loss : 0.00560 | Val loss : 0.02816\n",
      "Iteration : 9800 | Train loss : 0.00546 | Val loss : 0.02798\n",
      "Iteration : 9900 | Train loss : 0.00502 | Val loss : 0.02769\n"
     ]
    }
   ],
   "source": [
    "n_x = X_train.shape[1]\n",
    "n_y = Y_train.shape[1]\n",
    "D_in, H, D_out = n_x, 4, n_y\n",
    "\n",
    "modelMLP = MLPNN(D_in, H, D_out)\n",
    "\n",
    "epochs = 10000\n",
    "lr = 1e-2\n",
    "\n",
    "# Flag True if you are in the network optimization process\n",
    "is_optimizing = True\n",
    "\n",
    "# If weight_NN exists and we are not in optimization mode just load\n",
    "# network weights and evaluate the model.\n",
    "if(os.path.isfile('net_weights/weights_NN') and is_optimizing==False):\n",
    "    modelMLP.load_state_dict(torch.load('net_weights/weights_NN'))\n",
    "    print(modelMLP.eval())\n",
    "else:\n",
    "    criterion = nn.MSELoss(reduction='mean') \n",
    "    optimizer = optim.Adam(modelMLP.parameters(), lr=lr, weight_decay=1e-6)\n",
    "    \n",
    "    # Initialize loss lists.\n",
    "    train_loss = []\n",
    "    val_loss = []\n",
    "    test_loss = []\n",
    "    losses = []\n",
    "    curr_loss = 0\n",
    "    \n",
    "    for epoch in range(epochs):\n",
    "        \n",
    "        modelMLP.train()\n",
    "        for step, (batch_x, batch_y) in enumerate(train_loader):\n",
    "            y_pred = modelMLP(batch_x)\n",
    "            \n",
    "            \n",
    "            batch_loss = criterion(y_pred, batch_y)\n",
    "            optimizer.zero_grad()\n",
    "            batch_loss.backward()\n",
    "            optimizer.step()\n",
    "            \n",
    "            curr_loss += batch_loss\n",
    "            \n",
    "        train_loss.append(batch_loss.item() / step)\n",
    "\n",
    "        modelMLP.eval()\n",
    "        \n",
    "        for _, (val_x, val_y) in enumerate(val_loader):\n",
    "            val_pred = modelMLP(val_x)\n",
    "            loss_val = criterion(val_pred, val_y)\n",
    "            \n",
    "        val_loss.append(loss_val.item())\n",
    "\n",
    "        if epoch % 100 == 0:\n",
    "            print(\"Iteration : {} | Train loss : {:.5f} | Val loss : {:.5f}\".format(epoch, train_loss[epoch], val_loss[epoch]))\n",
    "\n",
    "    torch.save(modelMLP.state_dict(), 'weights_NN')\n",
    "\n",
    "tb.add_graph(modelMLP, batch_x)\n",
    "tb.close()"
   ]
  },
  {
   "cell_type": "code",
   "execution_count": 191,
   "metadata": {},
   "outputs": [
    {
     "data": {
      "text/plain": [
       "(-0.0, 0.2)"
      ]
     },
     "execution_count": 191,
     "metadata": {},
     "output_type": "execute_result"
    },
    {
     "data": {
      "image/png": "[encoded data removed]",
      "text/plain": [
       "<Figure size 576x576 with 1 Axes>"
      ]
     },
     "metadata": {
      "needs_background": "light"
     },
     "output_type": "display_data"
    }
   ],
   "source": [
    "plt.figure(figsize=(8, 8))\n",
    "plt.plot(np.arange(epochs), train_loss, 'r', np.arange(epochs), val_loss, 'b')\n",
    "plt.legend(['Train Accucary','Validation Accuracy'])\n",
    "plt.xlabel('Updates'), plt.ylabel('Acc')\n",
    "plt.ylim(-.0, .2)"
   ]
  },
  {
   "cell_type": "code",
   "execution_count": 183,
   "metadata": {},
   "outputs": [
    {
     "name": "stdout",
     "output_type": "stream",
     "text": [
      "True : 0.6952, 0.6050  |  Prediction : 0.5091, 0.6306  |  Error : 0026.77%, -004.22%\n",
      "True : 0.7150, 0.6589  |  Prediction : 0.5231, 0.6586  |  Error : 0026.84%, 0000.05%\n",
      "True : 0.0608, 0.8413  |  Prediction : 0.1165, 0.8364  |  Error : -091.68%, 0000.58%\n",
      "True : 0.3848, 0.7040  |  Prediction : 0.2339, 0.8264  |  Error : 0039.22%, -017.39%\n",
      "True : 0.1405, 0.8262  |  Prediction : 0.3894, 0.7837  |  Error : -177.14%, 0005.14%\n",
      "True : 0.4991, 0.2266  |  Prediction : 0.5337, 0.2596  |  Error : -006.94%, -014.59%\n",
      "True : 0.4369, 0.6837  |  Prediction : 0.5098, 0.5826  |  Error : -016.67%, 0014.78%\n",
      "True : 0.2431, 0.6512  |  Prediction : 0.2136, 0.7444  |  Error : 0012.12%, -014.30%\n",
      "True : 0.6432, 0.2436  |  Prediction : 0.5322, 0.2034  |  Error : 0017.26%, 0016.51%\n",
      "True : 0.4795, 0.2499  |  Prediction : 0.5651, 0.2846  |  Error : -017.84%, -013.90%\n",
      "True : 0.5915, 0.2097  |  Prediction : 0.5999, 0.2321  |  Error : -001.42%, -010.68%\n",
      "True : 0.6205, 0.7150  |  Prediction : 0.2957, 0.8303  |  Error : 0052.34%, -016.12%\n",
      "True : 0.4993, 0.7546  |  Prediction : 0.2503, 0.7221  |  Error : 0049.86%, 0004.30%\n",
      "True : 0.6711, 0.3590  |  Prediction : 0.6632, 0.4093  |  Error : 0001.17%, -014.02%\n",
      "True : 0.0295, 0.9467  |  Prediction : 0.1174, 0.9146  |  Error : -297.92%, 0003.39%\n",
      "True : 0.6233, 0.1405  |  Prediction : 0.5481, 0.1785  |  Error : 0012.07%, -027.01%\n",
      "True : 0.6588, 0.4069  |  Prediction : 0.4990, 0.2552  |  Error : 0024.26%, 0037.29%\n",
      "True : 0.6456, 0.4225  |  Prediction : 0.5721, 0.4583  |  Error : 0011.38%, -008.45%\n",
      "True : 0.3138, 0.8853  |  Prediction : 0.3456, 0.8428  |  Error : -010.12%, 0004.80%\n",
      "True : 0.7180, 0.2829  |  Prediction : 0.5310, 0.2196  |  Error : 0026.05%, 0022.37%\n",
      "True : 0.6204, 0.6272  |  Prediction : 0.4479, 0.5962  |  Error : 0027.80%, 0004.95%\n",
      "True : 0.6340, 0.5238  |  Prediction : 0.6135, 0.4850  |  Error : 0003.23%, 0007.41%\n",
      "True : 0.5091, 0.1811  |  Prediction : 0.5370, 0.1664  |  Error : -005.48%, 0008.11%\n",
      "True : 0.8394, 0.3306  |  Prediction : 0.6269, 0.3571  |  Error : 0025.32%, -008.01%\n",
      "True : 0.4299, 0.0875  |  Prediction : 0.4753, 0.0822  |  Error : -010.57%, 0006.08%\n",
      "True : 0.7094, 0.5861  |  Prediction : 0.5727, 0.4788  |  Error : 0019.27%, 0018.30%\n",
      "True : 0.1592, 0.8399  |  Prediction : 0.5503, 0.7598  |  Error : -245.61%, 0009.54%\n"
     ]
    }
   ],
   "source": [
    "modelMLP.eval()\n",
    "for _, (test_x, test_y) in enumerate(test_loader):\n",
    "    test_pred = modelMLP(test_x)\n",
    "    for i in range(test_y.shape[0]):\n",
    "        err_perc = (test_y.numpy() - test_pred.detach().numpy()) / test_y.numpy() * 100\n",
    "        print(\"True : {:.4f}, {:.4f}  |  Prediction : {:.4f}, {:.4f}  |  Error : {:07.2f}%, {:07.2f}%\".\n",
    "              format(*test_y[i, :].numpy(), *test_pred[i, :].detach().numpy(), *err_perc[i, :]))"
   ]
  },
  {
   "cell_type": "code",
   "execution_count": 17,
   "metadata": {
    "colab": {
     "base_uri": "https://localhost:8080/"
    },
    "colab_type": "code",
    "id": "vxcyjr6IeO3z",
    "outputId": "a373c975-c00c-4223-8db6-7592c3dcf9f8",
    "pycharm": {
     "name": "#%%\n"
    }
   },
   "outputs": [
    {
     "data": {
      "text/plain": [
       "Reusing TensorBoard on port 6006 (pid 258), started 4:47:33 ago. (Use '!kill 258' to kill it.)"
      ]
     },
     "metadata": {
      "tags": []
     },
     "output_type": "display_data"
    },
    {
     "data": {
      "application/javascript": [
       "\n",
       "        (async () => {\n",
       "            const url = await google.colab.kernel.proxyPort(6006, {\"cache\": true});\n",
       "            const iframe = document.createElement('iframe');\n",
       "            iframe.src = url;\n",
       "            iframe.setAttribute('width', '100%');\n",
       "            iframe.setAttribute('height', '800');\n",
       "            iframe.setAttribute('frameborder', 0);\n",
       "            document.body.appendChild(iframe);\n",
       "        })();\n",
       "    "
      ],
      "text/plain": [
       "<IPython.core.display.Javascript object>"
      ]
     },
     "metadata": {
      "tags": []
     },
     "output_type": "display_data"
    }
   ],
   "source": [
    "%tensorboard --logdir=runs"
   ]
  },
  {
   "cell_type": "code",
   "execution_count": 40,
   "metadata": {
    "colab": {},
    "colab_type": "code",
    "id": "7Cyx2vNti_z4"
   },
   "outputs": [],
   "source": [
    "class EarlyStopping:\n",
    "    def __init__(self, patience=30, delta=1e-3, path='checkpoint.pt'):\n",
    "        self.patience = patience\n",
    "        self.counter = 0\n",
    "        self.best_loss = None\n",
    "        self.early_stop = False\n",
    "        self.val_loss_min = np.Inf\n",
    "        self.delta = delta\n",
    "        self.path = path\n",
    "\n",
    "    def __call__(self, val_loss, model):\n",
    "\n",
    "        if self.val_loss_min > val_loss:\n",
    "            self.val_loss_min = val_loss\n",
    "            self.counter = 0\n",
    "            torch.save(model.state_dict(), self.path)\n",
    "        else:\n",
    "            self.counter += 1\n",
    "            if self.counter >= self.patience:\n",
    "                self.early_stop = True"
   ]
  }
 ],
 "metadata": {
  "colab": {
   "collapsed_sections": [],
   "name": "MLP.ipynb",
   "provenance": []
  },
  "kernelspec": {
   "display_name": "Python 3",
   "language": "python",
   "name": "python3"
  },
  "language_info": {
   "codemirror_mode": {
    "name": "ipython",
    "version": 3
   },
   "file_extension": ".py",
   "mimetype": "text/x-python",
   "name": "python",
   "nbconvert_exporter": "python",
   "pygments_lexer": "ipython3",
   "version": "3.7.7"
  }
 },
 "nbformat": 4,
 "nbformat_minor": 1
}
