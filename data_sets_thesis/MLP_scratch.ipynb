{
 "cells": [
  {
   "cell_type": "markdown",
   "metadata": {
    "colab_type": "text",
    "id": "GLQLStKwyzgs"
   },
   "source": [
    "# **METAMODELING WITH ARTIFICIAL NEURAL NETWORK**\n",
    "\n",
    "In this notebook, we will use the results of Abaqus analyses in order to build an Artificial Neural Network (ANN) of the Finite Element (FE) analysis solver."
   ]
  },
  {
   "cell_type": "code",
   "execution_count": 1,
   "metadata": {
    "colab": {},
    "colab_type": "code",
    "id": "Orwif6dIvF4t"
   },
   "outputs": [],
   "source": [
    "import matplotlib.pyplot as plt\n",
    "import pandas as pd\n",
    "import numpy as np\n",
    "import random\n",
    "import time\n",
    "import sys\n",
    "import os"
   ]
  },
  {
   "cell_type": "code",
   "execution_count": 2,
   "metadata": {
    "colab": {
     "base_uri": "https://localhost:8080/",
     "height": 51
    },
    "colab_type": "code",
    "id": "Bwj567NSvHv1",
    "outputId": "e91823c3-87c5-47fe-cca9-cd505741e7ff"
   },
   "outputs": [],
   "source": [
    "# Scikit-learn\n",
    "from sklearn.model_selection import train_test_split\n",
    "\n",
    "# PyTorch\n",
    "import torch\n",
    "from torch.autograd import Variable\n",
    "from torch.nn.parameter import Parameter\n",
    "import torch.nn as nn\n",
    "import torch.nn.functional as F\n",
    "import torch.optim as optim\n",
    "import torch.nn.init as init\n",
    "\n",
    "# Matplotlib spec\n",
    "from matplotlib import rc\n",
    "rc('font',**{'family':'serif','serif':['Palatino']}) # Palatino font\n",
    "plt.rcParams['pdf.fonttype'] = 42"
   ]
  },
  {
   "cell_type": "code",
   "execution_count": 3,
   "metadata": {
    "colab": {
     "base_uri": "https://localhost:8080/",
     "height": 34
    },
    "colab_type": "code",
    "id": "jqtrSiFqdBTe",
    "outputId": "1cd691d5-fc75-4420-b6e5-d331a6ee9c38"
   },
   "outputs": [
    {
     "data": {
      "text/plain": [
       "'1.5.0'"
      ]
     },
     "execution_count": 3,
     "metadata": {},
     "output_type": "execute_result"
    }
   ],
   "source": [
    "torch.__version__"
   ]
  },
  {
   "cell_type": "markdown",
   "metadata": {
    "colab_type": "text",
    "id": "xMkgB8U2dS1A"
   },
   "source": [
    "When this notebook has been generated the result of the previous line of code is: _'1.5.0'_"
   ]
  },
  {
   "cell_type": "markdown",
   "metadata": {
    "colab_type": "text",
    "id": "JZDSnO7jyzg8"
   },
   "source": [
    "We fix the seed in order to obtain reproducible results.\n",
    "\n",
    "__N.B.__ : Reproducible results are obtained every time the runtime is restarded and runned. If you run multiple time the same cell the results will not be reporducible."
   ]
  },
  {
   "cell_type": "code",
   "execution_count": 5,
   "metadata": {
    "colab": {},
    "colab_type": "code",
    "id": "SytMvTAE22lL"
   },
   "outputs": [],
   "source": [
    "seed = 0\n",
    "np.random.seed(seed=seed)\n",
    "torch.manual_seed(seed=seed)\n",
    "random.seed(seed)\n",
    "\n",
    "# Last two lines just when using GPU\n",
    "torch.backends.cudnn.deterministic = True\n",
    "torch.cuda.manual_seed(seed=seed)"
   ]
  },
  {
   "cell_type": "markdown",
   "metadata": {
    "colab_type": "text",
    "id": "bxRgA_ioyzhA"
   },
   "source": [
    "## **Data preprocessing**\n",
    "\n",
    "We start by importing some information about the model used to generate the dataset."
   ]
  },
  {
   "cell_type": "code",
   "execution_count": 28,
   "metadata": {
    "colab": {
     "base_uri": "https://localhost:8080/",
     "height": 80
    },
    "colab_type": "code",
    "id": "0FZ6R8aeyzhB",
    "outputId": "e6f59f12-68cb-4eb0-dd90-990424b0c8c0"
   },
   "outputs": [
    {
     "data": {
      "text/html": [
       "<div>\n",
       "<style scoped>\n",
       "    .dataframe tbody tr th:only-of-type {\n",
       "        vertical-align: middle;\n",
       "    }\n",
       "\n",
       "    .dataframe tbody tr th {\n",
       "        vertical-align: top;\n",
       "    }\n",
       "\n",
       "    .dataframe thead th {\n",
       "        text-align: right;\n",
       "    }\n",
       "</style>\n",
       "<table border=\"1\" class=\"dataframe\">\n",
       "  <thead>\n",
       "    <tr style=\"text-align: right;\">\n",
       "      <th></th>\n",
       "      <th>Height</th>\n",
       "      <th>Radius</th>\n",
       "      <th>MaxCurvature</th>\n",
       "      <th>MeshSize</th>\n",
       "      <th>Plies</th>\n",
       "      <th>EffectivePlies</th>\n",
       "      <th>Symmetric</th>\n",
       "      <th>Balanced</th>\n",
       "      <th>AnglesFunction</th>\n",
       "      <th>LoadCase</th>\n",
       "      <th>Train</th>\n",
       "      <th>Val</th>\n",
       "      <th>Test</th>\n",
       "    </tr>\n",
       "  </thead>\n",
       "  <tbody>\n",
       "    <tr>\n",
       "      <th>Value</th>\n",
       "      <td>705</td>\n",
       "      <td>300</td>\n",
       "      <td>0.001575</td>\n",
       "      <td>5</td>\n",
       "      <td>8</td>\n",
       "      <td>2</td>\n",
       "      <td>True</td>\n",
       "      <td>True</td>\n",
       "      <td>harmlin</td>\n",
       "      <td>axial</td>\n",
       "      <td>81</td>\n",
       "      <td>27</td>\n",
       "      <td>27</td>\n",
       "    </tr>\n",
       "  </tbody>\n",
       "</table>\n",
       "</div>"
      ],
      "text/plain": [
       "       Height  Radius  MaxCurvature  MeshSize  Plies  EffectivePlies  \\\n",
       "Value     705     300      0.001575         5      8               2   \n",
       "\n",
       "       Symmetric  Balanced AnglesFunction LoadCase  Train  Val  Test  \n",
       "Value       True      True        harmlin    axial     81   27    27  "
      ]
     },
     "execution_count": 28,
     "metadata": {},
     "output_type": "execute_result"
    }
   ],
   "source": [
    "# Check if notebook running in Colab\n",
    "is_colab = 'google.colab' in sys.modules\n",
    "\n",
    "# Model info folder\n",
    "input_folder = './'\n",
    "\n",
    "info = pd.read_csv(input_folder + 'model_info.csv', sep=\";\")\n",
    "info.index = ['Value']\n",
    "eff_plies = int(info['EffectivePlies'].values)\n",
    "info.head()"
   ]
  },
  {
   "cell_type": "code",
   "execution_count": 29,
   "metadata": {},
   "outputs": [],
   "source": [
    "sets = ['Train', 'Val', 'Test']\n",
    "for set in sets:\n",
    "    if set not in info.keys():\n",
    "        sets.remove(set)"
   ]
  },
  {
   "cell_type": "markdown",
   "metadata": {
    "colab_type": "text",
    "id": "EIBWzRwLyzhG"
   },
   "source": [
    "At this point we have to import the data set containing the input and output of the FE analysis. The data is stored in a dataframe in which the upper part is associated to the training set and the lower part to the test set. The precise number of upper row belonging to the train set is indicated in the info above."
   ]
  },
  {
   "cell_type": "code",
   "execution_count": 30,
   "metadata": {
    "colab": {
     "base_uri": "https://localhost:8080/",
     "height": 419
    },
    "colab_type": "code",
    "id": "niD2Q60oyzhG",
    "outputId": "6046f3fb-ed80-4099-aa94-7eb2dd87de49"
   },
   "outputs": [
    {
     "data": {
      "text/html": [
       "<div>\n",
       "<style scoped>\n",
       "    .dataframe tbody tr th:only-of-type {\n",
       "        vertical-align: middle;\n",
       "    }\n",
       "\n",
       "    .dataframe tbody tr th {\n",
       "        vertical-align: top;\n",
       "    }\n",
       "\n",
       "    .dataframe thead th {\n",
       "        text-align: right;\n",
       "    }\n",
       "</style>\n",
       "<table border=\"1\" class=\"dataframe\">\n",
       "  <thead>\n",
       "    <tr style=\"text-align: right;\">\n",
       "      <th></th>\n",
       "      <th>Amplitude1</th>\n",
       "      <th>PhaseShift1</th>\n",
       "      <th>Omega1</th>\n",
       "      <th>Beta1</th>\n",
       "      <th>Amplitude2</th>\n",
       "      <th>PhaseShift2</th>\n",
       "      <th>Omega2</th>\n",
       "      <th>Beta2</th>\n",
       "      <th>Buckling</th>\n",
       "      <th>Stiffness</th>\n",
       "    </tr>\n",
       "  </thead>\n",
       "  <tbody>\n",
       "    <tr>\n",
       "      <th>0</th>\n",
       "      <td>65.08</td>\n",
       "      <td>20.60</td>\n",
       "      <td>0.39</td>\n",
       "      <td>38.52</td>\n",
       "      <td>14.60</td>\n",
       "      <td>76.85</td>\n",
       "      <td>1.27</td>\n",
       "      <td>13.29</td>\n",
       "      <td>235.051</td>\n",
       "      <td>281175.0</td>\n",
       "    </tr>\n",
       "    <tr>\n",
       "      <th>1</th>\n",
       "      <td>24.39</td>\n",
       "      <td>85.65</td>\n",
       "      <td>1.72</td>\n",
       "      <td>7.86</td>\n",
       "      <td>46.78</td>\n",
       "      <td>69.20</td>\n",
       "      <td>0.66</td>\n",
       "      <td>27.25</td>\n",
       "      <td>239.225</td>\n",
       "      <td>388831.0</td>\n",
       "    </tr>\n",
       "    <tr>\n",
       "      <th>2</th>\n",
       "      <td>19.29</td>\n",
       "      <td>45.21</td>\n",
       "      <td>1.29</td>\n",
       "      <td>8.63</td>\n",
       "      <td>87.30</td>\n",
       "      <td>76.00</td>\n",
       "      <td>0.53</td>\n",
       "      <td>2.56</td>\n",
       "      <td>190.754</td>\n",
       "      <td>465806.0</td>\n",
       "    </tr>\n",
       "    <tr>\n",
       "      <th>3</th>\n",
       "      <td>65.79</td>\n",
       "      <td>62.30</td>\n",
       "      <td>0.25</td>\n",
       "      <td>2.35</td>\n",
       "      <td>20.34</td>\n",
       "      <td>16.69</td>\n",
       "      <td>1.16</td>\n",
       "      <td>19.37</td>\n",
       "      <td>182.235</td>\n",
       "      <td>448824.0</td>\n",
       "    </tr>\n",
       "    <tr>\n",
       "      <th>4</th>\n",
       "      <td>13.92</td>\n",
       "      <td>28.67</td>\n",
       "      <td>0.07</td>\n",
       "      <td>26.28</td>\n",
       "      <td>57.23</td>\n",
       "      <td>84.57</td>\n",
       "      <td>0.48</td>\n",
       "      <td>20.18</td>\n",
       "      <td>248.555</td>\n",
       "      <td>365717.0</td>\n",
       "    </tr>\n",
       "    <tr>\n",
       "      <th>...</th>\n",
       "      <td>...</td>\n",
       "      <td>...</td>\n",
       "      <td>...</td>\n",
       "      <td>...</td>\n",
       "      <td>...</td>\n",
       "      <td>...</td>\n",
       "      <td>...</td>\n",
       "      <td>...</td>\n",
       "      <td>...</td>\n",
       "      <td>...</td>\n",
       "    </tr>\n",
       "    <tr>\n",
       "      <th>130</th>\n",
       "      <td>73.83</td>\n",
       "      <td>10.10</td>\n",
       "      <td>0.30</td>\n",
       "      <td>15.26</td>\n",
       "      <td>19.30</td>\n",
       "      <td>48.92</td>\n",
       "      <td>1.81</td>\n",
       "      <td>7.24</td>\n",
       "      <td>225.731</td>\n",
       "      <td>421545.0</td>\n",
       "    </tr>\n",
       "    <tr>\n",
       "      <th>131</th>\n",
       "      <td>33.20</td>\n",
       "      <td>6.00</td>\n",
       "      <td>1.23</td>\n",
       "      <td>36.61</td>\n",
       "      <td>94.59</td>\n",
       "      <td>58.90</td>\n",
       "      <td>0.23</td>\n",
       "      <td>26.93</td>\n",
       "      <td>225.708</td>\n",
       "      <td>194835.0</td>\n",
       "    </tr>\n",
       "    <tr>\n",
       "      <th>132</th>\n",
       "      <td>33.40</td>\n",
       "      <td>23.11</td>\n",
       "      <td>0.11</td>\n",
       "      <td>7.64</td>\n",
       "      <td>42.03</td>\n",
       "      <td>76.21</td>\n",
       "      <td>0.85</td>\n",
       "      <td>17.11</td>\n",
       "      <td>178.640</td>\n",
       "      <td>452326.0</td>\n",
       "    </tr>\n",
       "    <tr>\n",
       "      <th>133</th>\n",
       "      <td>23.20</td>\n",
       "      <td>25.50</td>\n",
       "      <td>0.49</td>\n",
       "      <td>32.97</td>\n",
       "      <td>84.96</td>\n",
       "      <td>32.20</td>\n",
       "      <td>0.18</td>\n",
       "      <td>9.29</td>\n",
       "      <td>243.416</td>\n",
       "      <td>322473.0</td>\n",
       "    </tr>\n",
       "    <tr>\n",
       "      <th>134</th>\n",
       "      <td>11.04</td>\n",
       "      <td>71.92</td>\n",
       "      <td>0.43</td>\n",
       "      <td>34.01</td>\n",
       "      <td>65.61</td>\n",
       "      <td>71.46</td>\n",
       "      <td>1.15</td>\n",
       "      <td>37.22</td>\n",
       "      <td>242.012</td>\n",
       "      <td>157904.0</td>\n",
       "    </tr>\n",
       "  </tbody>\n",
       "</table>\n",
       "<p>135 rows × 10 columns</p>\n",
       "</div>"
      ],
      "text/plain": [
       "     Amplitude1  PhaseShift1  Omega1  Beta1  Amplitude2  PhaseShift2  Omega2  \\\n",
       "0         65.08        20.60    0.39  38.52       14.60        76.85    1.27   \n",
       "1         24.39        85.65    1.72   7.86       46.78        69.20    0.66   \n",
       "2         19.29        45.21    1.29   8.63       87.30        76.00    0.53   \n",
       "3         65.79        62.30    0.25   2.35       20.34        16.69    1.16   \n",
       "4         13.92        28.67    0.07  26.28       57.23        84.57    0.48   \n",
       "..          ...          ...     ...    ...         ...          ...     ...   \n",
       "130       73.83        10.10    0.30  15.26       19.30        48.92    1.81   \n",
       "131       33.20         6.00    1.23  36.61       94.59        58.90    0.23   \n",
       "132       33.40        23.11    0.11   7.64       42.03        76.21    0.85   \n",
       "133       23.20        25.50    0.49  32.97       84.96        32.20    0.18   \n",
       "134       11.04        71.92    0.43  34.01       65.61        71.46    1.15   \n",
       "\n",
       "     Beta2  Buckling  Stiffness  \n",
       "0    13.29   235.051   281175.0  \n",
       "1    27.25   239.225   388831.0  \n",
       "2     2.56   190.754   465806.0  \n",
       "3    19.37   182.235   448824.0  \n",
       "4    20.18   248.555   365717.0  \n",
       "..     ...       ...        ...  \n",
       "130   7.24   225.731   421545.0  \n",
       "131  26.93   225.708   194835.0  \n",
       "132  17.11   178.640   452326.0  \n",
       "133   9.29   243.416   322473.0  \n",
       "134  37.22   242.012   157904.0  \n",
       "\n",
       "[135 rows x 10 columns]"
      ]
     },
     "execution_count": 30,
     "metadata": {},
     "output_type": "execute_result"
    }
   ],
   "source": [
    "# Data folder\n",
    "data_folder = './'\n",
    "\n",
    "data_orig = pd.read_csv(data_folder + '/data.csv', sep=';')\n",
    "data = data_orig.drop(columns='Stiffness')\n",
    "data_orig"
   ]
  },
  {
   "cell_type": "markdown",
   "metadata": {
    "colab_type": "text",
    "id": "S9U4RPrnyzhP"
   },
   "source": [
    "The most important step to perform before training our model is the normalization of the variables. Different strategies are possible at this end, among which 2 are the most used:\n",
    "\n",
    "* Range normalization: converts all the values to the range $[0, 1]$\n",
    "\n",
    "* Standard score normalization: forces the variables to have $0$ mean and $1$ standard deviation\n",
    "\n",
    "We will try both to see the effect on the model performance."
   ]
  },
  {
   "cell_type": "code",
   "execution_count": 267,
   "metadata": {
    "colab": {},
    "colab_type": "code",
    "id": "-ZVjkHziyzhQ"
   },
   "outputs": [],
   "source": [
    "def range_norm(x, x_min=None, x_max=None):\n",
    "    \"\"\" Normalization in range [0, 1] \"\"\"\n",
    "    if x_min is None and x_max is None:\n",
    "        x_min = np.min(x, axis=0)\n",
    "        x_max = np.max(x, axis=0)\n",
    "    x_norm = (x - x_min) / (x_max - x_min)\n",
    "\n",
    "    return x_norm, x_min, x_max\n",
    "\n",
    "def std_norm(x, m=None, s=None):\n",
    "    \"\"\" Normalization with zero mean and unitary standard deviation \"\"\"\n",
    "    if m is None and s is None:\n",
    "        m = np.mean(x, axis=0)\n",
    "        s = np.std(x, axis=0)\n",
    "    x_norm = (x - m) / s\n",
    "    \n",
    "    return x_norm, m, s"
   ]
  },
  {
   "cell_type": "markdown",
   "metadata": {
    "colab_type": "text",
    "id": "TL3mX63XyzhT"
   },
   "source": [
    "Now we can split the data into training and test set. The two sets have been generate independently during the DOE."
   ]
  },
  {
   "cell_type": "code",
   "execution_count": 268,
   "metadata": {
    "colab": {
     "base_uri": "https://localhost:8080/",
     "height": 153
    },
    "colab_type": "code",
    "id": "uy149NwNyzhT",
    "outputId": "224f9a13-bed4-4c54-f05e-a4eee762b812"
   },
   "outputs": [
    {
     "name": "stdout",
     "output_type": "stream",
     "text": [
      "             - - - - - - - \n",
      "            |Problem info:|\n",
      "             - - - - - - -  \n",
      "\n",
      "X_train : (81, 8)  |  Y_train : (81, 2)\n",
      "X_val   : (27, 8)  |  Y_val   : (27, 2)\n",
      "X_test  : (27, 8)  |  Y_test  : (27, 2) \n",
      "\n"
     ]
    }
   ],
   "source": [
    "X = data_orig.drop(['Buckling', 'Stiffness'], axis=1).values\n",
    "Y = data_orig[['Buckling','Stiffness']].values\n",
    "\n",
    "# Train set\n",
    "train_smp = int(info['Train'].values)\n",
    "_X_train = X[:train_smp, :]\n",
    "_Y_train = Y[:train_smp]\n",
    "last = np.copy(train_smp)\n",
    "\n",
    "# Validation set\n",
    "if 'Val' in sets:\n",
    "    val_smp = int(info['Val'].values)\n",
    "    _X_val = X[last:last+val_smp, :]\n",
    "    _Y_val = Y[last:last+val_smp]\n",
    "    last += val_smp\n",
    "\n",
    "# Test set\n",
    "if 'Test' in sets:\n",
    "    test_smp = int(info['Test'].values)\n",
    "    _X_test = X[last:last+test_smp, :]\n",
    "    _Y_test = Y[last:last+test_smp]\n",
    "\n",
    "print('             - - - - - - - ')\n",
    "print('            |Problem info:|')\n",
    "print('             - - - - - - -  \\n')\n",
    "print(\"X_train : {}  |  Y_train : {}\".format(_X_train.shape, _Y_train.shape))\n",
    "print(\"X_val   : {}  |  Y_val   : {}\".format(_X_val.shape, _Y_val.shape))\n",
    "print(\"X_test  : {}  |  Y_test  : {} \\n\".format(_X_test.shape, _Y_test.shape))"
   ]
  },
  {
   "cell_type": "markdown",
   "metadata": {
    "colab_type": "text",
    "id": "6ngXLJgnf3zs"
   },
   "source": [
    "At this point we can generate the iterable data sets for Torch"
   ]
  },
  {
   "cell_type": "code",
   "execution_count": 269,
   "metadata": {},
   "outputs": [],
   "source": [
    "def shuffle_data(X, Y):\n",
    "    \"\"\" Random shuffle of samples in X and y \"\"\"\n",
    "    idx = np.arange(X.shape[0])\n",
    "    np.random.shuffle(idx)\n",
    "    \n",
    "    return X[idx], Y[idx]"
   ]
  },
  {
   "cell_type": "code",
   "execution_count": 270,
   "metadata": {
    "colab": {
     "base_uri": "https://localhost:8080/",
     "height": 297
    },
    "colab_type": "code",
    "id": "ORbqtnh-yzhR",
    "outputId": "d18315cf-cbc9-40f5-f987-26f6485bba5b"
   },
   "outputs": [],
   "source": [
    "# Normalization training set\n",
    "X_train, x_min, x_max = range_norm(_X_train)\n",
    "Y_train, y_min, y_max = range_norm(_Y_train)\n",
    "\n",
    "# Shuffle training set\n",
    "X_train, Y_train = shuffle_data(X_train, Y_train)"
   ]
  },
  {
   "cell_type": "code",
   "execution_count": 271,
   "metadata": {},
   "outputs": [],
   "source": [
    "# Normalization validation set\n",
    "X_val, _, _ = range_norm(_X_val, x_min=x_min, x_max=x_max)\n",
    "Y_val, _, _ = range_norm(_Y_val, x_min=y_min, x_max=y_max)\n",
    "\n",
    "# Normalization testing set\n",
    "X_test, _, _ = range_norm(_X_test, x_min=x_min, x_max=x_max)\n",
    "Y_test, _, _ = range_norm(_Y_test, x_min=y_min, x_max=y_max)"
   ]
  },
  {
   "cell_type": "code",
   "execution_count": 273,
   "metadata": {},
   "outputs": [],
   "source": [
    "def create_batches(_X, _Y, batch_size):\n",
    "    \"\"\" Split the data into k batches \"\"\"\n",
    "\n",
    "    n_samples = _X.shape[0]\n",
    "    leftovers = {}\n",
    "    n_leftovers = n_samples % batch_size\n",
    "    \n",
    "    # Case with all batches of equal size\n",
    "    if n_leftovers != 0:\n",
    "        leftovers[\"X\"] = _X[-n_leftovers:]\n",
    "        leftovers[\"Y\"] = _Y[-n_leftovers:]\n",
    "        _X = _X[:-n_leftovers]\n",
    "        _Y = _Y[:-n_leftovers]\n",
    "\n",
    "    k = np.int(_X.shape[0] / batch_size)\n",
    "        \n",
    "    X_split = np.split(_X, k)\n",
    "    Y_split = np.split(_Y, k)\n",
    "    \n",
    "    # Add leftover samples as last batch\n",
    "    if n_leftovers != 0:\n",
    "        X_split.append(leftovers[\"X\"])\n",
    "        Y_split.append(leftovers[\"Y\"])\n",
    "\n",
    "    return X_split, Y_split"
   ]
  },
  {
   "cell_type": "code",
   "execution_count": 274,
   "metadata": {},
   "outputs": [],
   "source": [
    "batch_size = 16\n",
    "X_train_b, Y_train_b = create_batches(X_train, Y_train, batch_size=batch_size)"
   ]
  },
  {
   "cell_type": "code",
   "execution_count": 275,
   "metadata": {},
   "outputs": [
    {
     "name": "stdout",
     "output_type": "stream",
     "text": [
      "Batches dimensions: \n",
      "\n",
      "Batch 0 : input (16, 8)  ,  output : (16, 2)\n",
      "Batch 1 : input (16, 8)  ,  output : (16, 2)\n",
      "Batch 2 : input (16, 8)  ,  output : (16, 2)\n",
      "Batch 3 : input (16, 8)  ,  output : (16, 2)\n",
      "Batch 4 : input (16, 8)  ,  output : (16, 2)\n",
      "Batch 5 : input (1, 8)  ,  output : (1, 2)\n"
     ]
    }
   ],
   "source": [
    "print(\"Batches dimensions: \\n\")\n",
    "for i in range(len(X_train_b)):\n",
    "    print(\"Batch {} : input {}  ,  output : {}\".format(i, X_train_b[i].shape, Y_train_b[i].shape))"
   ]
  },
  {
   "cell_type": "markdown",
   "metadata": {
    "colab_type": "text",
    "id": "-7O7AIIoyzhU"
   },
   "source": [
    "## **Neural network**"
   ]
  },
  {
   "cell_type": "markdown",
   "metadata": {
    "colab_type": "text",
    "id": "Vyx3cytYfs7E"
   },
   "source": [
    "First define network class"
   ]
  },
  {
   "cell_type": "code",
   "execution_count": 276,
   "metadata": {
    "colab": {},
    "colab_type": "code",
    "id": "3aMiO2DUfrIK"
   },
   "outputs": [],
   "source": [
    "class FFNN(torch.nn.Module):\n",
    "\n",
    "    def __init__(self, D_in, H, D_out):\n",
    "        super(FFNN, self).__init__()\n",
    "        # First hidden layer\n",
    "        self.W_1 = Parameter(init.xavier_normal_(torch.Tensor(H, D_in)))\n",
    "        self.b_1 = Parameter(init.constant_(torch.Tensor(H), 0))\n",
    "        # Second hidden layer\n",
    "        self.W_2 = Parameter(init.xavier_normal_(torch.Tensor(H, H)))\n",
    "        self.b_2 = Parameter(init.constant_(torch.Tensor(H), 0))\n",
    "        # Third hidden layer\n",
    "        self.W_3 = Parameter(init.xavier_normal_(torch.Tensor(H, H)))\n",
    "        self.b_3 = Parameter(init.constant_(torch.Tensor(H), 0))\n",
    "        # Output layer\n",
    "        self.W_4 = Parameter(init.xavier_normal_(torch.Tensor(D_out, H)))\n",
    "        self.b_4 = Parameter(init.constant_(torch.Tensor(D_out), 0))\n",
    "        \n",
    "        # define activation function in constructor\n",
    "        self.activation_1 = torch.nn.ReLU()\n",
    "        self.activation_2 = torch.nn.ReLU()\n",
    "        self.activation_3 = torch.nn.ReLU()\n",
    "\n",
    "    def forward(self, x):\n",
    "        x = F.linear(x, self.W_1, self.b_1)\n",
    "        x = self.activation_1(x)\n",
    "        x = F.linear(x, self.W_2, self.b_2)\n",
    "        x = self.activation_2(x)\n",
    "        x = F.linear(x, self.W_3, self.b_3)\n",
    "        x = self.activation_3(x)\n",
    "        pred = F.linear(x, self.W_4, self.b_4)\n",
    "        return pred"
   ]
  },
  {
   "cell_type": "code",
   "execution_count": null,
   "metadata": {
    "colab": {
     "base_uri": "https://localhost:8080/",
     "height": 357
    },
    "colab_type": "code",
    "id": "ibkHXkYKmXs6",
    "outputId": "3a2927df-9996-474a-eee5-3ec0d6f12263",
    "scrolled": false
   },
   "outputs": [],
   "source": [
    "n_x = X_train.shape[1]\n",
    "n_y = Y_train.shape[1]\n",
    "D_in, H, D_out = n_x, 8, n_y\n",
    "\n",
    "model = FFNN(D_in, H, D_out)\n",
    "\n",
    "epochs = 50000\n",
    "lr = 1e-3\n",
    "weight_decay = 5e-3\n",
    "\n",
    "# Flag True if you are in the network optimization process.\n",
    "is_optimizing = True\n",
    "\n",
    "# If weight_NN exists and we are not in optimization mode just load\n",
    "# network weights and evaluate the model.\n",
    "if(os.path.isfile('net_weights/weights_NN') and is_optimizing==False):\n",
    "    model.load_state_dict(torch.load('net_weights/weights_NN'))\n",
    "    print(model.eval())\n",
    "else:\n",
    "    criterion = nn.MSELoss(reduction='mean') \n",
    "    optimizer = optim.Adam(model.parameters(), lr=lr, weight_decay=weight_decay)\n",
    "    \n",
    "    # Initialize losses lists.\n",
    "    train_loss = []\n",
    "    val_loss = []\n",
    "    losses = []\n",
    "    \n",
    "    idx = np.arange(len(X_train_b))\n",
    "    \n",
    "    for epoch in range(epochs):\n",
    "        curr_loss = 0\n",
    "        np.random.shuffle(idx)\n",
    "        \n",
    "        model.train()\n",
    "        for batch_num in idx:\n",
    "            \n",
    "            # Create torch variables, required dtype 'float32' no 'float64'\n",
    "            batch_x = Variable(torch.from_numpy(X_train_b[batch_num].astype('float32')))\n",
    "            batch_y = Variable(torch.from_numpy(Y_train_b[batch_num].astype('float32')))\n",
    "            optimizer.zero_grad()\n",
    "            \n",
    "            y_pred = model(batch_x)\n",
    "            \n",
    "            batch_loss = criterion(y_pred, batch_y)\n",
    "            batch_loss.backward()\n",
    "            optimizer.step()\n",
    "            \n",
    "            curr_loss += batch_loss\n",
    "            \n",
    "        train_loss.append(curr_loss.item() / len(idx))\n",
    "        \n",
    "        model.eval()\n",
    "        val_x = Variable(torch.from_numpy(X_val.astype('float32')))\n",
    "        val_y = Variable(torch.from_numpy(Y_val.astype('float32')))\n",
    "        val_pred = model(val_x)\n",
    "        loss_val = criterion(val_pred, val_y)\n",
    "            \n",
    "        val_loss.append(loss_val.item())\n",
    "\n",
    "        if epoch % 1000 == 0:\n",
    "            print(\"Iteration : {} | Train loss : {:.5f} | Val loss : {:.5f}\".format(epoch, train_loss[epoch], val_loss[epoch]))\n",
    "\n",
    "    torch.save(model.state_dict(), 'weights_NN')"
   ]
  },
  {
   "cell_type": "code",
   "execution_count": 288,
   "metadata": {},
   "outputs": [
    {
     "name": "stdout",
     "output_type": "stream",
     "text": [
      "True : 0.3638, 0.8316  |  Prediction : 0.4681, 0.7057  |  Error : 0028.68%, 0015.14%\n",
      "True : 0.3959, 0.5257  |  Prediction : 0.5849, 0.5232  |  Error : 0047.76%, 0000.46%\n",
      "True : 0.7227, 0.6914  |  Prediction : 0.4974, 0.7035  |  Error : 0031.18%, 0001.74%\n",
      "True : 0.8112, 0.5329  |  Prediction : 0.6547, 0.6297  |  Error : 0019.29%, 0018.16%\n",
      "True : 0.5953, 0.5242  |  Prediction : 0.5351, 0.5657  |  Error : 0010.11%, 0007.92%\n",
      "True : 0.7859, 0.2206  |  Prediction : 0.5705, 0.2897  |  Error : 0027.40%, 0031.31%\n",
      "True : 0.0819, 0.9479  |  Prediction : 0.1012, 0.8987  |  Error : 0023.57%, 0005.19%\n",
      "True : 0.4528, 0.2445  |  Prediction : 0.6051, 0.3657  |  Error : 0033.63%, 0049.58%\n",
      "True : 0.1739, 0.4272  |  Prediction : 0.4725, 0.4238  |  Error : 0171.66%, 0000.79%\n",
      "True : 0.6732, 0.5245  |  Prediction : 0.5500, 0.5843  |  Error : 0018.31%, 0011.40%\n",
      "True : 0.9800, 0.4190  |  Prediction : 0.8272, 0.4387  |  Error : 0015.59%, 0004.69%\n",
      "True : 0.5051, 0.1334  |  Prediction : 0.5625, 0.1115  |  Error : 0011.37%, 0016.47%\n",
      "True : 0.5098, 0.6726  |  Prediction : 0.4784, 0.6185  |  Error : 0006.16%, 0008.05%\n",
      "True : 0.4639, 0.5078  |  Prediction : 0.5645, 0.6202  |  Error : 0021.70%, 0022.14%\n",
      "True : 0.2317, 0.5020  |  Prediction : 0.2902, 0.4049  |  Error : 0025.25%, 0019.34%\n",
      "True : 0.7682, 0.4772  |  Prediction : 0.7062, 0.4683  |  Error : 0008.07%, 0001.86%\n",
      "True : 0.7371, 0.3232  |  Prediction : 0.5550, 0.1854  |  Error : 0024.70%, 0042.64%\n",
      "True : 0.7057, 0.4324  |  Prediction : 0.5734, 0.3751  |  Error : 0018.74%, 0013.26%\n",
      "True : 0.3458, 0.8470  |  Prediction : 0.1319, 0.9408  |  Error : 0061.85%, 0011.07%\n",
      "True : 0.8485, 0.4688  |  Prediction : 0.6563, 0.3411  |  Error : 0022.66%, 0027.24%\n",
      "True : 0.5830, 0.3740  |  Prediction : 0.5365, 0.3204  |  Error : 0007.98%, 0014.32%\n",
      "True : 0.5010, 0.7880  |  Prediction : 0.3310, 0.8094  |  Error : 0033.93%, 0002.72%\n",
      "True : 0.3598, 0.0468  |  Prediction : 0.4901, 0.1223  |  Error : 0036.21%, 0160.98%\n",
      "True : 0.2785, 0.9412  |  Prediction : 0.1664, 0.8920  |  Error : 0040.25%, 0005.22%\n",
      "True : 0.5094, 0.8499  |  Prediction : 0.1949, 0.8329  |  Error : 0061.74%, 0002.00%\n",
      "True : 0.3974, 0.0223  |  Prediction : 0.5598, 0.1496  |  Error : 0040.86%, 0571.25%\n",
      "True : 0.6676, 0.2393  |  Prediction : 0.4966, 0.2049  |  Error : 0025.61%, 0014.36%\n"
     ]
    }
   ],
   "source": [
    "model.eval()\n",
    "val_x = Variable(torch.from_numpy(X_val.astype('float32')))\n",
    "val_y = Variable(torch.from_numpy(Y_val.astype('float32')))\n",
    "\n",
    "val_pred = model(val_x)\n",
    "for i in range(val_y.shape[0]):\n",
    "    err_perc = abs(val_y.numpy() - val_pred.detach().numpy()) / val_y.numpy() * 100\n",
    "    print(\"True : {:.4f}, {:.4f}  |  Prediction : {:.4f}, {:.4f}  |  Error : {:07.2f}%, {:07.2f}%\".\n",
    "          format(*val_y[i, :].numpy(), *val_pred[i, :].detach().numpy(), *err_perc[i, :]))"
   ]
  },
  {
   "cell_type": "code",
   "execution_count": 290,
   "metadata": {},
   "outputs": [
    {
     "data": {
      "text/plain": [
       "(-0.0, 0.05)"
      ]
     },
     "execution_count": 290,
     "metadata": {},
     "output_type": "execute_result"
    },
    {
     "data": {
      "image/png": "[encoded data removed]",
      "text/plain": [
       "<Figure size 576x576 with 1 Axes>"
      ]
     },
     "metadata": {
      "needs_background": "light"
     },
     "output_type": "display_data"
    }
   ],
   "source": [
    "plt.figure(figsize=(8, 8))\n",
    "plt.plot(np.arange(epochs), train_loss, 'r', np.arange(epochs), val_loss, 'b')\n",
    "plt.legend(['Train Loss','Validation Loss'])\n",
    "plt.xlabel('Epoch'), plt.ylabel('Loss')\n",
    "plt.ylim(-.0, .05)"
   ]
  },
  {
   "cell_type": "code",
   "execution_count": 239,
   "metadata": {},
   "outputs": [
    {
     "name": "stdout",
     "output_type": "stream",
     "text": [
      "True : 0.0000, 1.0000  |  Prediction : 0.1421, 0.9492  |  Error : -000inf%, 0005.08%\n",
      "True : 0.3511, 0.9285  |  Prediction : 0.2318, 0.8341  |  Error : 0033.98%, 0010.17%\n",
      "True : 1.0000, 0.2829  |  Prediction : 0.6488, 0.3021  |  Error : 0035.12%, -006.78%\n",
      "True : 0.7298, 0.7303  |  Prediction : 0.5278, 0.7440  |  Error : 0027.68%, -001.87%\n",
      "True : 0.4944, 0.0000  |  Prediction : 0.3526, 0.0986  |  Error : 0028.68%, -000inf%\n",
      "True : 0.7922, 0.3160  |  Prediction : 0.6637, 0.4046  |  Error : 0016.22%, -028.04%\n",
      "True : 0.5921, 0.1089  |  Prediction : 0.6719, 0.1797  |  Error : -013.47%, -065.05%\n",
      "True : 0.4387, 0.7176  |  Prediction : 0.3152, 0.8021  |  Error : 0028.14%, -011.77%\n",
      "True : 0.8501, 0.2274  |  Prediction : 0.6345, 0.1888  |  Error : 0025.36%, 0016.97%\n",
      "True : 0.7577, 0.1817  |  Prediction : 0.5090, 0.2294  |  Error : 0032.83%, -026.25%\n",
      "True : 0.1602, 0.8757  |  Prediction : 0.6438, 0.6759  |  Error : -301.91%, 0022.82%\n",
      "True : 0.5556, 0.1890  |  Prediction : 0.4549, 0.3026  |  Error : 0018.14%, -060.10%\n",
      "True : 0.8395, 0.5803  |  Prediction : 0.4845, 0.5147  |  Error : 0042.28%, 0011.30%\n",
      "True : 0.5030, 0.6939  |  Prediction : 0.5236, 0.6096  |  Error : -004.08%, 0012.15%\n",
      "True : 0.7295, 0.6282  |  Prediction : 0.5103, 0.5720  |  Error : 0030.06%, 0008.94%\n",
      "True : 0.2637, 0.6561  |  Prediction : 0.2137, 0.7793  |  Error : 0018.94%, -018.78%\n",
      "True : 0.8220, 0.6024  |  Prediction : 0.5192, 0.6428  |  Error : 0036.84%, -006.72%\n",
      "True : 0.6939, 0.1422  |  Prediction : 0.7839, 0.2093  |  Error : -012.97%, -047.18%\n",
      "True : 0.0386, 0.8774  |  Prediction : 0.1578, 0.8740  |  Error : -308.73%, 0000.38%\n",
      "True : 0.8463, 0.6650  |  Prediction : 0.3751, 0.6278  |  Error : 0055.68%, 0005.59%\n",
      "True : 0.7770, 0.3717  |  Prediction : 0.6352, 0.2959  |  Error : 0018.25%, 0020.41%\n",
      "True : 0.7607, 0.3899  |  Prediction : 0.4891, 0.4949  |  Error : 0035.70%, -026.91%\n",
      "True : 0.5800, 0.7764  |  Prediction : 0.2687, 0.6622  |  Error : 0053.68%, 0014.71%\n",
      "True : 0.5798, 0.1618  |  Prediction : 0.4936, 0.2605  |  Error : 0014.87%, -060.96%\n",
      "True : 0.1370, 0.8598  |  Prediction : 0.3720, 0.7789  |  Error : -171.48%, 0009.42%\n",
      "True : 0.7464, 0.5078  |  Prediction : 0.6845, 0.4695  |  Error : 0008.29%, 0007.54%\n",
      "True : 0.7332, 0.0617  |  Prediction : 0.4279, 0.2178  |  Error : 0041.64%, -252.95%\n"
     ]
    },
    {
     "name": "stderr",
     "output_type": "stream",
     "text": [
      "/opt/anaconda3/lib/python3.7/site-packages/ipykernel_launcher.py:7: RuntimeWarning: divide by zero encountered in true_divide\n",
      "  import sys\n"
     ]
    }
   ],
   "source": [
    "model.eval()\n",
    "test_x = Variable(torch.from_numpy(X_test.astype('float32')))\n",
    "test_y = Variable(torch.from_numpy(Y_test.astype('float32')))\n",
    "\n",
    "test_pred = model(test_x)\n",
    "for i in range(test_y.shape[0]):\n",
    "    err_perc = (test_y.numpy() - test_pred.detach().numpy()) / test_y.numpy() * 100\n",
    "    print(\"True : {:.4f}, {:.4f}  |  Prediction : {:.4f}, {:.4f}  |  Error : {:07.2f}%, {:07.2f}%\".\n",
    "          format(*test_y[i, :].numpy(), *test_pred[i, :].detach().numpy(), *err_perc[i, :]))"
   ]
  },
  {
   "cell_type": "code",
   "execution_count": null,
   "metadata": {
    "colab": {},
    "colab_type": "code",
    "id": "7Cyx2vNti_z4"
   },
   "outputs": [],
   "source": [
    "class EarlyStopping:\n",
    "    def __init__(self, patience=30, delta=1e-3, path='checkpoint.pt'):\n",
    "        self.patience = patience\n",
    "        self.counter = 0\n",
    "        self.best_loss = None\n",
    "        self.early_stop = False\n",
    "        self.val_loss_min = np.Inf\n",
    "        self.delta = delta\n",
    "        self.path = path\n",
    "\n",
    "    def __call__(self, val_loss, model):\n",
    "\n",
    "        if self.val_loss_min > val_loss:\n",
    "            self.val_loss_min = val_loss\n",
    "            self.counter = 0\n",
    "            torch.save(model.state_dict(), self.path)\n",
    "        else:\n",
    "            self.counter += 1\n",
    "            if self.counter >= self.patience:\n",
    "                self.early_stop = True"
   ]
  }
 ],
 "metadata": {
  "colab": {
   "collapsed_sections": [],
   "name": "MLP.ipynb",
   "provenance": []
  },
  "kernelspec": {
   "display_name": "Python 3",
   "language": "python",
   "name": "python3"
  },
  "language_info": {
   "codemirror_mode": {
    "name": "ipython",
    "version": 3
   },
   "file_extension": ".py",
   "mimetype": "text/x-python",
   "name": "python",
   "nbconvert_exporter": "python",
   "pygments_lexer": "ipython3",
   "version": "3.7.7"
  }
 },
 "nbformat": 4,
 "nbformat_minor": 1
}
