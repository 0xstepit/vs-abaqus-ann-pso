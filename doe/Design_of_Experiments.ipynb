{
 "cells": [
  {
   "cell_type": "markdown",
   "metadata": {
    "colab_type": "text",
    "id": "KZT5QX6KNJa5"
   },
   "source": [
    "# **DESIGN OF EXPERIMENTS**\n",
    "\n",
    "---\n",
    "\n",
    "In this notebook the generation of the dataset for the Finite Element Analysis (FEA) of a variable stiffness cylindrical shell is investigated. For the puporse a Design of Experiments (DOE) with Latine Hypercube Sampling (LHS) is considered. We have to import all the required libraries. Instead of the library smt, as in the related paper, here we will use the library pyDOE since allows to obtain easily reproducible results."
   ]
  },
  {
   "cell_type": "code",
   "execution_count": 1,
   "metadata": {
    "colab": {
     "base_uri": "https://localhost:8080/",
     "height": 224
    },
    "colab_type": "code",
    "executionInfo": {
     "elapsed": 11441,
     "status": "ok",
     "timestamp": 1584868122802,
     "user": {
      "displayName": "Stefano Francesco Pitton",
      "photoUrl": "https://lh3.googleusercontent.com/a-/AOh14GjW-iCKvab94ITigBbPk2X7gaPtHInoGHAT3bpE=s64",
      "userId": "13533339971354837176"
     },
     "user_tz": -60
    },
    "id": "XG86BM7tNES3",
    "outputId": "b9b8e3d9-d135-4f52-e2e2-b33523772b8b"
   },
   "outputs": [],
   "source": [
    "import os\n",
    "import sys\n",
    "import time\n",
    "import random\n",
    "import pandas as pd\n",
    "import seaborn as sns\n",
    "import numpy as np\n",
    "import matplotlib.pyplot as plt\n",
    "%matplotlib inline\n",
    "# !pip install smt\n",
    "# from smt.sampling_methods import LHS\n",
    "# !pip install pyDOE\n",
    "import pyDOE\n",
    "from scipy.optimize import fsolve\n",
    "#from google.colab import files"
   ]
  },
  {
   "cell_type": "markdown",
   "metadata": {},
   "source": [
    "## **Geometry and design parameters**\n",
    "\n",
    "---\n",
    "\n",
    "We can start defining the geometric properties of the cylindrical shell that you want to analyze, together with the mesh size of the Finite Element Model (FEM). The value of the radii and of the height are taken from a manufactured VS cylinder at TU Delft. The mesh size has been chosen after a sensitivity analysis on the buckling load of various Constant Stiffness (CS) cylindrical shells."
   ]
  },
  {
   "cell_type": "code",
   "execution_count": 2,
   "metadata": {
    "colab": {},
    "colab_type": "code",
    "id": "j32AAlE2O9LN"
   },
   "outputs": [],
   "source": [
    "h = 705  # height\n",
    "r = 300  # radius\n",
    "mesh_size = 10  # mesh size\n",
    "x_elems = int(h / mesh_size)\n",
    "deg2rad = np.pi / 180"
   ]
  },
  {
   "cell_type": "markdown",
   "metadata": {
    "colab_type": "text",
    "id": "D8OQgp5WyFa1"
   },
   "source": [
    "To avoid mistake all the variables that can be changed to modify the DOE generation will be grouped in the following cell. They are:\n",
    "\n",
    "* **sets**: specify which sets generate with the sampling method:\n",
    "\n",
    "  1. *train*: training set\n",
    "  \n",
    "  2. *val*: validation set\n",
    "  \n",
    "  3. *test*: testing set\n",
    "  \n",
    "* **n_samples**: fix the number of samples to be generated. This number is the sum of the samples of all the sets:\n",
    "\n",
    "  1. *small*\n",
    "  \n",
    "  2. *large*\n",
    "  \n",
    "  3. *int*: specific integer value\n",
    "  \n",
    "* **angles_fct**: specify the function used to generate the fibers angles:\n",
    "\n",
    "  1. *harmlin*\n",
    "  \n",
    "  2. *linear*\n",
    "  \n",
    "  3. *constant*\n",
    "  \n",
    "* **plies**: total number of plies:\n",
    "\n",
    "  1. *int*\n",
    "  \n",
    "* **symmetric**: define symmetric stacking sequence:\n",
    "\n",
    "  1. *True/False*\n",
    "  \n",
    "* **balanced**: define a balanced stacking sequence:\n",
    "\n",
    "  1. *True/False*\n",
    "  \n",
    "* **radius_of_curvature**: define the maximum radii of curvature allowed:\n",
    "\n",
    "  1. *int*\n",
    "\n",
    "It is important to remark that the choice of the numer of sample does not consider important aspects as the variability of the output inside the design space or the size of the design space. If someone wants to obtain a statistical measure of the number of samples required for a correct learning the VC dimension should be analyzed.\n",
    "\n",
    "The generation of the dataset and, also the final optimization step, require the knowledge of the boundaries of the problem. We have to specify the minimum and maximum value for each of the design variable. Below the unit of measure of the features are reported.\n",
    "\n",
    "* **Harmlin**:\n",
    "\n",
    "    * $A$: $[mm]$\n",
    "    \n",
    "    * $\\phi$: $[deg]$\n",
    "    \n",
    "    * $\\omega$: $[1/rad]$\n",
    "    \n",
    "    * $\\beta$: $[deg]$\n",
    "    \n",
    "* **Linear**:\n",
    "\n",
    "    * $T_i$: $[deg]$\n",
    "\n",
    "* **Constant**:\n",
    "\n",
    "    * $\\vartheta$: $[deg]$"
   ]
  },
  {
   "cell_type": "code",
   "execution_count": 3,
   "metadata": {},
   "outputs": [],
   "source": [
    "plies = 8 # number of plies\n",
    "\n",
    "sets = ['Train', 'Test']  # sets to generate\n",
    "\n",
    "load_case = 'torsion'\n",
    "\n",
    "angles_fct = 'harmlin'  # formulation of the fiber\n",
    "\n",
    "pieces = 2  # number of pieces of the piecewise linear formulation\n",
    "\n",
    "symmetric = True  # symmetric stacking sequence\n",
    "balanced = True  # balanced stacking sequence\n",
    "\n",
    "radius_curvature = 635 # minimum radius of curvature\n",
    "\n",
    "param = 8  # multiplicative factor for the sets size"
   ]
  },
  {
   "cell_type": "code",
   "execution_count": 4,
   "metadata": {
    "colab": {},
    "colab_type": "code",
    "id": "halOL4U7ySGv"
   },
   "outputs": [],
   "source": [
    "if angles_fct == 'harmlin':\n",
    "    features = ['Amplitude', 'PhaseShift', 'Omega', 'Beta']\n",
    "    range_dict = {'Amplitude': [-200., 200.],\n",
    "                  'PhaseShift': [-90., 90.],\n",
    "                  'Omega': [0., 2],\n",
    "                  'Beta': [-90., 90.]}\n",
    "elif angles_fct == 'linear' and isinstance(pieces, int):\n",
    "    features=[]\n",
    "    range_dict = {}\n",
    "    for p in range(pieces+1):\n",
    "        features.append('T' + str(p))\n",
    "        if p == 0 or p == pieces:\n",
    "            range_dict['T' + str(p)] =  [-45., 45.]\n",
    "        else:\n",
    "            range_dict['T' + str(p)] = [-89., 89.]\n",
    "elif angles_fct == 'linear' and not isinstance(pieces, int):\n",
    "    raise Exception('Please specify an integer number of pieces')\n",
    "    \n",
    "elif angles_fct == 'constant':\n",
    "    features= ['Theta']\n",
    "    range_dict = {'Theta': [-89., 90.]}\n",
    "\n",
    "if symmetric and balanced: # if symmetric and balanced\n",
    "    eff_plies = int(plies / 4)\n",
    "    folder_ss = 'symmetric_balanced'\n",
    "if symmetric and (symmetric != balanced): # if symmetric and not balanced\n",
    "    eff_plies = int(plies / 2)\n",
    "    folder_ss = 'symmetric'\n",
    "if balanced and (balanced != symmetric): # if balanced and not symmetric\n",
    "    eff_plies = int(plies / 2)\n",
    "    folder_ss = 'balanced'\n",
    "\n",
    "k_max = 1 / radius_curvature"
   ]
  },
  {
   "cell_type": "markdown",
   "metadata": {
    "colab_type": "text",
    "id": "ug5jgiNQyX5-"
   },
   "source": [
    "Create the folder to store the dataset and the folders for the specific sets. "
   ]
  },
  {
   "cell_type": "code",
   "execution_count": 5,
   "metadata": {
    "colab": {},
    "colab_type": "code",
    "id": "qYgSFX3YybI0"
   },
   "outputs": [],
   "source": [
    "directory = '../dataset/' + load_case + '/' + folder_ss + '/' + str(param) + 'x/' + angles_fct\n",
    "\n",
    "try:\n",
    "    if not os.path.isdir(directory):\n",
    "        os.makedirs(directory)\n",
    "except OSError:\n",
    "    print('Error: Creating directory. ' + directory)\n",
    "\n",
    "for set in sets:\n",
    "    try:\n",
    "        if not os.path.isdir(directory + '/' + set.lower()):\n",
    "            os.makedirs(directory + '/' + set.lower())\n",
    "    except OSError:\n",
    "        print('Error: Creating directory. ' + directory.lower())"
   ]
  },
  {
   "cell_type": "markdown",
   "metadata": {
    "colab_type": "text",
    "id": "lwlbAJsv506i"
   },
   "source": [
    "We can define a dictionary in which store all the information about the model and the sampling. This dictionary will be really helpful in other steps of the overall framework."
   ]
  },
  {
   "cell_type": "code",
   "execution_count": 6,
   "metadata": {
    "colab": {},
    "colab_type": "code",
    "id": "aQJ1iZjg6BKC"
   },
   "outputs": [],
   "source": [
    "model = {'Height': h,\n",
    "         'Radius': r,\n",
    "         'MaxCurvature': k_max,\n",
    "         'MeshSize': mesh_size,\n",
    "         'Plies': plies,\n",
    "         'EffectivePlies': eff_plies,\n",
    "         'Symmetric': symmetric,\n",
    "         'Balanced': balanced,\n",
    "         'AnglesFunction': angles_fct,\n",
    "         'LoadCase': load_case}\n",
    "col = ['Theta' + str(i) for i in range(1, x_elems + 1)]"
   ]
  },
  {
   "cell_type": "markdown",
   "metadata": {
    "colab_type": "text",
    "id": "1cAm3fq1Z1w2"
   },
   "source": [
    "Since the library pyDOE is able to generate just samples in the range $[0, 1]$ we need to store the range of each feature for the rescaling."
   ]
  },
  {
   "cell_type": "code",
   "execution_count": 7,
   "metadata": {
    "colab": {
     "base_uri": "https://localhost:8080/",
     "height": 111
    },
    "colab_type": "code",
    "executionInfo": {
     "elapsed": 11409,
     "status": "ok",
     "timestamp": 1584868122805,
     "user": {
      "displayName": "Stefano Francesco Pitton",
      "photoUrl": "https://lh3.googleusercontent.com/a-/AOh14GjW-iCKvab94ITigBbPk2X7gaPtHInoGHAT3bpE=s64",
      "userId": "13533339971354837176"
     },
     "user_tz": -60
    },
    "id": "LGYeCUMEwqGV",
    "outputId": "34f6a788-e924-4481-fb5a-8686bebfc777"
   },
   "outputs": [
    {
     "data": {
      "text/html": [
       "<div>\n",
       "<style scoped>\n",
       "    .dataframe tbody tr th:only-of-type {\n",
       "        vertical-align: middle;\n",
       "    }\n",
       "\n",
       "    .dataframe tbody tr th {\n",
       "        vertical-align: top;\n",
       "    }\n",
       "\n",
       "    .dataframe thead th {\n",
       "        text-align: right;\n",
       "    }\n",
       "</style>\n",
       "<table border=\"1\" class=\"dataframe\">\n",
       "  <thead>\n",
       "    <tr style=\"text-align: right;\">\n",
       "      <th></th>\n",
       "      <th>Amplitude</th>\n",
       "      <th>PhaseShift</th>\n",
       "      <th>Omega</th>\n",
       "      <th>Beta</th>\n",
       "    </tr>\n",
       "  </thead>\n",
       "  <tbody>\n",
       "    <tr>\n",
       "      <td>min</td>\n",
       "      <td>-200.0</td>\n",
       "      <td>-90.0</td>\n",
       "      <td>0.0</td>\n",
       "      <td>-90.0</td>\n",
       "    </tr>\n",
       "    <tr>\n",
       "      <td>max</td>\n",
       "      <td>200.0</td>\n",
       "      <td>90.0</td>\n",
       "      <td>2.0</td>\n",
       "      <td>90.0</td>\n",
       "    </tr>\n",
       "  </tbody>\n",
       "</table>\n",
       "</div>"
      ],
      "text/plain": [
       "     Amplitude  PhaseShift  Omega  Beta\n",
       "min     -200.0       -90.0    0.0 -90.0\n",
       "max      200.0        90.0    2.0  90.0"
      ]
     },
     "execution_count": 7,
     "metadata": {},
     "output_type": "execute_result"
    }
   ],
   "source": [
    "interval = []\n",
    "min_int = []\n",
    "for feature in features:\n",
    "    interval.append(range_dict[feature][1] - range_dict[feature][0])\n",
    "    min_int.append(range_dict[feature][0])\n",
    "\n",
    "range_df = pd.DataFrame(range_dict)\n",
    "range_df.index = ['min', 'max']\n",
    "range_df.to_csv(directory + '/features_min_max.csv', index=False)  \n",
    "range_df"
   ]
  },
  {
   "cell_type": "markdown",
   "metadata": {
    "colab_type": "text",
    "id": "cDDDcUcDaty0"
   },
   "source": [
    "This cell is about the sets and the number of samples."
   ]
  },
  {
   "cell_type": "code",
   "execution_count": 8,
   "metadata": {},
   "outputs": [],
   "source": [
    "# # DEPRECATED\n",
    "# # From paper: ...\n",
    "# if n_samples == 'small':\n",
    "#     set_dim = 10 * eff_plies * len(features)\n",
    "# elif n_samples == 'large':\n",
    "#     set_dim = int(3 * (eff_plies * len(features) + 1) * (eff_plies * len(features) + 2) / 2)\n",
    "# else:\n",
    "#     set_dim = n_samples"
   ]
  },
  {
   "cell_type": "code",
   "execution_count": 9,
   "metadata": {
    "colab": {
     "base_uri": "https://localhost:8080/",
     "height": 117
    },
    "colab_type": "code",
    "executionInfo": {
     "elapsed": 11386,
     "status": "ok",
     "timestamp": 1584868122805,
     "user": {
      "displayName": "Stefano Francesco Pitton",
      "photoUrl": "https://lh3.googleusercontent.com/a-/AOh14GjW-iCKvab94ITigBbPk2X7gaPtHInoGHAT3bpE=s64",
      "userId": "13533339971354837176"
     },
     "user_tz": -60
    },
    "id": "TXcU4NI60JSd",
    "outputId": "7ef5da9a-ddce-4cc1-8ed3-0a6492dc0f69"
   },
   "outputs": [
    {
     "data": {
      "text/html": [
       "<div>\n",
       "<style scoped>\n",
       "    .dataframe tbody tr th:only-of-type {\n",
       "        vertical-align: middle;\n",
       "    }\n",
       "\n",
       "    .dataframe tbody tr th {\n",
       "        vertical-align: top;\n",
       "    }\n",
       "\n",
       "    .dataframe thead th {\n",
       "        text-align: right;\n",
       "    }\n",
       "</style>\n",
       "<table border=\"1\" class=\"dataframe\">\n",
       "  <thead>\n",
       "    <tr style=\"text-align: right;\">\n",
       "      <th></th>\n",
       "      <th>Height</th>\n",
       "      <th>Radius</th>\n",
       "      <th>MaxCurvature</th>\n",
       "      <th>MeshSize</th>\n",
       "      <th>Plies</th>\n",
       "      <th>EffectivePlies</th>\n",
       "      <th>Symmetric</th>\n",
       "      <th>Balanced</th>\n",
       "      <th>AnglesFunction</th>\n",
       "      <th>LoadCase</th>\n",
       "      <th>Train</th>\n",
       "      <th>Test</th>\n",
       "    </tr>\n",
       "  </thead>\n",
       "  <tbody>\n",
       "    <tr>\n",
       "      <td>0</td>\n",
       "      <td>705</td>\n",
       "      <td>300</td>\n",
       "      <td>0.001575</td>\n",
       "      <td>10</td>\n",
       "      <td>8</td>\n",
       "      <td>2</td>\n",
       "      <td>True</td>\n",
       "      <td>True</td>\n",
       "      <td>harmlin</td>\n",
       "      <td>torsion</td>\n",
       "      <td>512</td>\n",
       "      <td>128</td>\n",
       "    </tr>\n",
       "  </tbody>\n",
       "</table>\n",
       "</div>"
      ],
      "text/plain": [
       "   Height  Radius  MaxCurvature  MeshSize  Plies  EffectivePlies  Symmetric  \\\n",
       "0     705     300      0.001575        10      8               2       True   \n",
       "\n",
       "   Balanced AnglesFunction LoadCase  Train  Test  \n",
       "0      True        harmlin  torsion    512   128  "
      ]
     },
     "execution_count": 9,
     "metadata": {},
     "output_type": "execute_result"
    }
   ],
   "source": [
    "set_dim = (eff_plies * len(features)) * param * 10\n",
    "    \n",
    "foo = len(sets)\n",
    "\n",
    "if foo == 1:\n",
    "    smpls = {'Train' : [set_dim]}\n",
    "elif foo == 2:\n",
    "    smpls = {'Train' : [round(set_dim * 0.8)],\n",
    "            'Test': [round(set_dim * 0.2)]}\n",
    "else:\n",
    "    smpls = {'Train' : [round(set_dim * 0.6)],\n",
    "            'Test': [round(set_dim * 0.2)],\n",
    "            'Val': [round(set_dim * 0.2)]}\n",
    "\n",
    "for key in smpls.keys():\n",
    "    model.update({key: smpls[key]})\n",
    "\n",
    "model_df = pd.DataFrame(model)\n",
    "model_df.to_csv(directory + '/model_info.csv', index=False, float_format='%.6f')\n",
    "model_df"
   ]
  },
  {
   "cell_type": "markdown",
   "metadata": {
    "colab_type": "text",
    "id": "Mn5jKJ28-osN"
   },
   "source": [
    "## **Sampling**\n",
    "\n",
    "---\n",
    "\n",
    "The way in which in the paper the maximum curvature is imposed was too approximative. In this case the nonlinear equation of the curvature will be solved with *fsolve()*. In this way it is possible to obtain an approximate value of the true function and not the correct value of an approximate function. Instead of modify the frequency, in this case, will be corrected the amplitude. The reason behind this change is that, since the nonlinear equation is solved iteratively, every correction of the frequency makes the position of the maximum curvature change along the path. Modifying instead the amplitude is an easier solution."
   ]
  },
  {
   "cell_type": "markdown",
   "metadata": {},
   "source": [
    "**FOR THE HARMLIN FUNCTION**"
   ]
  },
  {
   "cell_type": "code",
   "execution_count": 10,
   "metadata": {
    "colab": {},
    "colab_type": "code",
    "id": "Qm3pGT4hvOeJ"
   },
   "outputs": [],
   "source": [
    "def a_max(height, mesh_size, amplitude, phase_shift, omega, beta, k_max):\n",
    "    x = np.linspace(mesh_size / 2, h - mesh_size / 2, 1000) \n",
    "    dy = omega * (2 * np.pi / h) * amplitude * np.cos(omega * (2 * np.pi / h) * x + phase_shift) + np.tan(beta )\n",
    "    ddy = - (omega**2) * (4 * (np.pi**2) / (h**2)) * amplitude * np.sin(omega * (2 * np.pi / h) * x + phase_shift)\n",
    "    k = ddy / ((1 + dy**2)**(1.5))\n",
    "\n",
    "    max_value = np.amax(abs(k))\n",
    "    max_pos = np.where(abs(k) == max_value)\n",
    "\n",
    "    if max_value > k_max:\n",
    "        def curvature(a_hat):\n",
    "            dy = omega * (2 * np.pi / h) * a_hat * np.cos(omega * (2 * np.pi / h) * x[max_pos[0][0]] + phase_shift) + np.tan(beta)\n",
    "            ddy = - (omega**2) * (4 * (np.pi**2) / (h**2)) * a_hat * np.sin(omega * (2 * np.pi / h) * x[max_pos[0][0]] + phase_shift)\n",
    "            return k_max - abs(ddy / ((1 + dy**2)**(1.5)))\n",
    "        new_a = fsolve(curvature, amplitude)\n",
    "    else:\n",
    "        new_a = amplitude\n",
    "    \n",
    "    return new_a"
   ]
  },
  {
   "cell_type": "markdown",
   "metadata": {},
   "source": [
    "Generate the input file containing the combinations of input features for each sample and in each ply"
   ]
  },
  {
   "cell_type": "code",
   "execution_count": 11,
   "metadata": {
    "colab": {},
    "colab_type": "code",
    "id": "8xPgJ2T0t2MX"
   },
   "outputs": [],
   "source": [
    "if angles_fct == 'harmlin':\n",
    "    for act_set in sets:\n",
    "          for ply in range(1, eff_plies + 1):\n",
    "                np.random.seed(3 + ply) # for reproducibility\n",
    "                design = pyDOE.lhs(len(features), smpls[act_set][0])\n",
    "                x = design * interval + min_int\n",
    "                for j in range(0, smpls[act_set][0]):\n",
    "                    new_a = a_max(h, mesh_size, x[j, 0], x[j, 1] * deg2rad, x[j, 2], x[j, 3] * deg2rad, k_max)\n",
    "                    # np.random.seed(5) # for reproducibility\n",
    "                    # x[j, 0] = new_a * np.random.uniform(0., 1)\n",
    "                    x[j, 0] = new_a\n",
    "                x_df = pd.DataFrame(x, columns=features)\n",
    "                x_df.to_csv(directory + '/' + act_set + '/' + 'ply' + str(ply) + '.csv', index=False, float_format='%.4f')\n",
    "                \n",
    "elif angles_fct == 'linear':\n",
    "    for act_set in sets:\n",
    "          for ply in range(1, eff_plies + 1):\n",
    "                np.random.seed(3 + ply) # for reproducibility\n",
    "                design = pyDOE.lhs(len(features), smpls[act_set][0])\n",
    "                T = design * interval + min_int\n",
    "                theta = np.zeros((T.shape[0], x_elems))\n",
    "                for j in range(0, smpls[act_set][0]):\n",
    "                    pieces_length = [np.ceil(x_elems/pieces)]\n",
    "                    for piece in range(pieces-1):\n",
    "                        pieces_length.append(np.floor(x_elems/pieces))\n",
    "                    if pieces_length[0] == pieces_length[1]:\n",
    "                        pieces_length[0] += 1\n",
    "\n",
    "                    x_tmp = np.linspace(0,h/pieces,int(pieces_length[0]))\n",
    "                    tht_tmp = 0 + T[j][0] + (T[j][1] - T[j][0]) * x_tmp / x_tmp[-1]\n",
    "                    k_tmp = (T[j][1] - T[j][0]) * deg2rad / x_tmp[-1] * np.cos(tht_tmp * deg2rad)\n",
    "\n",
    "                    max_k = np.max(k_tmp)\n",
    "                    min_k= np.min(k_tmp)\n",
    "                    if max_k >= abs(min_k):\n",
    "                        maxim = max_k\n",
    "                        flag_pos = True\n",
    "                    else:\n",
    "                        maxim = abs(min_k)\n",
    "                        flag_pos = False\n",
    "\n",
    "                    if maxim > k_max and flag_pos:\n",
    "                        iterate = True\n",
    "                        while iterate:\n",
    "                            T[j][1] -= 1\n",
    "                            tht_tmp = 0 + T[j][0] + (T[j][1] - T[j][0]) * x_tmp / x_tmp[-1]\n",
    "                            k_tmp = (T[j][1] - T[j][0]) * deg2rad / x_tmp[-1] * np.cos(tht_tmp * deg2rad)\n",
    "                            max_k = np.max(k_tmp)\n",
    "                            if max_k < k_max:\n",
    "                                iterate = False\n",
    "                    elif maxim > k_max and not flag_pos:\n",
    "                        iterate = True\n",
    "                        while iterate:\n",
    "                            T[j][1] += 1\n",
    "                            tht_tmp = 0 + T[j][0] + (T[j][1] - T[j][0]) * x_tmp / x_tmp[-1]\n",
    "                            k_tmp = (T[j][1] - T[j][0]) * deg2rad / x_tmp[-1] * np.cos(tht_tmp * deg2rad)\n",
    "                            max_k = abs(np.min(k_tmp))\n",
    "                            if max_k < k_max:\n",
    "                                iterate = False\n",
    "\n",
    "                    tht = tht_tmp[0:-1]\n",
    "\n",
    "                    for i in range(1,pieces):\n",
    "                        x_tmp = np.linspace(0,h/pieces,int(pieces_length[i]))\n",
    "                        tht_tmp = 0 + T[j][i] + (T[j][i+1] - T[j][i]) * x_tmp / x_tmp[-1]\n",
    "                        k_tmp = (T[j][i+1] - T[j][i]) * deg2rad / x_tmp[-1] * np.cos(tht_tmp * deg2rad)\n",
    "\n",
    "                        max_k = np.max(k_tmp)\n",
    "                        min_k= np.min(k_tmp)\n",
    "                        if max_k >= abs(min_k):\n",
    "                            maxim = max_k\n",
    "                            flag_pos = True\n",
    "                        else:\n",
    "                            maxim = abs(min_k)\n",
    "                            flag_pos = False\n",
    "\n",
    "                        if maxim > k_max and flag_pos:\n",
    "                            iterate = True\n",
    "                            while iterate:\n",
    "                                T[j][i+1] -= 1\n",
    "                                tht_tmp = 0 + T[j][i] + (T[j][i+1] - T[j][i]) * x_tmp / x_tmp[-1]\n",
    "                                k_tmp = (T[j][i+1] - T[j][i]) * deg2rad / x_tmp[-1] * np.cos(tht_tmp * deg2rad)\n",
    "                                max_k = np.max(k_tmp)\n",
    "                                if max_k < k_max:\n",
    "                                    iterate = False\n",
    "                        elif maxim > k_max and not flag_pos:\n",
    "                            iterate = True\n",
    "                            while iterate:\n",
    "                                T[j][i+1] += 1\n",
    "                                tht_tmp = 0 + T[j][i] + (T[j][i+1] - T[j][i]) * x_tmp / x_tmp[-1]\n",
    "                                k_tmp = (T[j][i+1] - T[j][i]) * deg2rad / x_tmp[-1] * np.cos(tht_tmp * deg2rad)\n",
    "                                max_k = abs(np.min(k_tmp))\n",
    "                                if max_k < k_max:\n",
    "                                    iterate = False\n",
    "                        tht = np.concatenate([tht, tht_tmp])\n",
    "                        theta[j, :] = tht\n",
    "                    T_df = pd.DataFrame(T, columns=features)\n",
    "                    T_df.to_csv(directory + '/' + act_set + '/' + 'ply' + str(ply) + '.csv', index=False, float_format='%.4f')\n",
    "                    theta_df = pd.DataFrame(theta, columns=col)\n",
    "                    theta_df.to_csv(directory + '/' + act_set + '/' + 'theta' + str(ply) + '.csv', index=False, float_format='%.4f')\n",
    "                    \n",
    "elif angles_fct == 'constant':\n",
    "    for act_set in sets:\n",
    "          for ply in range(1, eff_plies + 1):\n",
    "                np.random.seed(3 + ply) # for reproducibility\n",
    "                design = pyDOE.lhs(len(features), smpls[act_set][0])\n",
    "                x = design * interval + min_int\n",
    "                x_df = pd.DataFrame(x, columns=features)\n",
    "                x_df.to_csv(directory + '/' + act_set + '/' + 'ply' + str(ply) + '.csv', index=False, float_format='%.2f')\n",
    "                theta = np.repeat(x, x_elems, axis=1)\n",
    "                theta_df = pd.DataFrame(theta, columns=col)\n",
    "                theta_df.to_csv(directory + '/' + act_set + '/' + 'theta' + str(ply) + '.csv', index=False, float_format='%.2f')"
   ]
  },
  {
   "cell_type": "markdown",
   "metadata": {
    "colab_type": "text",
    "id": "tK_x28pcYi_N"
   },
   "source": [
    "At this point we can also obtain the local angle for each ply in each element of the mesh. Remember that the continuous variation of the local angle of the fiber is approximated as piecewise constant inside each element. Let's first define the function that, given the input parameters of the fiber shapes, returns the local angle inside each element."
   ]
  },
  {
   "cell_type": "code",
   "execution_count": 12,
   "metadata": {
    "colab": {},
    "colab_type": "code",
    "id": "S85VteebZS72"
   },
   "outputs": [],
   "source": [
    "def harmlin(height, mesh_size, amplitude, phase_shift, omega, beta):\n",
    "    x = np.linspace(mesh_size / 2, h - mesh_size / 2, x_elems)  # normalized domain\n",
    "    y = amplitude * (np.sin(omega * (2 * np.pi / h) * x + phase_shift)) + x * np.tan(beta)\n",
    "    simb_dy = 2 * np.pi / h * omega * amplitude * np.cos(omega * (2 * np.pi / h) * x + phase_shift) + np.tan(beta)\n",
    "    return np.arctan(simb_dy) * 180 / np.pi"
   ]
  },
  {
   "cell_type": "markdown",
   "metadata": {
    "colab_type": "text",
    "id": "s41SAcrQhXWf"
   },
   "source": [
    "Now we can calculate the fibers angles of each element."
   ]
  },
  {
   "cell_type": "code",
   "execution_count": 13,
   "metadata": {
    "colab": {},
    "colab_type": "code",
    "id": "CnP7AWTNhdCF"
   },
   "outputs": [],
   "source": [
    "if angles_fct == 'harmlin':\n",
    "    for act_set in sets:\n",
    "          for ply in range(1, eff_plies + 1):\n",
    "                tht = np.empty((0, x_elems), int)\n",
    "                file_name = directory + '/' + act_set + '/ply' + str(ply) + '.csv'\n",
    "                x = pd.read_csv(file_name, names = features, sep=\",\", skiprows=1)\n",
    "                for i in range(0, smpls[act_set][0]):\n",
    "                    theta = np.array([harmlin(h, mesh_size, x.values[i][0], x.values[i][1] * np.pi / 180, x.values[i][2], x.values[i][3] * np.pi / 180)])\n",
    "                    tht = np.append(tht, theta, axis=0)\n",
    "                tht_df = pd.DataFrame(tht, columns=col)\n",
    "                tht_df.to_csv(directory + '/' + act_set + '/' + 'theta' + str(ply) + '.csv', index=False, float_format='%.3f')"
   ]
  },
  {
   "cell_type": "code",
   "execution_count": 14,
   "metadata": {
    "colab": {
     "base_uri": "https://localhost:8080/",
     "height": 238
    },
    "colab_type": "code",
    "executionInfo": {
     "elapsed": 17573,
     "status": "ok",
     "timestamp": 1584868129037,
     "user": {
      "displayName": "Stefano Francesco Pitton",
      "photoUrl": "https://lh3.googleusercontent.com/a-/AOh14GjW-iCKvab94ITigBbPk2X7gaPtHInoGHAT3bpE=s64",
      "userId": "13533339971354837176"
     },
     "user_tz": -60
    },
    "id": "8iw68bg10k2B",
    "outputId": "45acb571-dfff-4b33-861a-6e73d44b199f"
   },
   "outputs": [],
   "source": [
    "#!zip -r dataset.zip dataset\n",
    "#files.download(\"dataset.zip\")"
   ]
  }
 ],
 "metadata": {
  "colab": {
   "authorship_tag": "ABX9TyObsrQ+bX8Jv0JbNZxxsII4",
   "collapsed_sections": [],
   "name": "Design_of_Experiments.ipynb",
   "provenance": [],
   "toc_visible": true
  },
  "kernelspec": {
   "display_name": "Python 3",
   "language": "python",
   "name": "python3"
  },
  "language_info": {
   "codemirror_mode": {
    "name": "ipython",
    "version": 3
   },
   "file_extension": ".py",
   "mimetype": "text/x-python",
   "name": "python",
   "nbconvert_exporter": "python",
   "pygments_lexer": "ipython3",
   "version": "3.7.7"
  }
 },
 "nbformat": 4,
 "nbformat_minor": 4
}
