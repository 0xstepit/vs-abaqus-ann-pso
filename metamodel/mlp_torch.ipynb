{
 "cells": [
  {
   "cell_type": "markdown",
   "metadata": {
    "colab_type": "text",
    "id": "GLQLStKwyzgs"
   },
   "source": [
    "# **METAMODELING WITH ARTIFICIAL NEURAL NETWORK**\n",
    "\n",
    "In this notebook, we will use the results of Abaqus analyses in order to build an Artificial Neural Network (ANN) of the Finite Element (FE) analysis solver."
   ]
  },
  {
   "cell_type": "code",
   "execution_count": 1,
   "metadata": {
    "colab": {},
    "colab_type": "code",
    "id": "Orwif6dIvF4t"
   },
   "outputs": [],
   "source": [
    "import matplotlib.pyplot as plt\n",
    "import pandas as pd\n",
    "import numpy as np\n",
    "import random\n",
    "import time\n",
    "import sys\n",
    "import os"
   ]
  },
  {
   "cell_type": "code",
   "execution_count": 2,
   "metadata": {
    "colab": {
     "base_uri": "https://localhost:8080/",
     "height": 51
    },
    "colab_type": "code",
    "id": "Bwj567NSvHv1",
    "outputId": "e91823c3-87c5-47fe-cca9-cd505741e7ff"
   },
   "outputs": [],
   "source": [
    "# Scikit-learn\n",
    "from sklearn.model_selection import train_test_split\n",
    "\n",
    "# PyTorch\n",
    "import torch\n",
    "from torch.autograd import Variable\n",
    "from torch.nn.parameter import Parameter\n",
    "import torch.nn as nn\n",
    "import torch.nn.functional as F\n",
    "import torch.optim as optim\n",
    "import torch.nn.init as init\n",
    "\n",
    "# Matplotlib spec\n",
    "from matplotlib import rc\n",
    "rc('font',**{'family':'serif','serif':['Palatino']}) # Palatino font\n",
    "plt.rcParams['pdf.fonttype'] = 42"
   ]
  },
  {
   "cell_type": "code",
   "execution_count": 3,
   "metadata": {
    "colab": {
     "base_uri": "https://localhost:8080/",
     "height": 34
    },
    "colab_type": "code",
    "id": "jqtrSiFqdBTe",
    "outputId": "1cd691d5-fc75-4420-b6e5-d331a6ee9c38"
   },
   "outputs": [
    {
     "data": {
      "text/plain": [
       "'1.5.1'"
      ]
     },
     "execution_count": 3,
     "metadata": {},
     "output_type": "execute_result"
    }
   ],
   "source": [
    "torch.__version__"
   ]
  },
  {
   "cell_type": "markdown",
   "metadata": {
    "colab_type": "text",
    "id": "xMkgB8U2dS1A"
   },
   "source": [
    "When this notebook has been generated the result of the previous line of code is: _'1.5.1'_"
   ]
  },
  {
   "cell_type": "markdown",
   "metadata": {
    "colab_type": "text",
    "id": "JZDSnO7jyzg8"
   },
   "source": [
    "We fix the seed in order to obtain reproducible results.\n",
    "\n",
    "__N.B.__ : Reproducible results are obtained every time the runtime is restarded and runned. If you run multiple time the same cell the results will not be reporducible."
   ]
  },
  {
   "cell_type": "code",
   "execution_count": 4,
   "metadata": {
    "colab": {},
    "colab_type": "code",
    "id": "SytMvTAE22lL"
   },
   "outputs": [],
   "source": [
    "seed = 0\n",
    "np.random.seed(seed=seed)\n",
    "torch.manual_seed(seed=seed)\n",
    "random.seed(seed)\n",
    "\n",
    "# Last two lines just when using GPU\n",
    "torch.backends.cudnn.deterministic = True\n",
    "torch.cuda.manual_seed(seed=seed)"
   ]
  },
  {
   "cell_type": "markdown",
   "metadata": {
    "colab_type": "text",
    "id": "bxRgA_ioyzhA"
   },
   "source": [
    "## **Data preprocessing**\n",
    "\n",
    "We start by importing some information about the model used to generate the dataset."
   ]
  },
  {
   "cell_type": "code",
   "execution_count": 30,
   "metadata": {
    "colab": {
     "base_uri": "https://localhost:8080/",
     "height": 80
    },
    "colab_type": "code",
    "id": "0FZ6R8aeyzhB",
    "outputId": "e6f59f12-68cb-4eb0-dd90-990424b0c8c0"
   },
   "outputs": [
    {
     "data": {
      "text/html": [
       "<div>\n",
       "<style scoped>\n",
       "    .dataframe tbody tr th:only-of-type {\n",
       "        vertical-align: middle;\n",
       "    }\n",
       "\n",
       "    .dataframe tbody tr th {\n",
       "        vertical-align: top;\n",
       "    }\n",
       "\n",
       "    .dataframe thead th {\n",
       "        text-align: right;\n",
       "    }\n",
       "</style>\n",
       "<table border=\"1\" class=\"dataframe\">\n",
       "  <thead>\n",
       "    <tr style=\"text-align: right;\">\n",
       "      <th></th>\n",
       "      <th>Radius</th>\n",
       "      <th>MaxCurvature</th>\n",
       "      <th>MeshSize</th>\n",
       "      <th>Plies</th>\n",
       "      <th>EffectivePlies</th>\n",
       "      <th>Symmetric</th>\n",
       "      <th>Balanced</th>\n",
       "      <th>AnglesFunction</th>\n",
       "      <th>LoadCase</th>\n",
       "      <th>Train</th>\n",
       "      <th>Test</th>\n",
       "    </tr>\n",
       "  </thead>\n",
       "  <tbody>\n",
       "    <tr>\n",
       "      <th>Value</th>\n",
       "      <td>300</td>\n",
       "      <td>0.001575</td>\n",
       "      <td>10</td>\n",
       "      <td>8</td>\n",
       "      <td>2</td>\n",
       "      <td>True</td>\n",
       "      <td>True</td>\n",
       "      <td>harmlin</td>\n",
       "      <td>torsion</td>\n",
       "      <td>512</td>\n",
       "      <td>128</td>\n",
       "    </tr>\n",
       "  </tbody>\n",
       "</table>\n",
       "</div>"
      ],
      "text/plain": [
       "       Radius  MaxCurvature  MeshSize  Plies  EffectivePlies  Symmetric  \\\n",
       "Value     300      0.001575        10      8               2       True   \n",
       "\n",
       "       Balanced AnglesFunction LoadCase  Train  Test  \n",
       "Value      True        harmlin  torsion    512   128  "
      ]
     },
     "execution_count": 30,
     "metadata": {},
     "output_type": "execute_result"
    }
   ],
   "source": [
    "# Modify parameter to choose the output folder to consider\n",
    "load_case = 'torsion'\n",
    "stacking_sequence = 'symmetric_balanced'\n",
    "data_set = '8x'\n",
    "fiber_path = 'harmlin'\n",
    "\n",
    "# Check if notebook running in Colab\n",
    "is_colab = 'google.colab' in sys.modules\n",
    "\n",
    "# Model info folder\n",
    "if is_colab:\n",
    "    input_folder = './'\n",
    "else:\n",
    "    input_folder = load_case + '/' + stacking_sequence + '/' + data_set + '/' + fiber_path + '/'\n",
    "\n",
    "info = pd.read_csv(input_folder + 'model_info.csv', sep=\",\")\n",
    "info.index = ['Value']\n",
    "eff_plies = int(info['EffectivePlies'].values)\n",
    "info.head()"
   ]
  },
  {
   "cell_type": "code",
   "execution_count": 6,
   "metadata": {},
   "outputs": [
    {
     "name": "stdout",
     "output_type": "stream",
     "text": [
      "Active sets: Train, Test\n"
     ]
    }
   ],
   "source": [
    "sets = ['Train', 'Val', 'Test']\n",
    "for set in sets:\n",
    "    if set not in info.keys():\n",
    "        sets.remove(set)\n",
    "print(\"Active sets: {}, {}\".format(*sets))"
   ]
  },
  {
   "cell_type": "markdown",
   "metadata": {
    "colab_type": "text",
    "id": "EIBWzRwLyzhG"
   },
   "source": [
    "At this point we have to import the data set containing the input and output of the FE analysis. The data is stored in a dataframe in which the upper part is associated to the training set and the lower part to the test set. The precise number of upper row belonging to the train set is indicated in the info above."
   ]
  },
  {
   "cell_type": "code",
   "execution_count": 36,
   "metadata": {
    "colab": {
     "base_uri": "https://localhost:8080/",
     "height": 419
    },
    "colab_type": "code",
    "id": "niD2Q60oyzhG",
    "outputId": "6046f3fb-ed80-4099-aa94-7eb2dd87de49"
   },
   "outputs": [
    {
     "data": {
      "text/html": [
       "<div>\n",
       "<style scoped>\n",
       "    .dataframe tbody tr th:only-of-type {\n",
       "        vertical-align: middle;\n",
       "    }\n",
       "\n",
       "    .dataframe tbody tr th {\n",
       "        vertical-align: top;\n",
       "    }\n",
       "\n",
       "    .dataframe thead th {\n",
       "        text-align: right;\n",
       "    }\n",
       "</style>\n",
       "<table border=\"1\" class=\"dataframe\">\n",
       "  <thead>\n",
       "    <tr style=\"text-align: right;\">\n",
       "      <th></th>\n",
       "      <th>Amplitude1</th>\n",
       "      <th>PhaseShift1</th>\n",
       "      <th>Omega1</th>\n",
       "      <th>Beta1</th>\n",
       "      <th>Amplitude2</th>\n",
       "      <th>PhaseShift2</th>\n",
       "      <th>Omega2</th>\n",
       "      <th>Beta2</th>\n",
       "      <th>Buckling</th>\n",
       "      <th>Stiffness</th>\n",
       "    </tr>\n",
       "  </thead>\n",
       "  <tbody>\n",
       "    <tr>\n",
       "      <th>count</th>\n",
       "      <td>640.000000</td>\n",
       "      <td>640.000000</td>\n",
       "      <td>640.000000</td>\n",
       "      <td>640.000000</td>\n",
       "      <td>640.000000</td>\n",
       "      <td>640.000000</td>\n",
       "      <td>640.000000</td>\n",
       "      <td>640.000000</td>\n",
       "      <td>640.000000</td>\n",
       "      <td>6.400000e+02</td>\n",
       "    </tr>\n",
       "    <tr>\n",
       "      <th>mean</th>\n",
       "      <td>-0.633786</td>\n",
       "      <td>0.005536</td>\n",
       "      <td>1.000078</td>\n",
       "      <td>-0.002559</td>\n",
       "      <td>-1.716353</td>\n",
       "      <td>0.012386</td>\n",
       "      <td>0.999973</td>\n",
       "      <td>0.005630</td>\n",
       "      <td>625.422031</td>\n",
       "      <td>6.900489e+06</td>\n",
       "    </tr>\n",
       "    <tr>\n",
       "      <th>std</th>\n",
       "      <td>82.809519</td>\n",
       "      <td>52.005238</td>\n",
       "      <td>0.577781</td>\n",
       "      <td>51.996747</td>\n",
       "      <td>82.051847</td>\n",
       "      <td>52.004818</td>\n",
       "      <td>0.577854</td>\n",
       "      <td>52.003605</td>\n",
       "      <td>23019.537491</td>\n",
       "      <td>2.624252e+06</td>\n",
       "    </tr>\n",
       "    <tr>\n",
       "      <th>min</th>\n",
       "      <td>-195.753000</td>\n",
       "      <td>-89.808000</td>\n",
       "      <td>0.004000</td>\n",
       "      <td>-89.749000</td>\n",
       "      <td>-199.306000</td>\n",
       "      <td>-89.694000</td>\n",
       "      <td>0.001000</td>\n",
       "      <td>-89.677000</td>\n",
       "      <td>-37397.900000</td>\n",
       "      <td>1.580429e+06</td>\n",
       "    </tr>\n",
       "    <tr>\n",
       "      <th>25%</th>\n",
       "      <td>-45.722000</td>\n",
       "      <td>-45.037500</td>\n",
       "      <td>0.500000</td>\n",
       "      <td>-44.877250</td>\n",
       "      <td>-44.977000</td>\n",
       "      <td>-44.972000</td>\n",
       "      <td>0.499750</td>\n",
       "      <td>-44.976250</td>\n",
       "      <td>-21553.325000</td>\n",
       "      <td>4.951265e+06</td>\n",
       "    </tr>\n",
       "    <tr>\n",
       "      <th>50%</th>\n",
       "      <td>0.191500</td>\n",
       "      <td>0.025000</td>\n",
       "      <td>0.998500</td>\n",
       "      <td>0.051000</td>\n",
       "      <td>0.036000</td>\n",
       "      <td>0.070000</td>\n",
       "      <td>0.998500</td>\n",
       "      <td>0.029500</td>\n",
       "      <td>11844.100000</td>\n",
       "      <td>6.874971e+06</td>\n",
       "    </tr>\n",
       "    <tr>\n",
       "      <th>75%</th>\n",
       "      <td>41.232750</td>\n",
       "      <td>44.813500</td>\n",
       "      <td>1.498250</td>\n",
       "      <td>44.808250</td>\n",
       "      <td>38.815750</td>\n",
       "      <td>44.992000</td>\n",
       "      <td>1.499500</td>\n",
       "      <td>44.966500</td>\n",
       "      <td>21768.725000</td>\n",
       "      <td>8.746724e+06</td>\n",
       "    </tr>\n",
       "    <tr>\n",
       "      <th>max</th>\n",
       "      <td>199.303000</td>\n",
       "      <td>89.756000</td>\n",
       "      <td>1.999000</td>\n",
       "      <td>89.750000</td>\n",
       "      <td>196.889000</td>\n",
       "      <td>89.809000</td>\n",
       "      <td>1.999000</td>\n",
       "      <td>89.943000</td>\n",
       "      <td>36818.400000</td>\n",
       "      <td>1.244372e+07</td>\n",
       "    </tr>\n",
       "  </tbody>\n",
       "</table>\n",
       "</div>"
      ],
      "text/plain": [
       "       Amplitude1  PhaseShift1      Omega1       Beta1  Amplitude2  \\\n",
       "count  640.000000   640.000000  640.000000  640.000000  640.000000   \n",
       "mean    -0.633786     0.005536    1.000078   -0.002559   -1.716353   \n",
       "std     82.809519    52.005238    0.577781   51.996747   82.051847   \n",
       "min   -195.753000   -89.808000    0.004000  -89.749000 -199.306000   \n",
       "25%    -45.722000   -45.037500    0.500000  -44.877250  -44.977000   \n",
       "50%      0.191500     0.025000    0.998500    0.051000    0.036000   \n",
       "75%     41.232750    44.813500    1.498250   44.808250   38.815750   \n",
       "max    199.303000    89.756000    1.999000   89.750000  196.889000   \n",
       "\n",
       "       PhaseShift2      Omega2       Beta2      Buckling     Stiffness  \n",
       "count   640.000000  640.000000  640.000000    640.000000  6.400000e+02  \n",
       "mean      0.012386    0.999973    0.005630    625.422031  6.900489e+06  \n",
       "std      52.004818    0.577854   52.003605  23019.537491  2.624252e+06  \n",
       "min     -89.694000    0.001000  -89.677000 -37397.900000  1.580429e+06  \n",
       "25%     -44.972000    0.499750  -44.976250 -21553.325000  4.951265e+06  \n",
       "50%       0.070000    0.998500    0.029500  11844.100000  6.874971e+06  \n",
       "75%      44.992000    1.499500   44.966500  21768.725000  8.746724e+06  \n",
       "max      89.809000    1.999000   89.943000  36818.400000  1.244372e+07  "
      ]
     },
     "execution_count": 36,
     "metadata": {},
     "output_type": "execute_result"
    }
   ],
   "source": [
    "# Import data sets\n",
    "data_orig = pd.read_csv(input_folder + '/data.csv', sep=',')\n",
    "data_orig.describe()"
   ]
  },
  {
   "cell_type": "markdown",
   "metadata": {
    "colab_type": "text",
    "id": "S9U4RPrnyzhP"
   },
   "source": [
    "The most important step to perform before training our model is the normalization of the variables. Different strategies are possible at this end, among which 2 are the most used:\n",
    "\n",
    "* Range normalization: converts all the values to the range $[0, 1]$\n",
    "\n",
    "* Standard score normalization: forces the variables to have $0$ mean and $1$ standard deviation\n",
    "\n",
    "We will try both to see the effect on the model performance."
   ]
  },
  {
   "cell_type": "code",
   "execution_count": 8,
   "metadata": {
    "colab": {},
    "colab_type": "code",
    "id": "-ZVjkHziyzhQ"
   },
   "outputs": [],
   "source": [
    "def range_norm(x, x_min=None, x_max=None):\n",
    "    \"\"\" Normalization in range [0, 1] \"\"\"\n",
    "    if x_min is None and x_max is None:\n",
    "        x_min = np.min(x, axis=0)\n",
    "        x_max = np.max(x, axis=0)\n",
    "    x_norm = (x - x_min) / (x_max - x_min)\n",
    "\n",
    "    return x_norm, x_min, x_max\n",
    "\n",
    "def std_norm(x, m=None, s=None):\n",
    "    \"\"\" Normalization with zero mean and unitary standard deviation \"\"\"\n",
    "    if m is None and s is None:\n",
    "        m = np.mean(x, axis=0)\n",
    "        s = np.std(x, axis=0)\n",
    "    x_norm = (x - m) / s\n",
    "    \n",
    "    return x_norm, m, s"
   ]
  },
  {
   "cell_type": "markdown",
   "metadata": {
    "colab_type": "text",
    "id": "TL3mX63XyzhT"
   },
   "source": [
    "Now we can split the data into training and test set. The two sets have been generate independently during the DOE."
   ]
  },
  {
   "cell_type": "code",
   "execution_count": 9,
   "metadata": {
    "colab": {
     "base_uri": "https://localhost:8080/",
     "height": 153
    },
    "colab_type": "code",
    "id": "uy149NwNyzhT",
    "outputId": "224f9a13-bed4-4c54-f05e-a4eee762b812"
   },
   "outputs": [],
   "source": [
    "X = data_orig.drop(['Buckling', 'Stiffness'], axis=1).values\n",
    "Y = data_orig[['Buckling','Stiffness']].values\n",
    "\n",
    "# Train set\n",
    "train_smp = int(info['Train'].values)\n",
    "_X_train = X[:train_smp, :]\n",
    "_Y_train = Y[:train_smp]\n",
    "last = np.copy(train_smp)\n",
    "\n",
    "# Validation set\n",
    "if 'Val' in sets:\n",
    "    val_smp = int(info['Val'].values)\n",
    "    _X_val = X[last:last+val_smp, :]\n",
    "    _Y_val = Y[last:last+val_smp]\n",
    "    last += val_smp\n",
    "\n",
    "# Test set\n",
    "if 'Test' in sets:\n",
    "    test_smp = int(info['Test'].values)\n",
    "    _X_test = X[last:last+test_smp, :]\n",
    "    _Y_test = Y[last:last+test_smp]"
   ]
  },
  {
   "cell_type": "markdown",
   "metadata": {},
   "source": [
    "If validation set is not present we will generate it from the training set."
   ]
  },
  {
   "cell_type": "code",
   "execution_count": 10,
   "metadata": {},
   "outputs": [
    {
     "name": "stdout",
     "output_type": "stream",
     "text": [
      "            Data sets info: \n",
      "\n",
      "X_train : (409, 8)  |  Y_train : (409, 2)\n",
      "X_val   : (103, 8)  |  Y_val   : (103, 2)\n",
      "X_test  : (128, 8)  |  Y_test  : (128, 2) \n",
      "\n"
     ]
    }
   ],
   "source": [
    "_X_train, _X_val, _Y_train, _Y_val = train_test_split(_X_train, _Y_train, test_size=0.2, random_state=seed)\n",
    "print('            Data sets info: \\n')\n",
    "print(\"X_train : {}  |  Y_train : {}\".format(_X_train.shape, _Y_train.shape))\n",
    "print(\"X_val   : {}  |  Y_val   : {}\".format(_X_val.shape, _Y_val.shape))\n",
    "print(\"X_test  : {}  |  Y_test  : {} \\n\".format(_X_test.shape, _Y_test.shape))"
   ]
  },
  {
   "cell_type": "markdown",
   "metadata": {},
   "source": [
    "At this point we can generate the iterable data sets for Torch"
   ]
  },
  {
   "cell_type": "code",
   "execution_count": 11,
   "metadata": {},
   "outputs": [],
   "source": [
    "def shuffle_data(X, Y):\n",
    "    \"\"\" Random shuffle of samples in X and y \"\"\"\n",
    "    idx = np.arange(X.shape[0])\n",
    "    np.random.shuffle(idx)\n",
    "    \n",
    "    return X[idx], Y[idx]"
   ]
  },
  {
   "cell_type": "code",
   "execution_count": 12,
   "metadata": {
    "colab": {
     "base_uri": "https://localhost:8080/",
     "height": 297
    },
    "colab_type": "code",
    "id": "ORbqtnh-yzhR",
    "outputId": "d18315cf-cbc9-40f5-f987-26f6485bba5b"
   },
   "outputs": [],
   "source": [
    "# Normalization training set\n",
    "X_train, x_min, x_max = range_norm(_X_train)\n",
    "Y_train, y_min, y_max = range_norm(_Y_train)\n",
    "\n",
    "# Shuffle training set\n",
    "X_train, Y_train = shuffle_data(X_train, Y_train)"
   ]
  },
  {
   "cell_type": "markdown",
   "metadata": {},
   "source": [
    "We need to save the normalization values since we will need them during the optimization phase."
   ]
  },
  {
   "cell_type": "code",
   "execution_count": 13,
   "metadata": {},
   "outputs": [],
   "source": [
    "# We calculate how many free variables are in the model\n",
    "if info['AnglesFunction'].values == 'harmlin':\n",
    "    col_num = int(4 * info['EffectivePlies'].values)"
   ]
  },
  {
   "cell_type": "code",
   "execution_count": 14,
   "metadata": {},
   "outputs": [],
   "source": [
    "X_bounds = pd.DataFrame({'x_min': x_min, 'x_max': x_max}, index=data_orig.columns[:col_num]).T\n",
    "Y_bounds = pd.DataFrame({'y_min':y_min, 'y_max':y_max}, index=data_orig.columns[col_num:]).T\n",
    "X_bounds.to_csv(input_folder + '/X_bounds.csv', index=True, float_format='%.3f')\n",
    "Y_bounds.to_csv(input_folder'/Y_bounds.csv', index=True, float_format='%.3f')"
   ]
  },
  {
   "cell_type": "code",
   "execution_count": 15,
   "metadata": {},
   "outputs": [],
   "source": [
    "# Normalization validation set\n",
    "X_val, _, _ = range_norm(_X_val, x_min=x_min, x_max=x_max)\n",
    "Y_val, _, _ = range_norm(_Y_val, x_min=y_min, x_max=y_max)\n",
    "\n",
    "# Normalization testing set\n",
    "X_test, _, _ = range_norm(_X_test, x_min=x_min, x_max=x_max)\n",
    "Y_test, _, _ = range_norm(_Y_test, x_min=y_min, x_max=y_max)"
   ]
  },
  {
   "cell_type": "code",
   "execution_count": 16,
   "metadata": {},
   "outputs": [],
   "source": [
    "def create_batches(_X, _Y, batch_size):\n",
    "    \"\"\" Split the data into k batches \"\"\"\n",
    "\n",
    "    n_samples = _X.shape[0]\n",
    "    leftovers = {}\n",
    "    n_leftovers = n_samples % batch_size\n",
    "    \n",
    "    # Case with all batches of equal size\n",
    "    if n_leftovers != 0:\n",
    "        leftovers[\"X\"] = _X[-n_leftovers:]\n",
    "        leftovers[\"Y\"] = _Y[-n_leftovers:]\n",
    "        _X = _X[:-n_leftovers]\n",
    "        _Y = _Y[:-n_leftovers]\n",
    "\n",
    "    k = np.int(_X.shape[0] / batch_size)\n",
    "        \n",
    "    X_split = np.split(_X, k)\n",
    "    Y_split = np.split(_Y, k)\n",
    "    \n",
    "    # Add leftover samples as last batch\n",
    "    if n_leftovers != 0:\n",
    "        X_split.append(leftovers[\"X\"])\n",
    "        Y_split.append(leftovers[\"Y\"])\n",
    "\n",
    "    return X_split, Y_split"
   ]
  },
  {
   "cell_type": "code",
   "execution_count": 17,
   "metadata": {},
   "outputs": [],
   "source": [
    "batch_size = 64\n",
    "X_train_b, Y_train_b = create_batches(X_train, Y_train, batch_size=batch_size)"
   ]
  },
  {
   "cell_type": "code",
   "execution_count": 18,
   "metadata": {},
   "outputs": [
    {
     "name": "stdout",
     "output_type": "stream",
     "text": [
      "Batches dimensions: \n",
      "\n",
      "Batch 0 : input (64, 8)  ,  output : (64, 2)\n",
      "Batch 1 : input (64, 8)  ,  output : (64, 2)\n",
      "Batch 2 : input (64, 8)  ,  output : (64, 2)\n",
      "Batch 3 : input (64, 8)  ,  output : (64, 2)\n",
      "Batch 4 : input (64, 8)  ,  output : (64, 2)\n",
      "Batch 5 : input (64, 8)  ,  output : (64, 2)\n",
      "Batch 6 : input (25, 8)  ,  output : (25, 2)\n"
     ]
    }
   ],
   "source": [
    "print(\"Batches dimensions: \\n\")\n",
    "for i in range(len(X_train_b)):\n",
    "    print(\"Batch {} : input {}  ,  output : {}\".format(i, X_train_b[i].shape, Y_train_b[i].shape))"
   ]
  },
  {
   "cell_type": "code",
   "execution_count": 19,
   "metadata": {
    "colab": {},
    "colab_type": "code",
    "id": "7Cyx2vNti_z4"
   },
   "outputs": [],
   "source": [
    "class EarlyStopping:\n",
    "    \"\"\" Stop network training if validation loss increases for a certain time.\n",
    "        The code is base on https://github.com/Bjarten/early-stopping-pytorch/blob/master/pytorchtools.py\"\"\"\n",
    "    def __init__(self, patience=30, path=input_folder + '/weights_NN_'):\n",
    "        self.patience = patience\n",
    "        self.counter = 0\n",
    "        self.early_stop = False\n",
    "        self.val_loss_min = np.Inf\n",
    "        self.path = path\n",
    "\n",
    "    def __call__(self, val_loss, model):\n",
    "\n",
    "        if self.val_loss_min > val_loss:\n",
    "            self.val_loss_min = val_loss\n",
    "            self.counter = 0\n",
    "            torch.save(model.state_dict(), self.path)\n",
    "        else:\n",
    "            self.counter += 1\n",
    "            if self.counter >= self.patience:\n",
    "                self.early_stop = True"
   ]
  },
  {
   "cell_type": "markdown",
   "metadata": {
    "colab_type": "text",
    "id": "-7O7AIIoyzhU"
   },
   "source": [
    "## **Neural network**"
   ]
  },
  {
   "cell_type": "markdown",
   "metadata": {
    "colab_type": "text",
    "id": "Vyx3cytYfs7E"
   },
   "source": [
    "First define network class"
   ]
  },
  {
   "cell_type": "markdown",
   "metadata": {
    "colab": {},
    "colab_type": "code",
    "id": "3aMiO2DUfrIK"
   },
   "source": [
    "class FFNN(torch.nn.Module):\n",
    "    \"\"\" Implementation of FeedForward Neural Network \"\"\"\n",
    "    def __init__(self, D_in, H, D_out, p):\n",
    "        super(FFNN, self).__init__()\n",
    "        # First hidden layer\n",
    "        self.W_1 = Parameter(init.xavier_normal_(torch.Tensor(H, D_in)))\n",
    "        self.b_1 = Parameter(init.constant_(torch.Tensor(H), 0))\n",
    "        # Second hidden layer\n",
    "        self.W_2 = Parameter(init.xavier_normal_(torch.Tensor(H, H)))\n",
    "        self.b_2 = Parameter(init.constant_(torch.Tensor(H), 0))\n",
    "        # Third hidden layer\n",
    "        #self.W_3 = Parameter(init.xavier_normal_(torch.Tensor(H, H)))\n",
    "        #self.b_3 = Parameter(init.constant_(torch.Tensor(H), 0))\n",
    "        # Output layer\n",
    "        self.W_4 = Parameter(init.xavier_normal_(torch.Tensor(D_out, H)))\n",
    "        self.b_4 = Parameter(init.constant_(torch.Tensor(D_out), 0))\n",
    "        \n",
    "        # define activation function in constructor\n",
    "        self.activation_1 = torch.nn.ReLU()\n",
    "        self.activation_2 = torch.nn.ReLU()\n",
    "        #self.activation_3 = torch.nn.ReLU()\n",
    "        self.dropout = torch.nn.Dropout(p=p)\n",
    "\n",
    "    def forward(self, x):\n",
    "        x = F.linear(x, self.W_1, self.b_1)\n",
    "        x = self.activation_1(x)\n",
    "        x = self.dropout(x)\n",
    "        x = F.linear(x, self.W_2, self.b_2)\n",
    "        x = self.activation_2(x)\n",
    "        x = self.dropout(x)\n",
    "        #x = F.linear(x, self.W_3, self.b_3)\n",
    "        #x = self.activation_3(x)\n",
    "        #x = self.dropout(x)\n",
    "        pred = F.linear(x, self.W_4, self.b_4)\n",
    "        return pred\n",
    "\n",
    "p=0.2"
   ]
  },
  {
   "cell_type": "code",
   "execution_count": null,
   "metadata": {},
   "outputs": [],
   "source": [
    "class FFNN(torch.nn.Module):\n",
    "    \"\"\" Implementation of FeedForward Neural Network \"\"\"\n",
    "    def __init__(self, D_in, H, D_out, p):\n",
    "        super(FFNN, self).__init__()\n",
    "        # First hidden layer\n",
    "        self.W_1 = Parameter(init.xavier_normal_(torch.Tensor(H, D_in)))\n",
    "        self.b_1 = Parameter(init.constant_(torch.Tensor(H), 0))\n",
    "        # Second hidden layer\n",
    "        self.W_2 = Parameter(init.xavier_normal_(torch.Tensor(H, H)))\n",
    "        self.b_2 = Parameter(init.constant_(torch.Tensor(H), 0))\n",
    "        # Third hidden layer\n",
    "        #self.W_3 = Parameter(init.xavier_normal_(torch.Tensor(H, H)))\n",
    "        #self.b_3 = Parameter(init.constant_(torch.Tensor(H), 0))\n",
    "        # Output layer\n",
    "        self.W_4 = Parameter(init.xavier_normal_(torch.Tensor(D_out, H)))\n",
    "        self.b_4 = Parameter(init.constant_(torch.Tensor(D_out), 0))\n",
    "        \n",
    "        # define activation function in constructor\n",
    "        self.activation_1 = torch.nn.ReLU()\n",
    "        self.activation_2 = torch.nn.ReLU()\n",
    "        #self.activation_3 = torch.nn.ReLU()\n",
    "        self.dropout = torch.nn.Dropout(p=p)\n",
    "\n",
    "    def forward(self, x):\n",
    "        x = F.linear(x, self.W_1, self.b_1)\n",
    "        x = self.activation_1(x)\n",
    "        x = self.dropout(x)\n",
    "        x = F.linear(x, self.W_2, self.b_2)\n",
    "        x = self.activation_2(x)\n",
    "        x = self.dropout(x)\n",
    "        #x = F.linear(x, self.W_3, self.b_3)\n",
    "        #x = self.activation_3(x)\n",
    "        #x = self.dropout(x)\n",
    "        pred = F.linear(x, self.W_4, self.b_4)\n",
    "        return pred"
   ]
  },
  {
   "cell_type": "code",
   "execution_count": 21,
   "metadata": {
    "colab": {
     "base_uri": "https://localhost:8080/",
     "height": 357
    },
    "colab_type": "code",
    "id": "ibkHXkYKmXs6",
    "outputId": "3a2927df-9996-474a-eee5-3ec0d6f12263",
    "scrolled": false
   },
   "outputs": [
    {
     "name": "stdout",
     "output_type": "stream",
     "text": [
      "Iteration : 0000 | Train loss : 0.77409 | Val loss : 0.48309\n",
      "Iteration : 0100 | Train loss : 0.09403 | Val loss : 0.07564\n",
      "Iteration : 0200 | Train loss : 0.08073 | Val loss : 0.06375\n",
      "Iteration : 0300 | Train loss : 0.07158 | Val loss : 0.05997\n",
      "Iteration : 0400 | Train loss : 0.06552 | Val loss : 0.05783\n",
      "Iteration : 0500 | Train loss : 0.05637 | Val loss : 0.05731\n",
      "Iteration : 0600 | Train loss : 0.05793 | Val loss : 0.05658\n",
      "Iteration : 0700 | Train loss : 0.05307 | Val loss : 0.05611\n",
      "Iteration : 0800 | Train loss : 0.05198 | Val loss : 0.05488\n",
      "Iteration : 0900 | Train loss : 0.04742 | Val loss : 0.05368\n",
      "Iteration : 1000 | Train loss : 0.04548 | Val loss : 0.05465\n",
      "Iteration : 1100 | Train loss : 0.04343 | Val loss : 0.05267\n",
      "Iteration : 1200 | Train loss : 0.04143 | Val loss : 0.05041\n",
      "Iteration : 1300 | Train loss : 0.04515 | Val loss : 0.05110\n",
      "Iteration : 1400 | Train loss : 0.03964 | Val loss : 0.05131\n",
      "Iteration : 1500 | Train loss : 0.04262 | Val loss : 0.05284\n",
      "Iteration : 1600 | Train loss : 0.03987 | Val loss : 0.05193\n",
      "Iteration : 1700 | Train loss : 0.04090 | Val loss : 0.05003\n",
      "Iteration : 1800 | Train loss : 0.03857 | Val loss : 0.05084\n",
      "Iteration : 1900 | Train loss : 0.03862 | Val loss : 0.04946\n",
      "Iteration : 2000 | Train loss : 0.03841 | Val loss : 0.04789\n",
      "Iteration : 2100 | Train loss : 0.03550 | Val loss : 0.04856\n",
      "Iteration : 2200 | Train loss : 0.03718 | Val loss : 0.04753\n",
      "Iteration : 2300 | Train loss : 0.03560 | Val loss : 0.04804\n",
      "Iteration : 2400 | Train loss : 0.03340 | Val loss : 0.04702\n",
      "Iteration : 2500 | Train loss : 0.03666 | Val loss : 0.04731\n",
      "Iteration : 2600 | Train loss : 0.03136 | Val loss : 0.04476\n",
      "Iteration : 2700 | Train loss : 0.03542 | Val loss : 0.04567\n",
      "Iteration : 2800 | Train loss : 0.03252 | Val loss : 0.04826\n",
      "Iteration : 2900 | Train loss : 0.03465 | Val loss : 0.04530\n",
      "Iteration : 3000 | Train loss : 0.03415 | Val loss : 0.04473\n",
      "Iteration : 3100 | Train loss : 0.03136 | Val loss : 0.04465\n",
      "Iteration : 3200 | Train loss : 0.03094 | Val loss : 0.04126\n",
      "Iteration : 3300 | Train loss : 0.03072 | Val loss : 0.04281\n",
      "Iteration : 3400 | Train loss : 0.03137 | Val loss : 0.04403\n",
      "Iteration : 3500 | Train loss : 0.02855 | Val loss : 0.04137\n",
      "Iteration : 3600 | Train loss : 0.03061 | Val loss : 0.04064\n",
      "Iteration : 3700 | Train loss : 0.02935 | Val loss : 0.04143\n",
      "Iteration : 3800 | Train loss : 0.02780 | Val loss : 0.04182\n",
      "Iteration : 3900 | Train loss : 0.02845 | Val loss : 0.04392\n",
      "Iteration : 4000 | Train loss : 0.03064 | Val loss : 0.03965\n",
      "Iteration : 4100 | Train loss : 0.03006 | Val loss : 0.04243\n",
      "Iteration : 4200 | Train loss : 0.02925 | Val loss : 0.04013\n",
      "Iteration : 4300 | Train loss : 0.03154 | Val loss : 0.04152\n",
      "Iteration : 4400 | Train loss : 0.02922 | Val loss : 0.04055\n",
      "Iteration : 4500 | Train loss : 0.02751 | Val loss : 0.04215\n",
      "Iteration : 4600 | Train loss : 0.02758 | Val loss : 0.03842\n",
      "Iteration : 4700 | Train loss : 0.02670 | Val loss : 0.03803\n",
      "Iteration : 4800 | Train loss : 0.03263 | Val loss : 0.03843\n",
      "Iteration : 4900 | Train loss : 0.02751 | Val loss : 0.03788\n",
      "Iteration : 5000 | Train loss : 0.02822 | Val loss : 0.03725\n",
      "Iteration : 5100 | Train loss : 0.02742 | Val loss : 0.03719\n",
      "Iteration : 5200 | Train loss : 0.02755 | Val loss : 0.03702\n",
      "Iteration : 5300 | Train loss : 0.02843 | Val loss : 0.03794\n",
      "Iteration : 5400 | Train loss : 0.03163 | Val loss : 0.03746\n",
      "Iteration : 5500 | Train loss : 0.02464 | Val loss : 0.03829\n",
      "Iteration : 5600 | Train loss : 0.02671 | Val loss : 0.03669\n",
      "Iteration : 5700 | Train loss : 0.02670 | Val loss : 0.03705\n",
      "Iteration : 5800 | Train loss : 0.03196 | Val loss : 0.03726\n",
      "Iteration : 5900 | Train loss : 0.02674 | Val loss : 0.03595\n",
      "Iteration : 6000 | Train loss : 0.02616 | Val loss : 0.03719\n",
      "Iteration : 6100 | Train loss : 0.02759 | Val loss : 0.03545\n",
      "Iteration : 6200 | Train loss : 0.02811 | Val loss : 0.03697\n",
      "Iteration : 6300 | Train loss : 0.02822 | Val loss : 0.03824\n",
      "Iteration : 6400 | Train loss : 0.02822 | Val loss : 0.03759\n",
      "Iteration : 6500 | Train loss : 0.02816 | Val loss : 0.03661\n",
      "Iteration : 6600 | Train loss : 0.02687 | Val loss : 0.03575\n",
      "Iteration : 6700 | Train loss : 0.02943 | Val loss : 0.03583\n",
      "Iteration : 6800 | Train loss : 0.02759 | Val loss : 0.03385\n",
      "Iteration : 6900 | Train loss : 0.02762 | Val loss : 0.03535\n",
      "Iteration : 7000 | Train loss : 0.02789 | Val loss : 0.03405\n",
      "Iteration : 7100 | Train loss : 0.02685 | Val loss : 0.03433\n",
      "Iteration : 7200 | Train loss : 0.02762 | Val loss : 0.03315\n",
      "Iteration : 7300 | Train loss : 0.02748 | Val loss : 0.03349\n",
      "Iteration : 7400 | Train loss : 0.02501 | Val loss : 0.03344\n",
      "Iteration : 7500 | Train loss : 0.02848 | Val loss : 0.03334\n",
      "Iteration : 7600 | Train loss : 0.02531 | Val loss : 0.03189\n",
      "Iteration : 7700 | Train loss : 0.02661 | Val loss : 0.03340\n",
      "Iteration : 7800 | Train loss : 0.02503 | Val loss : 0.03220\n",
      "Iteration : 7900 | Train loss : 0.02762 | Val loss : 0.03168\n",
      "Iteration : 8000 | Train loss : 0.02699 | Val loss : 0.03429\n",
      "Iteration : 8100 | Train loss : 0.02546 | Val loss : 0.03200\n",
      "Iteration : 8200 | Train loss : 0.02369 | Val loss : 0.03164\n",
      "Iteration : 8300 | Train loss : 0.02628 | Val loss : 0.03093\n",
      "Iteration : 8400 | Train loss : 0.02602 | Val loss : 0.03091\n",
      "Iteration : 8500 | Train loss : 0.02555 | Val loss : 0.03066\n",
      "Iteration : 8600 | Train loss : 0.02815 | Val loss : 0.03162\n",
      "Iteration : 8700 | Train loss : 0.02458 | Val loss : 0.02962\n",
      "Iteration : 8800 | Train loss : 0.02497 | Val loss : 0.02863\n",
      "Iteration : 8900 | Train loss : 0.02371 | Val loss : 0.03093\n",
      "Iteration : 9000 | Train loss : 0.02694 | Val loss : 0.03080\n",
      "Iteration : 9100 | Train loss : 0.02649 | Val loss : 0.02909\n",
      "Iteration : 9200 | Train loss : 0.02491 | Val loss : 0.02933\n",
      "Iteration : 9300 | Train loss : 0.02695 | Val loss : 0.03043\n",
      "Iteration : 9400 | Train loss : 0.03033 | Val loss : 0.02952\n",
      "Iteration : 9500 | Train loss : 0.02510 | Val loss : 0.02950\n",
      "Iteration : 9600 | Train loss : 0.02583 | Val loss : 0.03047\n",
      "Iteration : 9700 | Train loss : 0.02554 | Val loss : 0.02965\n",
      "Iteration : 9800 | Train loss : 0.02426 | Val loss : 0.02916\n",
      "Iteration : 9900 | Train loss : 0.02395 | Val loss : 0.02919\n",
      "Iteration : 10000 | Train loss : 0.02661 | Val loss : 0.02989\n",
      "Iteration : 10100 | Train loss : 0.02518 | Val loss : 0.02983\n",
      "Iteration : 10200 | Train loss : 0.02503 | Val loss : 0.02901\n",
      "Iteration : 10300 | Train loss : 0.02593 | Val loss : 0.02857\n",
      "Iteration : 10400 | Train loss : 0.02649 | Val loss : 0.02845\n",
      "Iteration : 10500 | Train loss : 0.02419 | Val loss : 0.02809\n",
      "Iteration : 10600 | Train loss : 0.02332 | Val loss : 0.02721\n",
      "Iteration : 10700 | Train loss : 0.02399 | Val loss : 0.02903\n",
      "Iteration : 10800 | Train loss : 0.02378 | Val loss : 0.02801\n",
      "Iteration : 10900 | Train loss : 0.02473 | Val loss : 0.02877\n",
      "Iteration : 11000 | Train loss : 0.02851 | Val loss : 0.02913\n",
      "Iteration : 11100 | Train loss : 0.02408 | Val loss : 0.02724\n",
      "Iteration : 11200 | Train loss : 0.02626 | Val loss : 0.02844\n",
      "Iteration : 11300 | Train loss : 0.02392 | Val loss : 0.02695\n",
      "Iteration : 11400 | Train loss : 0.02585 | Val loss : 0.02684\n",
      "Iteration : 11500 | Train loss : 0.02547 | Val loss : 0.02752\n",
      "Iteration : 11600 | Train loss : 0.02460 | Val loss : 0.02807\n",
      "Iteration : 11700 | Train loss : 0.02625 | Val loss : 0.02735\n",
      "Iteration : 11800 | Train loss : 0.02553 | Val loss : 0.02741\n",
      "Iteration : 11900 | Train loss : 0.02503 | Val loss : 0.02602\n",
      "Iteration : 12000 | Train loss : 0.02593 | Val loss : 0.02624\n",
      "Iteration : 12100 | Train loss : 0.02723 | Val loss : 0.02623\n",
      "Iteration : 12200 | Train loss : 0.02612 | Val loss : 0.02693\n",
      "Iteration : 12300 | Train loss : 0.02694 | Val loss : 0.02810\n",
      "Iteration : 12400 | Train loss : 0.02497 | Val loss : 0.02755\n",
      "Iteration : 12500 | Train loss : 0.02521 | Val loss : 0.02828\n",
      "Iteration : 12600 | Train loss : 0.02433 | Val loss : 0.02700\n",
      "Iteration : 12700 | Train loss : 0.02416 | Val loss : 0.02761\n",
      "Iteration : 12800 | Train loss : 0.02430 | Val loss : 0.02612\n",
      "Iteration : 12900 | Train loss : 0.02487 | Val loss : 0.02761\n",
      "Iteration : 13000 | Train loss : 0.02496 | Val loss : 0.02655\n",
      "Iteration : 13100 | Train loss : 0.02427 | Val loss : 0.02730\n",
      "Iteration : 13200 | Train loss : 0.02517 | Val loss : 0.02711\n",
      "Iteration : 13300 | Train loss : 0.02339 | Val loss : 0.02578\n"
     ]
    },
    {
     "name": "stdout",
     "output_type": "stream",
     "text": [
      "Iteration : 13400 | Train loss : 0.02559 | Val loss : 0.02626\n",
      "Iteration : 13500 | Train loss : 0.02383 | Val loss : 0.02801\n",
      "Iteration : 13600 | Train loss : 0.02307 | Val loss : 0.02566\n",
      "Iteration : 13700 | Train loss : 0.02491 | Val loss : 0.02622\n",
      "Iteration : 13800 | Train loss : 0.02230 | Val loss : 0.02616\n",
      "Iteration : 13900 | Train loss : 0.02707 | Val loss : 0.02450\n",
      "Iteration : 14000 | Train loss : 0.02323 | Val loss : 0.02620\n",
      "Iteration : 14100 | Train loss : 0.02252 | Val loss : 0.02475\n",
      "Iteration : 14200 | Train loss : 0.02422 | Val loss : 0.02740\n",
      "Iteration : 14300 | Train loss : 0.02430 | Val loss : 0.02622\n",
      "Iteration : 14400 | Train loss : 0.02543 | Val loss : 0.02655\n",
      "Iteration : 14500 | Train loss : 0.02447 | Val loss : 0.02568\n",
      "Iteration : 14600 | Train loss : 0.02557 | Val loss : 0.02714\n",
      "Iteration : 14700 | Train loss : 0.02478 | Val loss : 0.02680\n",
      "Iteration : 14800 | Train loss : 0.02473 | Val loss : 0.02658\n",
      "Iteration : 14900 | Train loss : 0.02333 | Val loss : 0.02660\n",
      "Iteration : 15000 | Train loss : 0.02295 | Val loss : 0.02643\n",
      "Iteration : 15100 | Train loss : 0.02549 | Val loss : 0.02543\n",
      "Iteration : 15200 | Train loss : 0.02522 | Val loss : 0.02590\n",
      "Iteration : 15300 | Train loss : 0.02595 | Val loss : 0.02562\n",
      "Iteration : 15400 | Train loss : 0.02523 | Val loss : 0.02619\n",
      "Iteration : 15500 | Train loss : 0.02454 | Val loss : 0.02810\n",
      "Iteration : 15600 | Train loss : 0.02564 | Val loss : 0.02471\n",
      "Iteration : 15700 | Train loss : 0.02470 | Val loss : 0.02624\n",
      "Iteration : 15800 | Train loss : 0.02624 | Val loss : 0.02631\n",
      "Iteration : 15900 | Train loss : 0.02427 | Val loss : 0.02724\n",
      "Iteration : 16000 | Train loss : 0.02341 | Val loss : 0.02717\n",
      "Iteration : 16100 | Train loss : 0.02366 | Val loss : 0.02710\n",
      "Iteration : 16200 | Train loss : 0.02464 | Val loss : 0.02605\n",
      "Iteration : 16300 | Train loss : 0.02536 | Val loss : 0.02635\n",
      "Iteration : 16400 | Train loss : 0.02358 | Val loss : 0.02503\n",
      "Iteration : 16500 | Train loss : 0.02375 | Val loss : 0.02615\n",
      "Iteration : 16600 | Train loss : 0.02300 | Val loss : 0.02629\n",
      "Iteration : 16700 | Train loss : 0.02522 | Val loss : 0.02573\n",
      "Iteration : 16800 | Train loss : 0.02353 | Val loss : 0.02703\n",
      "Iteration : 16900 | Train loss : 0.02553 | Val loss : 0.02611\n",
      "Iteration : 17000 | Train loss : 0.02362 | Val loss : 0.02484\n",
      "Iteration : 17100 | Train loss : 0.02407 | Val loss : 0.02572\n",
      "Iteration : 17200 | Train loss : 0.02463 | Val loss : 0.02594\n",
      "Iteration : 17300 | Train loss : 0.02373 | Val loss : 0.02538\n",
      "Iteration : 17400 | Train loss : 0.02380 | Val loss : 0.02564\n",
      "Iteration : 17500 | Train loss : 0.02626 | Val loss : 0.02655\n",
      "Iteration : 17600 | Train loss : 0.02295 | Val loss : 0.02765\n",
      "Iteration : 17700 | Train loss : 0.02308 | Val loss : 0.02728\n",
      "Iteration : 17800 | Train loss : 0.02421 | Val loss : 0.02604\n",
      "Iteration : 17900 | Train loss : 0.02461 | Val loss : 0.02607\n",
      "Iteration : 18000 | Train loss : 0.02331 | Val loss : 0.02541\n",
      "Iteration : 18100 | Train loss : 0.02557 | Val loss : 0.02620\n",
      "Iteration : 18200 | Train loss : 0.02335 | Val loss : 0.02527\n",
      "Iteration : 18300 | Train loss : 0.02137 | Val loss : 0.02795\n",
      "Iteration : 18400 | Train loss : 0.02245 | Val loss : 0.02594\n",
      "Iteration : 18500 | Train loss : 0.02755 | Val loss : 0.02557\n",
      "Iteration : 18600 | Train loss : 0.02499 | Val loss : 0.02498\n",
      "Iteration : 18700 | Train loss : 0.02374 | Val loss : 0.02573\n",
      "Iteration : 18800 | Train loss : 0.02632 | Val loss : 0.02637\n",
      "Iteration : 18900 | Train loss : 0.02452 | Val loss : 0.02502\n",
      "Iteration : 19000 | Train loss : 0.02577 | Val loss : 0.02628\n",
      "Iteration : 19100 | Train loss : 0.02444 | Val loss : 0.02670\n",
      "Iteration : 19200 | Train loss : 0.02574 | Val loss : 0.02530\n",
      "Iteration : 19300 | Train loss : 0.02390 | Val loss : 0.02585\n",
      "Iteration : 19400 | Train loss : 0.02241 | Val loss : 0.02678\n",
      "Iteration : 19500 | Train loss : 0.02232 | Val loss : 0.02526\n",
      "Iteration : 19600 | Train loss : 0.02246 | Val loss : 0.02536\n",
      "Iteration : 19700 | Train loss : 0.02354 | Val loss : 0.02703\n",
      "Iteration : 19800 | Train loss : 0.02515 | Val loss : 0.02597\n",
      "Iteration : 19900 | Train loss : 0.02302 | Val loss : 0.02535\n",
      "Iteration : 20000 | Train loss : 0.02302 | Val loss : 0.02523\n",
      "Iteration : 20100 | Train loss : 0.02390 | Val loss : 0.02751\n",
      "Iteration : 20200 | Train loss : 0.02316 | Val loss : 0.02626\n",
      "Iteration : 20300 | Train loss : 0.02284 | Val loss : 0.02573\n",
      "Iteration : 20400 | Train loss : 0.02310 | Val loss : 0.02630\n",
      "Iteration : 20500 | Train loss : 0.02384 | Val loss : 0.02580\n",
      "Iteration : 20600 | Train loss : 0.02381 | Val loss : 0.02566\n",
      "Iteration : 20700 | Train loss : 0.02476 | Val loss : 0.02640\n",
      "Iteration : 20800 | Train loss : 0.02427 | Val loss : 0.02485\n",
      "Iteration : 20900 | Train loss : 0.02296 | Val loss : 0.02546\n",
      "Iteration : 21000 | Train loss : 0.02380 | Val loss : 0.02550\n",
      "Iteration : 21100 | Train loss : 0.02397 | Val loss : 0.02453\n",
      "Iteration : 21200 | Train loss : 0.02334 | Val loss : 0.02685\n",
      "Iteration : 21300 | Train loss : 0.02476 | Val loss : 0.02556\n",
      "Iteration : 21400 | Train loss : 0.02401 | Val loss : 0.02584\n",
      "Iteration : 21500 | Train loss : 0.02567 | Val loss : 0.02627\n",
      "Iteration : 21600 | Train loss : 0.02416 | Val loss : 0.02682\n",
      "Iteration : 21700 | Train loss : 0.02265 | Val loss : 0.02517\n",
      "Iteration : 21800 | Train loss : 0.02371 | Val loss : 0.02573\n",
      "Iteration : 21900 | Train loss : 0.02450 | Val loss : 0.02593\n",
      "Iteration : 22000 | Train loss : 0.02071 | Val loss : 0.02642\n",
      "Iteration : 22100 | Train loss : 0.02281 | Val loss : 0.02644\n",
      "Iteration : 22200 | Train loss : 0.02291 | Val loss : 0.02658\n",
      "Iteration : 22300 | Train loss : 0.02270 | Val loss : 0.02517\n",
      "Iteration : 22400 | Train loss : 0.02306 | Val loss : 0.02682\n",
      "Iteration : 22500 | Train loss : 0.02394 | Val loss : 0.02594\n",
      "Iteration : 22600 | Train loss : 0.02329 | Val loss : 0.02512\n",
      "Iteration : 22700 | Train loss : 0.02451 | Val loss : 0.02645\n",
      "Iteration : 22800 | Train loss : 0.02296 | Val loss : 0.02516\n",
      "Iteration : 22900 | Train loss : 0.02427 | Val loss : 0.02592\n",
      "Iteration : 23000 | Train loss : 0.02346 | Val loss : 0.02615\n",
      "Iteration : 23100 | Train loss : 0.02374 | Val loss : 0.02728\n",
      "Iteration : 23200 | Train loss : 0.02462 | Val loss : 0.02808\n",
      "\n",
      "Early stopping - Minimum loss : 0.02312\n"
     ]
    }
   ],
   "source": [
    "n_x = X_train.shape[1]\n",
    "n_y = Y_train.shape[1]\n",
    "D_in, H, D_out = n_x, 64, n_y\n",
    "\n",
    "epochs = 50000\n",
    "lr = 1e-3\n",
    "weight_decay = 0.\n",
    "lambda_1 = 1e-3\n",
    "lambda_2 = 1e-3\n",
    "p = 0.2\n",
    "patience = 3000\n",
    "\n",
    "model = FFNN(D_in, H, D_out, p)\n",
    "\n",
    "early_stopping = EarlyStopping(patience=patience)\n",
    "\n",
    "# Flag True if you are in the network optimization process.\n",
    "is_optimizing = True\n",
    "\n",
    "# If weight_NN exists and we are not in optimization mode just load\n",
    "# network weights and evaluate the model.\n",
    "if(os.path.isfile(input_folder + '/weights_NN') and is_optimizing==False):\n",
    "    model.load_state_dict(torch.load(input_folder + '/weights_NN'))\n",
    "    print(model.eval())\n",
    "else:\n",
    "    criterion = nn.MSELoss(reduction='mean') \n",
    "    optimizer = optim.Adam(model.parameters(), lr=lr, amsgrad=True)\n",
    "    \n",
    "    # Initialize losses lists.\n",
    "    train_loss = []\n",
    "    val_loss = []\n",
    "    losses = []\n",
    "    W_1_hist = []\n",
    "    W_2_hist = []\n",
    "    W_3_hist = []\n",
    "    \n",
    "    idx = np.arange(len(X_train_b))\n",
    "    \n",
    "    for epoch in range(epochs):\n",
    "        curr_loss = 0\n",
    "        np.random.shuffle(idx)\n",
    "        \n",
    "        model.train()\n",
    "        for batch_num in idx:\n",
    "            \n",
    "            # Create torch variables, required dtype 'float32' no 'float64'\n",
    "            batch_x = Variable(torch.from_numpy(X_train_b[batch_num].astype('float32')))\n",
    "            batch_y = Variable(torch.from_numpy(Y_train_b[batch_num].astype('float32')))\n",
    "            optimizer.zero_grad()\n",
    "            \n",
    "            y_pred = model(batch_x)\n",
    "            \n",
    "            # L1 and L2 regularization\n",
    "            l1_reg = None\n",
    "            l2_reg = None\n",
    "            for W in model.parameters():\n",
    "                if l1_reg is None:\n",
    "                    l1_reg = W.norm(1)\n",
    "                    l2_reg = 0.5* W.norm(2) ** 2\n",
    "                else:\n",
    "                    l1_reg = l1_reg + W.norm(1)\n",
    "                    l2_reg = l2_reg + 0.5 * W.norm(2) ** 2\n",
    "                \n",
    "            # Compute loss\n",
    "            batch_loss = 1 / batch_x.shape[0] * ((y_pred - batch_y).pow(2).sum() + l1_reg * lambda_1 + l2_reg * lambda_2)\n",
    "            batch_loss.backward()\n",
    "\n",
    "            # Update weights\n",
    "            optimizer.step()\n",
    "            \n",
    "            curr_loss += batch_loss\n",
    "        train_loss.append(curr_loss.item() / len(idx))\n",
    "        \n",
    "        # Save norm of the weights\n",
    "        W_1_hist.append(np.linalg.norm(model.W_1.detach().numpy()))\n",
    "        W_2_hist.append(np.linalg.norm(model.W_2.detach().numpy()))\n",
    "        #W_3_hist.append(np.linalg.norm(model.W_3.detach().numpy()))\n",
    "        \n",
    "        model.eval()\n",
    "        val_x = Variable(torch.from_numpy(X_val.astype('float32')))\n",
    "        val_y = Variable(torch.from_numpy(Y_val.astype('float32')))\n",
    "        val_pred = model(val_x)\n",
    "        loss_val = 1 / val_x.shape[0] * ((val_y - val_pred).pow(2).sum() + l1_reg * lambda_1 + l2_reg * lambda_2)\n",
    "            \n",
    "        val_loss.append(loss_val.item())\n",
    "\n",
    "        if epoch % 100 == 0:\n",
    "            print(\"Iteration : {:04d} | Train loss : {:.5f} | Val loss : {:.5f}\".format(epoch, train_loss[epoch], val_loss[epoch]))\n",
    "        \n",
    "        early_stopping(val_loss[epoch], model)\n",
    "        \n",
    "        if early_stopping.early_stop:\n",
    "            print(\"\\nEarly stopping - Minimum loss : {:.5f}\".format(early_stopping.val_loss_min))\n",
    "            break\n",
    "    \n",
    "    if not early_stopping.early_stop:\n",
    "        torch.save(model.state_dict(), input_folder + '/weights_NN')"
   ]
  },
  {
   "cell_type": "code",
   "execution_count": 22,
   "metadata": {},
   "outputs": [
    {
     "data": {
      "text/plain": [
       "(Text(0.5, 0, 'Epoch'), Text(0, 0.5, 'Weights norm'))"
      ]
     },
     "execution_count": 22,
     "metadata": {},
     "output_type": "execute_result"
    },
    {
     "data": {
      "image/png": "[encoded data removed]",
      "text/plain": [
       "<Figure size 576x576 with 1 Axes>"
      ]
     },
     "metadata": {
      "needs_background": "light"
     },
     "output_type": "display_data"
    }
   ],
   "source": [
    "plt.figure(figsize=(8, 8))\n",
    "plt.plot(np.arange(len(W_1_hist)), W_1_hist, 'r',\n",
    "         np.arange(len(W_2_hist)), W_2_hist, 'b',\n",
    "         np.arange(len(W_3_hist)), W_3_hist, 'k')\n",
    "plt.legend(['W_1','W_2', 'W_3'])\n",
    "plt.xlabel('Epoch'), plt.ylabel('Weights norm')\n",
    "#plt.ylim(-.0, .06)"
   ]
  },
  {
   "cell_type": "code",
   "execution_count": 23,
   "metadata": {
    "scrolled": false
   },
   "outputs": [
    {
     "data": {
      "text/plain": [
       "(-0.0, 0.4)"
      ]
     },
     "execution_count": 23,
     "metadata": {},
     "output_type": "execute_result"
    },
    {
     "data": {
      "image/png": "[encoded data removed]",
      "text/plain": [
       "<Figure size 576x576 with 1 Axes>"
      ]
     },
     "metadata": {
      "needs_background": "light"
     },
     "output_type": "display_data"
    }
   ],
   "source": [
    "plt.figure(figsize=(8, 8))\n",
    "plt.plot(np.arange(len(train_loss)), train_loss, 'r', np.arange(len(val_loss)), val_loss, 'b')\n",
    "plt.legend(['Train Loss','Validation Loss'])\n",
    "plt.xlabel('Epoch'), plt.ylabel('Loss')\n",
    "plt.ylim(-.0,0.4)"
   ]
  },
  {
   "cell_type": "markdown",
   "metadata": {},
   "source": [
    "We need to go back from normalization in order to have a better feeling of the results and avoid division for very low numbers."
   ]
  },
  {
   "cell_type": "code",
   "execution_count": 24,
   "metadata": {},
   "outputs": [],
   "source": [
    "def reverse_range_norm(x_norm, x_min, x_max):\n",
    "    \"\"\" Inverse of normalization in range [0, 1] \"\"\"\n",
    "    x = x_min +  x_norm * (x_max - x_min)\n",
    "\n",
    "    return x"
   ]
  },
  {
   "cell_type": "markdown",
   "metadata": {},
   "source": [
    "### Metrics of accuracy\n",
    "\n",
    "We need to define some metrics to evaluate the goodness of the training procedure."
   ]
  },
  {
   "cell_type": "code",
   "execution_count": 25,
   "metadata": {},
   "outputs": [],
   "source": [
    "def pe(pred, true):\n",
    "    \"\"\" Calculate percent error\"\"\"\n",
    "    return abs((pred - true) / true) * 100\n",
    "\n",
    "def r2(pred, true):\n",
    "    \"\"\" Calculate the coefficient of determination, i.e. R^2\"\"\"\n",
    "    # https://en.wikipedia.org/wiki/Coefficient_of_determination\n",
    "    ss_tot = np.sum((true - np.mean(true, axis=0)) ** 2, axis=0)  \n",
    "    ss_res = np.sum((true - pred) ** 2, axis=0)\n",
    "    return 1 - (ss_res / ss_tot)\n",
    "\n",
    "def raae(pred, true):\n",
    "    \"\"\" Calculate the relative averaged absolute error\"\"\"\n",
    "    sigma = np.std(true, axis=0)\n",
    "    num = np.sum(abs(true - pred), axis=0)\n",
    "    return num / (true.shape[0] * sigma)\n",
    "\n",
    "def rmae(pred, true):\n",
    "    \"\"\" Calculate the relative maximum absolute error\"\"\"\n",
    "    sigma = np.std(true, axis=0)\n",
    "    num = np.max(abs(pred - true), axis=0)\n",
    "    return num / sigma"
   ]
  },
  {
   "cell_type": "markdown",
   "metadata": {},
   "source": [
    "Now we will import the network's weights saved. This is required since, if the training is stopped by the early stopping class, the actual weights are associated to the overfitted network."
   ]
  },
  {
   "cell_type": "code",
   "execution_count": 39,
   "metadata": {},
   "outputs": [
    {
     "data": {
      "text/plain": [
       "<All keys matched successfully>"
      ]
     },
     "execution_count": 39,
     "metadata": {},
     "output_type": "execute_result"
    }
   ],
   "source": [
    "model.load_state_dict(torch.load(input_folder + '/weights_NN'))"
   ]
  },
  {
   "cell_type": "code",
   "execution_count": 40,
   "metadata": {
    "scrolled": false
   },
   "outputs": [
    {
     "name": "stdout",
     "output_type": "stream",
     "text": [
      "\n",
      "The mean of the percentage error is: 13.30%\n",
      "\n",
      "The coefficient of determination is: 0.934\n",
      "\n",
      "The relative averaged absolute error is: 0.176\n",
      "\n",
      "The relative maximum absolute error is: 1.009\n"
     ]
    }
   ],
   "source": [
    "flag_list = False\n",
    "model.eval()\n",
    "train_x = Variable(torch.from_numpy(X_train.astype('float32')))\n",
    "train_y = Variable(torch.from_numpy(Y_train.astype('float32')))\n",
    "\n",
    "train_pred = model(train_x)\n",
    "\n",
    "train_y = reverse_range_norm(train_y.detach().numpy(), y_min, y_max)\n",
    "train_pred = reverse_range_norm(train_pred.detach().numpy(), y_min, y_max)\n",
    "\n",
    "err_perc = pe(train_pred, train_y)\n",
    "r_2 = r2(train_pred, train_y)\n",
    "raae_score = raae(train_pred, train_y)\n",
    "rmae_score = rmae(train_pred, train_y)\n",
    "\n",
    "if flag_list:\n",
    "    for i in range(train_y.shape[0]):\n",
    "        print(\"True : {:+010.2f}, {:+013.2f}  |  Prediction : {:+010.2f}, {:+013.2f}  |  Error : {:07.2f}%, {:07.2f}%\".\n",
    "              format(*train_y[i, :], *train_pred[i, :], *err_perc[i, :]))\n",
    "    \n",
    "print(\"\\nThe mean of the percentage error is: {:.2f}%\".format(np.mean(err_perc)))\n",
    "print(\"\\nThe coefficient of determination is: {:.3f}\".format(np.mean(r_2)))\n",
    "print(\"\\nThe relative averaged absolute error is: {:.3f}\".format(np.mean(raae_score)))\n",
    "print(\"\\nThe relative maximum absolute error is: {:.3f}\".format(np.mean(rmae_score)))"
   ]
  },
  {
   "cell_type": "code",
   "execution_count": 41,
   "metadata": {
    "scrolled": false
   },
   "outputs": [
    {
     "name": "stdout",
     "output_type": "stream",
     "text": [
      "\n",
      "The mean of the percentage error is: 17.74%\n",
      "\n",
      "The coefficient of determination is: 0.849\n",
      "\n",
      "The relative averaged absolute error is: 0.263\n",
      "\n",
      "The relative maximum absolute error is: 1.437\n"
     ]
    }
   ],
   "source": [
    "flag_list = False\n",
    "model.eval()\n",
    "val_x = Variable(torch.from_numpy(X_val.astype('float32')))\n",
    "val_y = Variable(torch.from_numpy(Y_val.astype('float32')))\n",
    "\n",
    "val_pred = model(val_x)\n",
    "\n",
    "val_y = reverse_range_norm(val_y.detach().numpy(), y_min, y_max)\n",
    "val_pred = reverse_range_norm(val_pred.detach().numpy(), y_min, y_max)\n",
    "\n",
    "err_perc = pe(val_pred, val_y)\n",
    "r_2 = r2(val_pred, val_y)\n",
    "raae_score = raae(val_pred, val_y)\n",
    "rmae_score = rmae(val_pred, val_y)\n",
    "    \n",
    "if flag_list:\n",
    "    for i in range(val_y.shape[0]):\n",
    "        print(\"True : {:+010.2f}, {:+013.2f}  |  Prediction : {:+010.2f}, {:+013.2f}  |  Error : {:07.2f}%, {:07.2f}%\".\n",
    "              format(*val_y[i, :], *val_pred[i, :], *err_perc[i, :]))\n",
    "print(\"\\nThe mean of the percentage error is: {:.2f}%\".format(np.mean(err_perc)))\n",
    "print(\"\\nThe coefficient of determination is: {:.3f}\".format(np.mean(r_2)))\n",
    "print(\"\\nThe relative averaged absolute error is: {:.3f}\".format(np.mean(raae_score)))\n",
    "print(\"\\nThe relative maximum absolute error is: {:.3f}\".format(np.mean(rmae_score)))"
   ]
  },
  {
   "cell_type": "code",
   "execution_count": 42,
   "metadata": {},
   "outputs": [
    {
     "name": "stdout",
     "output_type": "stream",
     "text": [
      "\n",
      "The mean of the percentage error is: 23.85%\n",
      "\n",
      "The coefficient of determination is: 0.734\n",
      "\n",
      "The relative averaged absolute error is: 0.342\n",
      "\n",
      "The relative maximum absolute error is: 2.068\n"
     ]
    }
   ],
   "source": [
    "flag_list = False\n",
    "testing = True\n",
    "\n",
    "if testing:\n",
    "    model.eval()\n",
    "    test_x = Variable(torch.from_numpy(X_test.astype('float32')))\n",
    "    test_y = Variable(torch.from_numpy(Y_test.astype('float32')))\n",
    "\n",
    "    test_pred = model(test_x)\n",
    "    \n",
    "    test_y = reverse_range_norm(test_y.detach().numpy(), y_min, y_max)\n",
    "    test_pred = reverse_range_norm(test_pred.detach().numpy(), y_min, y_max)\n",
    "\n",
    "    err_perc = pe(test_pred, test_y)\n",
    "    r_2 = r2(test_pred, test_y)\n",
    "    raae_score = raae(test_pred, test_y)\n",
    "    rmae_score = rmae(test_pred, test_y)\n",
    "\n",
    "    if flag_list:\n",
    "        for i in range(test_y.shape[0]):\n",
    "            print(\"True : {:.4f}, {:.4f}  |  Prediction : {:.4f}, {:.4f}  |  Error : {:07.2f}%, {:07.2f}%\".\n",
    "                  format(*test_y[i, :], *test_pred[i, :], *err_perc[i, :]))\n",
    "    print(\"\\nThe mean of the percentage error is: {:.2f}%\".format(np.mean(err_perc)))\n",
    "    print(\"\\nThe coefficient of determination is: {:.3f}\".format(np.mean(r_2)))\n",
    "    print(\"\\nThe relative averaged absolute error is: {:.3f}\".format(np.mean(raae_score)))\n",
    "    print(\"\\nThe relative maximum absolute error is: {:.3f}\".format(np.mean(rmae_score)))"
   ]
  },
  {
   "cell_type": "code",
   "execution_count": 43,
   "metadata": {
    "scrolled": true
   },
   "outputs": [
    {
     "name": "stdout",
     "output_type": "stream",
     "text": [
      "W_1 Parameter containing:\n",
      "tensor([[-1.0844e-01, -4.9057e-01, -4.6628e-01,  6.9210e-01, -2.3332e-01,\n",
      "          4.2882e-01, -4.1004e-01, -1.8674e-01],\n",
      "        [-1.4891e-01, -3.9336e-01, -9.4734e-02,  5.2422e-02,  1.7628e-01,\n",
      "          2.3287e-01, -8.9333e-03,  3.8331e-01],\n",
      "        [-1.8496e-01,  2.4584e-02,  2.1688e-02,  3.7966e-02,  5.9815e-02,\n",
      "         -5.8522e-01, -5.1259e-01,  1.1237e-01],\n",
      "        [ 1.1920e-03, -5.3885e-03,  5.2022e-03, -2.2404e-03,  2.4978e-02,\n",
      "         -2.0544e-02,  2.3576e-02, -6.3236e-01],\n",
      "        [ 7.2022e-02, -5.1027e-02, -2.5911e-02,  5.7195e-01, -5.0238e-02,\n",
      "          6.3549e-03,  6.9255e-03, -9.6424e-03],\n",
      "        [-8.7163e-02,  1.0295e-01, -1.1280e-01, -2.4809e-01,  6.9280e-02,\n",
      "          3.9446e-01, -5.7644e-01, -1.3134e-01],\n",
      "        [-5.4915e-01,  1.8107e-01,  3.1066e-01, -4.0122e-02,  3.0949e-02,\n",
      "         -7.8460e-02,  1.0198e-02, -1.1879e-01],\n",
      "        [ 1.3140e-02,  5.5321e-03,  1.2650e-02,  7.3111e-01, -3.6382e-02,\n",
      "         -2.8615e-02, -1.0237e-02, -2.4332e-02],\n",
      "        [ 2.7867e-02,  4.3903e-02,  5.0828e-03,  3.1196e-01, -1.5185e-01,\n",
      "          1.3220e-01,  9.0371e-02,  2.8901e-01],\n",
      "        [-2.3288e-01, -1.5710e-01, -2.6328e-01, -2.2125e-01, -1.4394e-01,\n",
      "          5.7349e-01, -3.9494e-01,  5.7261e-01],\n",
      "        [-1.2140e-02, -5.0333e-04,  8.5482e-03, -6.9222e-01,  7.8181e-02,\n",
      "          1.0093e-02, -9.4183e-03,  1.4308e-02],\n",
      "        [ 3.0464e-01,  5.2449e-01, -7.4451e-02, -1.5828e-01, -1.2839e-01,\n",
      "         -2.1625e-01,  7.8812e-02,  4.2669e-02],\n",
      "        [ 2.6085e-01, -1.8634e-01, -1.3076e-01,  1.7110e-01, -7.7619e-01,\n",
      "         -2.2135e-01, -1.7079e-03,  2.9317e-01],\n",
      "        [-1.0480e-02, -3.2760e-02, -4.5917e-03, -1.9695e-03, -8.1825e-03,\n",
      "         -2.2551e-02, -9.3070e-03, -7.8803e-01],\n",
      "        [ 5.1877e-01, -5.1291e-01,  2.3426e-01,  1.1469e-01, -1.7116e-01,\n",
      "          5.6418e-02, -1.8112e-01, -2.4057e-03],\n",
      "        [ 1.5666e-02, -1.8349e-03,  2.1933e-02, -8.1866e-03,  8.8873e-03,\n",
      "         -3.8231e-02, -1.7846e-02,  6.1761e-01],\n",
      "        [-2.4814e-01,  1.0727e-01,  3.6851e-02,  1.5521e-01,  7.0094e-02,\n",
      "         -4.3083e-02,  3.8171e-01, -2.8680e-03],\n",
      "        [ 1.7535e-02, -1.1089e-02, -1.2469e-02,  7.2036e-01,  2.1808e-02,\n",
      "         -4.3915e-03, -3.3395e-02, -2.1680e-02],\n",
      "        [ 4.4016e-02, -9.6052e-03,  4.1551e-03,  8.8652e-01, -1.1954e-02,\n",
      "         -1.9361e-02, -2.2673e-02, -6.6510e-04],\n",
      "        [-1.7163e-01, -2.4287e-02, -7.4443e-01,  2.3707e-02, -4.6964e-02,\n",
      "          1.4123e-01, -1.6278e-01, -3.3166e-03],\n",
      "        [ 1.2856e-01, -1.3241e-01,  1.7343e-01, -4.4937e-01,  5.0444e-01,\n",
      "         -3.5566e-01,  3.8307e-02, -1.9195e-01],\n",
      "        [-5.3341e-03,  1.4626e-02, -2.4461e-02,  4.6804e-02,  1.8781e-02,\n",
      "         -4.5524e-02,  6.2318e-02, -1.7648e+00],\n",
      "        [-7.3661e-02, -1.4683e-01, -5.2092e-01,  3.4310e-02, -4.1813e-03,\n",
      "          1.7898e-01,  2.5288e-01,  3.1542e-01],\n",
      "        [-7.0800e-01, -1.8801e-01,  3.3306e-01,  2.6298e-02, -1.8875e-01,\n",
      "         -2.2749e-03,  4.2050e-02, -1.2990e-01],\n",
      "        [ 6.7781e-03,  2.1143e-03,  1.5522e-02, -1.0262e-02,  2.0047e-02,\n",
      "         -4.0300e-02, -1.5258e-02,  7.2497e-01],\n",
      "        [ 3.5062e-04, -7.4771e-03,  1.3226e-02,  8.7713e-01,  4.4254e-02,\n",
      "          1.3752e-02, -3.5190e-03, -2.0116e-01],\n",
      "        [ 2.7619e-01, -1.4189e-01,  2.5657e-01,  2.7069e-01, -4.8554e-01,\n",
      "          1.8988e-01, -5.6985e-02,  1.7531e-01],\n",
      "        [ 3.5023e-02,  8.9313e-02, -1.2721e-01,  1.3398e-01,  1.8522e-01,\n",
      "         -1.7377e-01, -3.2339e-01,  2.6656e-01],\n",
      "        [-1.7246e-02, -9.1714e-03,  7.8256e-03, -5.8404e-02,  5.5100e-03,\n",
      "          1.3484e-03, -2.5005e-03, -1.3705e+00],\n",
      "        [ 2.4685e-01, -2.0182e-02, -1.3812e-01,  1.3410e-01, -8.5874e-01,\n",
      "         -1.6122e-03,  3.3256e-01, -1.5802e-01],\n",
      "        [-5.7846e-01, -3.5988e-01,  3.7208e-02, -7.2953e-01, -6.3505e-02,\n",
      "         -1.1108e-03, -1.5298e-01, -2.0105e-01],\n",
      "        [-7.1637e-02,  4.2091e-02,  2.5132e-02, -5.2019e-01,  8.1150e-02,\n",
      "          1.0033e-03,  2.4940e-02,  6.1611e-01],\n",
      "        [ 4.2385e-05,  2.6666e-05,  3.4214e-05, -1.9625e-05, -3.6069e-05,\n",
      "         -2.6943e-05,  2.3318e-05, -2.1698e-05],\n",
      "        [-5.6526e-02,  3.4733e-02,  6.7802e-03, -1.8144e-01, -1.2912e-02,\n",
      "         -2.5097e-02,  2.9677e-02,  9.8578e-01],\n",
      "        [-7.7475e-06,  5.9301e-06, -1.8844e-06,  1.0501e-05,  2.2919e-05,\n",
      "          1.1559e-05,  4.7148e-06, -1.2189e-05],\n",
      "        [-1.4510e-01,  9.7375e-02,  1.7491e-01, -1.0011e-01, -1.0493e+00,\n",
      "          8.9976e-02,  4.2141e-01,  6.3543e-02],\n",
      "        [ 2.3625e-01,  2.0107e-01,  1.5814e-02, -8.8970e-01,  1.8992e-02,\n",
      "         -1.4729e-02,  2.4035e-02, -4.9901e-01],\n",
      "        [ 1.3358e-02, -1.0489e-02, -4.4734e-03, -1.0966e-02, -1.2194e-02,\n",
      "         -1.4186e-02,  7.7175e-03, -6.7784e-01],\n",
      "        [ 4.4299e-02, -1.2579e-01, -8.2714e-02,  1.1046e+00, -9.9921e-02,\n",
      "         -1.1693e-02, -1.0037e-01, -9.6645e-02],\n",
      "        [-3.9751e-01,  3.4425e-01, -1.5810e-01, -9.1850e-01,  6.2328e-01,\n",
      "          1.5106e-04, -3.1949e-01,  9.9856e-02],\n",
      "        [-1.0390e-01, -1.1792e-03, -1.9893e-01, -7.0709e-02,  5.8567e-02,\n",
      "          3.2614e-01,  2.0391e-01, -8.0878e-02],\n",
      "        [-3.3268e-01,  1.2249e-01, -2.7809e-02,  1.1352e-01,  3.5619e-01,\n",
      "         -1.6145e-01,  1.4630e-01, -5.9135e-03],\n",
      "        [ 2.2202e-01,  3.6265e-01, -1.2008e-01, -2.1518e-01, -2.5427e-01,\n",
      "         -5.1642e-02, -1.2405e-01,  3.8521e-01],\n",
      "        [ 1.1141e-01, -2.4619e-01, -8.2764e-01, -2.4855e-01,  4.2161e-01,\n",
      "          3.6868e-01, -3.6010e-02, -3.3215e-01],\n",
      "        [ 5.1238e-02, -2.5498e-02, -3.8415e-02,  9.7346e-01, -4.9586e-02,\n",
      "         -4.3489e-02, -4.6563e-02,  5.6522e-02],\n",
      "        [ 1.0806e-01, -4.6786e-02,  1.1394e-02, -8.7110e-01,  1.6838e-02,\n",
      "         -2.7872e-02, -4.1876e-02, -4.1077e-01],\n",
      "        [ 4.8652e-03,  4.2394e-03,  8.6441e-03, -7.9896e-03,  8.6882e-03,\n",
      "         -2.8322e-02, -4.9992e-03,  8.3308e-01],\n",
      "        [-2.9328e-02, -2.9241e-02,  7.1670e-03, -1.9381e+00,  4.9141e-02,\n",
      "          2.9948e-02,  2.4500e-02,  1.0333e-01],\n",
      "        [ 1.6407e-02,  3.6978e-02,  4.1935e-02,  6.0886e-01,  4.6733e-02,\n",
      "         -6.5504e-02,  4.5734e-02, -4.7528e-02],\n",
      "        [ 7.3859e-02,  4.3628e-03,  1.3842e-02, -6.3777e-01,  1.2565e-02,\n",
      "         -1.0053e-02, -7.6583e-03, -1.3661e-02],\n",
      "        [ 3.4180e-02,  1.2163e-03,  3.8031e-02, -1.2720e+00,  4.3714e-04,\n",
      "         -1.4935e-01, -4.1294e-02, -9.7191e-02],\n",
      "        [ 4.8948e-01, -2.5928e-01, -1.0032e-01,  2.0506e-01,  1.0472e-02,\n",
      "         -1.2401e-01,  1.9718e-01,  1.8678e-01],\n",
      "        [-1.2365e-01,  5.6998e-02,  2.2850e-02,  6.7332e-01,  2.1596e-02,\n",
      "          7.4934e-02, -4.2624e-04, -1.4507e-02],\n",
      "        [-5.5676e-02, -4.0404e-02,  7.1155e-02,  2.6401e-01,  1.0655e-01,\n",
      "         -5.5856e-03,  1.0473e-02, -1.3387e-01],\n",
      "        [ 8.2770e-02,  1.1406e-01, -3.0749e-01,  1.2977e-01,  2.2413e-02,\n",
      "          3.0460e-01, -2.0829e-01, -2.1471e-02],\n",
      "        [ 2.4317e-01, -2.6288e-02,  9.2921e-02, -1.0394e+00,  2.3064e-01,\n",
      "         -5.1541e-02,  2.9187e-01, -3.3564e-01],\n",
      "        [-2.2131e-01,  8.3428e-02,  2.0617e-02, -2.7853e-01,  5.1261e-01,\n",
      "         -2.2280e-01, -1.4498e-01,  2.5384e-01],\n",
      "        [ 2.5073e-02, -1.4383e-03,  3.0116e-02,  6.9193e-02,  7.6774e-02,\n",
      "          6.4241e-03, -2.0786e-02,  6.8348e-01],\n",
      "        [-4.3917e-01, -6.0662e-01, -2.1586e-01,  1.6908e-02,  2.9456e-01,\n",
      "          3.1355e-02,  2.7211e-02,  3.6422e-02],\n",
      "        [-1.6864e-01,  2.4105e-01,  1.1299e-01,  1.4254e-02,  1.2980e-01,\n",
      "         -1.9424e-01,  1.9773e-01, -4.3516e-01],\n",
      "        [ 4.6528e-02,  1.5668e-03,  2.5372e-03, -6.7346e-01, -3.3359e-02,\n",
      "          1.2720e-02, -1.2200e-02, -4.1914e-02],\n",
      "        [-5.9338e-02,  2.4411e-03, -2.7623e-03, -1.1176e-02,  1.0936e-02,\n",
      "         -9.7964e-03,  4.2503e-02,  1.0177e+00],\n",
      "        [ 2.7732e-05, -6.4002e-05, -2.5877e-05,  1.0272e-05, -7.6049e-06,\n",
      "          3.9102e-05, -2.6984e-05, -2.0533e-05],\n",
      "        [ 4.9562e-02,  1.0627e-02,  2.5869e-03, -1.5897e+00, -8.3313e-02,\n",
      "          2.2313e-02, -4.3083e-03,  5.4991e-02]], requires_grad=True)\n",
      "b_1 Parameter containing:\n",
      "tensor([-2.9830e-01, -2.3101e-01,  1.6092e-01,  4.0474e-01, -1.5960e-01,\n",
      "         6.2052e-02,  1.4837e-03, -3.8434e-01, -3.3192e-01, -1.6254e-01,\n",
      "         4.1213e-01, -4.0923e-01,  1.7230e-02,  5.5169e-01, -2.7098e-01,\n",
      "        -1.9397e-01, -2.4090e-01, -2.0561e-01, -2.8640e-01,  2.4910e-01,\n",
      "         4.4970e-02,  2.0080e-01, -1.1952e-01,  1.9962e-01, -2.3408e-01,\n",
      "        -5.5205e-01, -3.6108e-01, -1.2196e-01,  2.6996e-01,  9.7083e-02,\n",
      "         8.5317e-01, -1.8584e-01, -7.3052e-06, -5.5606e-01,  1.9652e-06,\n",
      "         1.0020e-03,  3.8815e-01,  4.5674e-01, -8.6975e-01, -6.8611e-02,\n",
      "        -1.4665e-01, -1.4835e-01, -3.4344e-01,  6.8277e-02, -7.3664e-01,\n",
      "         6.5048e-01, -2.6737e-01,  1.7589e-01, -4.2642e-01,  4.0296e-01,\n",
      "         6.3933e-01, -3.1673e-01, -2.5484e-01, -5.8375e-02, -1.0743e-01,\n",
      "         2.1586e-01, -1.3436e-01, -4.6901e-01,  1.1224e-01, -1.9496e-01,\n",
      "         4.6646e-01, -8.1822e-01, -3.6351e-05,  2.3458e-01],\n",
      "       requires_grad=True)\n",
      "W_2 Parameter containing:\n",
      "tensor([[-1.6548e-01, -6.6943e-03, -4.8915e-03,  ..., -2.8771e-02,\n",
      "         -6.9771e-05, -1.5098e-01],\n",
      "        [-3.8894e-03, -1.0169e-04, -1.8631e-01,  ...,  2.3320e-02,\n",
      "          1.1817e-04, -5.7920e-03],\n",
      "        [-2.0205e-01,  1.6208e-02,  6.2865e-04,  ..., -4.2851e-02,\n",
      "         -1.5836e-04, -2.9667e-06],\n",
      "        ...,\n",
      "        [-2.6094e-05,  5.4215e-02,  3.3715e-05,  ..., -6.0024e-02,\n",
      "          8.5578e-05,  7.4026e-02],\n",
      "        [-2.0628e-01,  5.4677e-03,  4.8458e-03,  ..., -1.0183e-02,\n",
      "          1.4416e-04, -5.7903e-04],\n",
      "        [-1.5925e-01,  3.8437e-04, -5.5289e-04,  ..., -2.9123e-03,\n",
      "         -8.7245e-06, -2.7485e-02]], requires_grad=True)\n",
      "b_2 Parameter containing:\n",
      "tensor([ 2.2950e-02, -2.6891e-02,  4.0276e-02,  4.8653e-02,  4.3052e-02,\n",
      "        -2.9746e-01, -2.7227e-01,  4.2470e-02,  3.6495e-02,  3.5921e-02,\n",
      "         5.1349e-02, -9.1147e-02,  3.7366e-02,  5.4128e-02,  3.2487e-02,\n",
      "         1.1712e-02,  7.1657e-02,  5.3352e-02,  5.0999e-02,  4.1305e-02,\n",
      "         5.3762e-02,  4.0014e-02,  5.1557e-02,  3.4891e-02,  4.6329e-02,\n",
      "        -2.6054e-06,  3.8427e-02,  4.3749e-02, -7.3502e-02,  5.3622e-02,\n",
      "         2.8461e-02, -3.9258e-01,  2.8655e-02,  3.4366e-02, -1.1554e-01,\n",
      "         6.7380e-02,  6.4993e-02,  1.5199e-02,  4.0237e-02,  7.9818e-02,\n",
      "         2.7146e-02,  5.6265e-02,  2.7220e-02,  2.0307e-02,  4.4149e-02,\n",
      "        -3.5721e-01, -4.5842e-03, -4.3727e-02, -3.3942e-01, -3.3610e-01,\n",
      "         5.1826e-02, -7.5576e-02,  1.5953e-02,  6.0863e-02, -2.3765e-05,\n",
      "         5.4804e-02,  1.8235e-02,  3.6759e-02,  6.5866e-02,  4.3525e-02,\n",
      "         3.5013e-02, -7.7510e-02,  2.7580e-02,  2.4215e-02],\n",
      "       requires_grad=True)\n",
      "W_4 Parameter containing:\n",
      "tensor([[ 1.1174e+00, -1.2804e+00,  7.1869e-01,  1.5016e-03,  1.5423e-01,\n",
      "         -3.4153e-02,  6.0086e-01,  4.5325e-01,  9.6072e-01,  1.0047e+00,\n",
      "         -2.5054e-01, -9.8434e-01, -1.7475e-01, -2.7004e-01,  6.2269e-01,\n",
      "         -5.4778e-01,  1.7729e-01, -2.4910e-01,  8.9739e-04,  6.2594e-01,\n",
      "         -1.2208e-04,  4.1719e-01, -1.9787e-01, -7.1724e-01, -8.0016e-03,\n",
      "          4.2922e-07,  4.9071e-03,  1.2287e-03,  1.6404e+00, -5.3671e-01,\n",
      "          6.8886e-01, -1.6415e-02,  7.7774e-01,  6.6143e-01, -4.6174e-01,\n",
      "         -2.9532e-01, -2.3051e-01,  2.1284e-01, -3.6043e-01,  8.3158e-04,\n",
      "         -1.2151e+00, -7.2907e-03, -9.5414e-01,  2.7816e-01,  4.5871e-01,\n",
      "         -1.3690e-01,  8.2323e-01,  1.0333e+00,  4.8539e-04, -2.8621e-04,\n",
      "          5.6992e-04, -2.2515e-01,  3.3342e-02, -3.6171e-02,  4.7728e-05,\n",
      "         -3.8187e-01,  7.8315e-01,  1.1392e+00,  1.2305e-05,  3.9273e-01,\n",
      "          3.0737e-01,  1.5044e+00,  6.8008e-01,  3.3979e-01],\n",
      "        [-8.6497e-02,  1.5491e-04, -2.1583e-03,  1.1183e+00,  1.0600e+00,\n",
      "         -1.0954e+00, -1.0768e+00,  7.8895e-01, -2.2402e-03, -3.2689e-03,\n",
      "          7.4318e-01, -3.3273e-02,  5.0663e-01,  2.8413e-01, -7.5255e-03,\n",
      "          2.9968e-04, -1.0261e+00,  1.1233e+00,  7.5640e-01, -4.4834e-04,\n",
      "          8.5600e-01,  4.9844e-01,  8.0127e-01, -2.7428e-01,  1.1274e+00,\n",
      "          2.9058e-05,  6.2457e-01,  1.3109e+00, -4.7677e-03,  5.5979e-01,\n",
      "         -2.8742e-02, -7.4169e-01, -5.1534e-03, -7.3787e-02, -9.1456e-01,\n",
      "         -8.1353e-01,  1.2102e+00,  9.3138e-01, -1.3036e+00, -1.3388e+00,\n",
      "          1.4447e-01,  8.2264e-01, -1.6829e-01, -1.8200e-03,  9.2742e-01,\n",
      "         -6.5874e-01, -1.7550e-02, -1.4267e-01, -9.5550e-01, -6.9321e-01,\n",
      "          7.4830e-01, -1.4162e-01,  1.1841e+00,  1.1724e+00, -7.5009e-05,\n",
      "          3.6151e-01,  1.2875e-01, -3.5416e-01,  1.3502e+00,  7.5137e-01,\n",
      "         -1.8742e-04, -2.8613e-03, -2.2592e-02, -2.4821e-02]],\n",
      "       requires_grad=True)\n",
      "b_4 Parameter containing:\n",
      "tensor([0.3689, 0.3456], requires_grad=True)\n"
     ]
    }
   ],
   "source": [
    "for name, param in model.named_parameters():\n",
    "    print(name, param)"
   ]
  }
 ],
 "metadata": {
  "colab": {
   "collapsed_sections": [],
   "name": "MLP.ipynb",
   "provenance": []
  },
  "kernelspec": {
   "display_name": "Python 3",
   "language": "python",
   "name": "python3"
  },
  "language_info": {
   "codemirror_mode": {
    "name": "ipython",
    "version": 3
   },
   "file_extension": ".py",
   "mimetype": "text/x-python",
   "name": "python",
   "nbconvert_exporter": "python",
   "pygments_lexer": "ipython3",
   "version": "3.7.7"
  }
 },
 "nbformat": 4,
 "nbformat_minor": 1
}
