{
 "cells": [
  {
   "cell_type": "markdown",
   "metadata": {
    "colab_type": "text",
    "id": "GLQLStKwyzgs"
   },
   "source": [
    "# **METAMODELING WITH ARTIFICIAL NEURAL NETWORK**\n",
    "\n",
    "In this notebook, we will use the results of Abaqus analyses in order to build an Artificial Neural Network (ANN) of the Finite Element (FE) analysis solver."
   ]
  },
  {
   "cell_type": "code",
   "execution_count": 1,
   "metadata": {
    "colab": {},
    "colab_type": "code",
    "id": "Orwif6dIvF4t"
   },
   "outputs": [],
   "source": [
    "import matplotlib.pyplot as plt\n",
    "import pandas as pd\n",
    "import numpy as np\n",
    "import random\n",
    "import time\n",
    "import sys\n",
    "import os"
   ]
  },
  {
   "cell_type": "code",
   "execution_count": 2,
   "metadata": {
    "colab": {
     "base_uri": "https://localhost:8080/",
     "height": 51
    },
    "colab_type": "code",
    "id": "Bwj567NSvHv1",
    "outputId": "e91823c3-87c5-47fe-cca9-cd505741e7ff"
   },
   "outputs": [],
   "source": [
    "# Scikit-learn\n",
    "from sklearn.model_selection import train_test_split\n",
    "\n",
    "# PyTorch\n",
    "import torch\n",
    "from torch.autograd import Variable\n",
    "from torch.nn.parameter import Parameter\n",
    "import torch.nn as nn\n",
    "import torch.nn.functional as F\n",
    "import torch.optim as optim\n",
    "import torch.nn.init as init\n",
    "\n",
    "# Matplotlib spec\n",
    "from matplotlib import rc\n",
    "rc('font',**{'family':'serif','serif':['Palatino']}) # Palatino font\n",
    "plt.rcParams['pdf.fonttype'] = 42"
   ]
  },
  {
   "cell_type": "code",
   "execution_count": 3,
   "metadata": {
    "colab": {
     "base_uri": "https://localhost:8080/",
     "height": 34
    },
    "colab_type": "code",
    "id": "jqtrSiFqdBTe",
    "outputId": "1cd691d5-fc75-4420-b6e5-d331a6ee9c38"
   },
   "outputs": [
    {
     "data": {
      "text/plain": [
       "'1.5.1'"
      ]
     },
     "execution_count": 3,
     "metadata": {},
     "output_type": "execute_result"
    }
   ],
   "source": [
    "torch.__version__"
   ]
  },
  {
   "cell_type": "markdown",
   "metadata": {
    "colab_type": "text",
    "id": "xMkgB8U2dS1A"
   },
   "source": [
    "When this notebook has been generated the result of the previous line of code is: _'1.5.0'_"
   ]
  },
  {
   "cell_type": "markdown",
   "metadata": {
    "colab_type": "text",
    "id": "JZDSnO7jyzg8"
   },
   "source": [
    "We fix the seed in order to obtain reproducible results.\n",
    "\n",
    "__N.B.__ : Reproducible results are obtained every time the runtime is restarded and runned. If you run multiple time the same cell the results will not be reporducible."
   ]
  },
  {
   "cell_type": "code",
   "execution_count": 4,
   "metadata": {
    "colab": {},
    "colab_type": "code",
    "id": "SytMvTAE22lL"
   },
   "outputs": [],
   "source": [
    "seed = 0\n",
    "np.random.seed(seed=seed)\n",
    "torch.manual_seed(seed=seed)\n",
    "random.seed(seed)\n",
    "\n",
    "# Last two lines just when using GPU\n",
    "torch.backends.cudnn.deterministic = True\n",
    "torch.cuda.manual_seed(seed=seed)"
   ]
  },
  {
   "cell_type": "markdown",
   "metadata": {
    "colab_type": "text",
    "id": "bxRgA_ioyzhA"
   },
   "source": [
    "## **Data preprocessing**\n",
    "\n",
    "We start by importing some information about the model used to generate the dataset."
   ]
  },
  {
   "cell_type": "code",
   "execution_count": 5,
   "metadata": {
    "colab": {
     "base_uri": "https://localhost:8080/",
     "height": 80
    },
    "colab_type": "code",
    "id": "0FZ6R8aeyzhB",
    "outputId": "e6f59f12-68cb-4eb0-dd90-990424b0c8c0"
   },
   "outputs": [
    {
     "data": {
      "text/html": [
       "<div>\n",
       "<style scoped>\n",
       "    .dataframe tbody tr th:only-of-type {\n",
       "        vertical-align: middle;\n",
       "    }\n",
       "\n",
       "    .dataframe tbody tr th {\n",
       "        vertical-align: top;\n",
       "    }\n",
       "\n",
       "    .dataframe thead th {\n",
       "        text-align: right;\n",
       "    }\n",
       "</style>\n",
       "<table border=\"1\" class=\"dataframe\">\n",
       "  <thead>\n",
       "    <tr style=\"text-align: right;\">\n",
       "      <th></th>\n",
       "      <th>Height</th>\n",
       "      <th>Radius</th>\n",
       "      <th>MaxCurvature</th>\n",
       "      <th>MeshSize</th>\n",
       "      <th>Plies</th>\n",
       "      <th>EffectivePlies</th>\n",
       "      <th>Symmetric</th>\n",
       "      <th>Balanced</th>\n",
       "      <th>AnglesFunction</th>\n",
       "      <th>LoadCase</th>\n",
       "      <th>Train</th>\n",
       "      <th>Test</th>\n",
       "    </tr>\n",
       "  </thead>\n",
       "  <tbody>\n",
       "    <tr>\n",
       "      <th>Value</th>\n",
       "      <td>705</td>\n",
       "      <td>300</td>\n",
       "      <td>0.001575</td>\n",
       "      <td>10</td>\n",
       "      <td>8</td>\n",
       "      <td>2</td>\n",
       "      <td>True</td>\n",
       "      <td>True</td>\n",
       "      <td>harmlin</td>\n",
       "      <td>axial</td>\n",
       "      <td>128</td>\n",
       "      <td>32</td>\n",
       "    </tr>\n",
       "  </tbody>\n",
       "</table>\n",
       "</div>"
      ],
      "text/plain": [
       "       Height  Radius  MaxCurvature  MeshSize  Plies  EffectivePlies  \\\n",
       "Value     705     300      0.001575        10      8               2   \n",
       "\n",
       "       Symmetric  Balanced AnglesFunction LoadCase  Train  Test  \n",
       "Value       True      True        harmlin    axial    128    32  "
      ]
     },
     "execution_count": 5,
     "metadata": {},
     "output_type": "execute_result"
    }
   ],
   "source": [
    "# Modify parameter to choose the output folder to consider\n",
    "load_case = 'axial'\n",
    "stacking_sequence = 'symmetric_balanced'\n",
    "data_set = '2x'\n",
    "fiber_path = 'harmlin'\n",
    "\n",
    "# Check if notebook running in Colab\n",
    "is_colab = 'google.colab' in sys.modules\n",
    "\n",
    "# Model info folder\n",
    "if is_colab:\n",
    "    input_folder = './'\n",
    "else:\n",
    "    input_folder = load_case + '/' + stacking_sequence + '/' + data_set + '/' + fiber_path + '/'\n",
    "\n",
    "info = pd.read_csv(input_folder + 'model_info.csv', sep=\",\")\n",
    "info.index = ['Value']\n",
    "eff_plies = int(info['EffectivePlies'].values)\n",
    "info.head()"
   ]
  },
  {
   "cell_type": "code",
   "execution_count": 6,
   "metadata": {},
   "outputs": [
    {
     "name": "stdout",
     "output_type": "stream",
     "text": [
      "Active sets: Train, Test\n"
     ]
    }
   ],
   "source": [
    "sets = ['Train', 'Val', 'Test']\n",
    "for set in sets:\n",
    "    if set not in info.keys():\n",
    "        sets.remove(set)\n",
    "print(\"Active sets: {}, {}\".format(*sets))"
   ]
  },
  {
   "cell_type": "markdown",
   "metadata": {
    "colab_type": "text",
    "id": "EIBWzRwLyzhG"
   },
   "source": [
    "At this point we have to import the data set containing the input and output of the FE analysis. The data is stored in a dataframe in which the upper part is associated to the training set and the lower part to the test set. The precise number of upper row belonging to the train set is indicated in the info above."
   ]
  },
  {
   "cell_type": "code",
   "execution_count": 7,
   "metadata": {
    "colab": {
     "base_uri": "https://localhost:8080/",
     "height": 419
    },
    "colab_type": "code",
    "id": "niD2Q60oyzhG",
    "outputId": "6046f3fb-ed80-4099-aa94-7eb2dd87de49"
   },
   "outputs": [
    {
     "data": {
      "text/html": [
       "<div>\n",
       "<style scoped>\n",
       "    .dataframe tbody tr th:only-of-type {\n",
       "        vertical-align: middle;\n",
       "    }\n",
       "\n",
       "    .dataframe tbody tr th {\n",
       "        vertical-align: top;\n",
       "    }\n",
       "\n",
       "    .dataframe thead th {\n",
       "        text-align: right;\n",
       "    }\n",
       "</style>\n",
       "<table border=\"1\" class=\"dataframe\">\n",
       "  <thead>\n",
       "    <tr style=\"text-align: right;\">\n",
       "      <th></th>\n",
       "      <th>Amplitude1</th>\n",
       "      <th>PhaseShift1</th>\n",
       "      <th>Omega1</th>\n",
       "      <th>Beta1</th>\n",
       "      <th>Amplitude2</th>\n",
       "      <th>PhaseShift2</th>\n",
       "      <th>Omega2</th>\n",
       "      <th>Beta2</th>\n",
       "      <th>Buckling</th>\n",
       "      <th>Stiffness</th>\n",
       "    </tr>\n",
       "  </thead>\n",
       "  <tbody>\n",
       "    <tr>\n",
       "      <th>count</th>\n",
       "      <td>160.000000</td>\n",
       "      <td>160.000000</td>\n",
       "      <td>160.000000</td>\n",
       "      <td>160.000000</td>\n",
       "      <td>160.000000</td>\n",
       "      <td>160.000000</td>\n",
       "      <td>160.000000</td>\n",
       "      <td>160.000000</td>\n",
       "      <td>160.000000</td>\n",
       "      <td>160.000000</td>\n",
       "    </tr>\n",
       "    <tr>\n",
       "      <th>mean</th>\n",
       "      <td>2.070144</td>\n",
       "      <td>0.031938</td>\n",
       "      <td>1.000456</td>\n",
       "      <td>0.032338</td>\n",
       "      <td>-3.336031</td>\n",
       "      <td>-0.020719</td>\n",
       "      <td>1.000194</td>\n",
       "      <td>0.049800</td>\n",
       "      <td>252.621775</td>\n",
       "      <td>187.829000</td>\n",
       "    </tr>\n",
       "    <tr>\n",
       "      <th>std</th>\n",
       "      <td>81.223350</td>\n",
       "      <td>52.161625</td>\n",
       "      <td>0.577993</td>\n",
       "      <td>52.171156</td>\n",
       "      <td>80.082929</td>\n",
       "      <td>52.176463</td>\n",
       "      <td>0.579600</td>\n",
       "      <td>52.098908</td>\n",
       "      <td>39.743864</td>\n",
       "      <td>115.880896</td>\n",
       "    </tr>\n",
       "    <tr>\n",
       "      <th>min</th>\n",
       "      <td>-187.912000</td>\n",
       "      <td>-89.231000</td>\n",
       "      <td>0.015000</td>\n",
       "      <td>-88.995000</td>\n",
       "      <td>-199.306000</td>\n",
       "      <td>-88.775000</td>\n",
       "      <td>0.003000</td>\n",
       "      <td>-88.708000</td>\n",
       "      <td>160.299000</td>\n",
       "      <td>39.916000</td>\n",
       "    </tr>\n",
       "    <tr>\n",
       "      <th>25%</th>\n",
       "      <td>-39.162750</td>\n",
       "      <td>-44.880750</td>\n",
       "      <td>0.502250</td>\n",
       "      <td>-44.385000</td>\n",
       "      <td>-46.642000</td>\n",
       "      <td>-44.468000</td>\n",
       "      <td>0.497750</td>\n",
       "      <td>-44.799000</td>\n",
       "      <td>224.361750</td>\n",
       "      <td>83.257500</td>\n",
       "    </tr>\n",
       "    <tr>\n",
       "      <th>50%</th>\n",
       "      <td>0.754500</td>\n",
       "      <td>-0.406500</td>\n",
       "      <td>0.998500</td>\n",
       "      <td>-0.228000</td>\n",
       "      <td>0.875000</td>\n",
       "      <td>-0.112000</td>\n",
       "      <td>0.997500</td>\n",
       "      <td>0.022000</td>\n",
       "      <td>248.001000</td>\n",
       "      <td>183.254500</td>\n",
       "    </tr>\n",
       "    <tr>\n",
       "      <th>75%</th>\n",
       "      <td>44.945250</td>\n",
       "      <td>44.462500</td>\n",
       "      <td>1.493500</td>\n",
       "      <td>44.900000</td>\n",
       "      <td>38.226000</td>\n",
       "      <td>44.772250</td>\n",
       "      <td>1.498750</td>\n",
       "      <td>44.608750</td>\n",
       "      <td>280.917750</td>\n",
       "      <td>277.347500</td>\n",
       "    </tr>\n",
       "    <tr>\n",
       "      <th>max</th>\n",
       "      <td>180.930000</td>\n",
       "      <td>89.234000</td>\n",
       "      <td>1.989000</td>\n",
       "      <td>89.492000</td>\n",
       "      <td>195.404000</td>\n",
       "      <td>89.547000</td>\n",
       "      <td>1.984000</td>\n",
       "      <td>89.553000</td>\n",
       "      <td>362.584000</td>\n",
       "      <td>535.513000</td>\n",
       "    </tr>\n",
       "  </tbody>\n",
       "</table>\n",
       "</div>"
      ],
      "text/plain": [
       "       Amplitude1  PhaseShift1      Omega1       Beta1  Amplitude2  \\\n",
       "count  160.000000   160.000000  160.000000  160.000000  160.000000   \n",
       "mean     2.070144     0.031938    1.000456    0.032338   -3.336031   \n",
       "std     81.223350    52.161625    0.577993   52.171156   80.082929   \n",
       "min   -187.912000   -89.231000    0.015000  -88.995000 -199.306000   \n",
       "25%    -39.162750   -44.880750    0.502250  -44.385000  -46.642000   \n",
       "50%      0.754500    -0.406500    0.998500   -0.228000    0.875000   \n",
       "75%     44.945250    44.462500    1.493500   44.900000   38.226000   \n",
       "max    180.930000    89.234000    1.989000   89.492000  195.404000   \n",
       "\n",
       "       PhaseShift2      Omega2       Beta2    Buckling   Stiffness  \n",
       "count   160.000000  160.000000  160.000000  160.000000  160.000000  \n",
       "mean     -0.020719    1.000194    0.049800  252.621775  187.829000  \n",
       "std      52.176463    0.579600   52.098908   39.743864  115.880896  \n",
       "min     -88.775000    0.003000  -88.708000  160.299000   39.916000  \n",
       "25%     -44.468000    0.497750  -44.799000  224.361750   83.257500  \n",
       "50%      -0.112000    0.997500    0.022000  248.001000  183.254500  \n",
       "75%      44.772250    1.498750   44.608750  280.917750  277.347500  \n",
       "max      89.547000    1.984000   89.553000  362.584000  535.513000  "
      ]
     },
     "execution_count": 7,
     "metadata": {},
     "output_type": "execute_result"
    }
   ],
   "source": [
    "# Import data sets\n",
    "data_orig = pd.read_csv(input_folder + '/data.csv', sep=',')\n",
    "data_orig.describe()"
   ]
  },
  {
   "cell_type": "markdown",
   "metadata": {
    "colab_type": "text",
    "id": "S9U4RPrnyzhP"
   },
   "source": [
    "The most important step to perform before training our model is the normalization of the variables. Different strategies are possible at this end, among which 2 are the most used:\n",
    "\n",
    "* Range normalization: converts all the values to the range $[0, 1]$\n",
    "\n",
    "* Standard score normalization: forces the variables to have $0$ mean and $1$ standard deviation\n",
    "\n",
    "We will try both to see the effect on the model performance."
   ]
  },
  {
   "cell_type": "code",
   "execution_count": 8,
   "metadata": {
    "colab": {},
    "colab_type": "code",
    "id": "-ZVjkHziyzhQ"
   },
   "outputs": [],
   "source": [
    "def range_norm(x, x_min=None, x_max=None):\n",
    "    \"\"\" Normalization in range [0, 1] \"\"\"\n",
    "    if x_min is None and x_max is None:\n",
    "        x_min = np.min(x, axis=0)\n",
    "        x_max = np.max(x, axis=0)\n",
    "    x_norm = (x - x_min) / (x_max - x_min)\n",
    "\n",
    "    return x_norm, x_min, x_max\n",
    "\n",
    "def std_norm(x, m=None, s=None):\n",
    "    \"\"\" Normalization with zero mean and unitary standard deviation \"\"\"\n",
    "    if m is None and s is None:\n",
    "        m = np.mean(x, axis=0)\n",
    "        s = np.std(x, axis=0)\n",
    "    x_norm = (x - m) / s\n",
    "    \n",
    "    return x_norm, m, s"
   ]
  },
  {
   "cell_type": "markdown",
   "metadata": {
    "colab_type": "text",
    "id": "TL3mX63XyzhT"
   },
   "source": [
    "Now we can split the data into training and test set. The two sets have been generate independently during the DOE."
   ]
  },
  {
   "cell_type": "code",
   "execution_count": 9,
   "metadata": {
    "colab": {
     "base_uri": "https://localhost:8080/",
     "height": 153
    },
    "colab_type": "code",
    "id": "uy149NwNyzhT",
    "outputId": "224f9a13-bed4-4c54-f05e-a4eee762b812"
   },
   "outputs": [],
   "source": [
    "X = data_orig.drop(['Buckling', 'Stiffness'], axis=1).values\n",
    "Y = data_orig[['Buckling','Stiffness']].values\n",
    "\n",
    "# Train set\n",
    "train_smp = int(info['Train'].values)\n",
    "_X_train = X[:train_smp, :]\n",
    "_Y_train = Y[:train_smp]\n",
    "last = np.copy(train_smp)\n",
    "\n",
    "# Validation set\n",
    "if 'Val' in sets:\n",
    "    val_smp = int(info['Val'].values)\n",
    "    _X_val = X[last:last+val_smp, :]\n",
    "    _Y_val = Y[last:last+val_smp]\n",
    "    last += val_smp\n",
    "\n",
    "# Test set\n",
    "if 'Test' in sets:\n",
    "    test_smp = int(info['Test'].values)\n",
    "    _X_test = X[last:last+test_smp, :]\n",
    "    _Y_test = Y[last:last+test_smp]"
   ]
  },
  {
   "cell_type": "markdown",
   "metadata": {},
   "source": [
    "If validation set is not present we will generate it from the training set."
   ]
  },
  {
   "cell_type": "code",
   "execution_count": 10,
   "metadata": {},
   "outputs": [
    {
     "name": "stdout",
     "output_type": "stream",
     "text": [
      "            Data sets info: \n",
      "\n",
      "X_train : (102, 8)  |  Y_train : (102, 2)\n",
      "X_val   : (26, 8)   |  Y_val   : (26, 2)\n",
      "X_test  : (32, 8)  |  Y_test  : (32, 2) \n",
      "\n"
     ]
    }
   ],
   "source": [
    "_X_train, _X_val, _Y_train, _Y_val = train_test_split(_X_train, _Y_train, test_size=0.2, random_state=seed)\n",
    "print('            Data sets info: \\n')\n",
    "print(\"X_train : {}  |  Y_train : {}\".format(_X_train.shape, _Y_train.shape))\n",
    "print(\"X_val   : {}   |  Y_val   : {}\".format(_X_val.shape, _Y_val.shape))\n",
    "print(\"X_test  : {}  |  Y_test  : {} \\n\".format(_X_test.shape, _Y_test.shape))"
   ]
  },
  {
   "cell_type": "markdown",
   "metadata": {},
   "source": [
    "At this point we can generate the iterable data sets for Torch"
   ]
  },
  {
   "cell_type": "code",
   "execution_count": 11,
   "metadata": {},
   "outputs": [],
   "source": [
    "def shuffle_data(X, Y):\n",
    "    \"\"\" Random shuffle of samples in X and y \"\"\"\n",
    "    idx = np.arange(X.shape[0])\n",
    "    np.random.shuffle(idx)\n",
    "    \n",
    "    return X[idx], Y[idx]"
   ]
  },
  {
   "cell_type": "code",
   "execution_count": 12,
   "metadata": {
    "colab": {
     "base_uri": "https://localhost:8080/",
     "height": 297
    },
    "colab_type": "code",
    "id": "ORbqtnh-yzhR",
    "outputId": "d18315cf-cbc9-40f5-f987-26f6485bba5b"
   },
   "outputs": [],
   "source": [
    "# Normalization training set\n",
    "X_train, x_min, x_max = range_norm(_X_train)\n",
    "Y_train, y_min, y_max = range_norm(_Y_train)\n",
    "\n",
    "# Shuffle training set\n",
    "X_train, Y_train = shuffle_data(X_train, Y_train)"
   ]
  },
  {
   "cell_type": "code",
   "execution_count": 13,
   "metadata": {},
   "outputs": [],
   "source": [
    "# Normalization validation set\n",
    "X_val, _, _ = range_norm(_X_val, x_min=x_min, x_max=x_max)\n",
    "Y_val, _, _ = range_norm(_Y_val, x_min=y_min, x_max=y_max)\n",
    "\n",
    "# Normalization testing set\n",
    "X_test, _, _ = range_norm(_X_test, x_min=x_min, x_max=x_max)\n",
    "Y_test, _, _ = range_norm(_Y_test, x_min=y_min, x_max=y_max)"
   ]
  },
  {
   "cell_type": "code",
   "execution_count": 14,
   "metadata": {},
   "outputs": [],
   "source": [
    "def create_batches(_X, _Y, batch_size):\n",
    "    \"\"\" Split the data into k batches \"\"\"\n",
    "\n",
    "    n_samples = _X.shape[0]\n",
    "    leftovers = {}\n",
    "    n_leftovers = n_samples % batch_size\n",
    "    \n",
    "    # Case with all batches of equal size\n",
    "    if n_leftovers != 0:\n",
    "        leftovers[\"X\"] = _X[-n_leftovers:]\n",
    "        leftovers[\"Y\"] = _Y[-n_leftovers:]\n",
    "        _X = _X[:-n_leftovers]\n",
    "        _Y = _Y[:-n_leftovers]\n",
    "\n",
    "    k = np.int(_X.shape[0] / batch_size)\n",
    "        \n",
    "    X_split = np.split(_X, k)\n",
    "    Y_split = np.split(_Y, k)\n",
    "    \n",
    "    # Add leftover samples as last batch\n",
    "    if n_leftovers != 0:\n",
    "        X_split.append(leftovers[\"X\"])\n",
    "        Y_split.append(leftovers[\"Y\"])\n",
    "\n",
    "    return X_split, Y_split"
   ]
  },
  {
   "cell_type": "code",
   "execution_count": 15,
   "metadata": {},
   "outputs": [],
   "source": [
    "batch_size = 8\n",
    "X_train_b, Y_train_b = create_batches(X_train, Y_train, batch_size=batch_size)"
   ]
  },
  {
   "cell_type": "code",
   "execution_count": 16,
   "metadata": {},
   "outputs": [
    {
     "name": "stdout",
     "output_type": "stream",
     "text": [
      "Batches dimensions: \n",
      "\n",
      "Batch 0 : input (8, 8)  ,  output : (8, 2)\n",
      "Batch 1 : input (8, 8)  ,  output : (8, 2)\n",
      "Batch 2 : input (8, 8)  ,  output : (8, 2)\n",
      "Batch 3 : input (8, 8)  ,  output : (8, 2)\n",
      "Batch 4 : input (8, 8)  ,  output : (8, 2)\n",
      "Batch 5 : input (8, 8)  ,  output : (8, 2)\n",
      "Batch 6 : input (8, 8)  ,  output : (8, 2)\n",
      "Batch 7 : input (8, 8)  ,  output : (8, 2)\n",
      "Batch 8 : input (8, 8)  ,  output : (8, 2)\n",
      "Batch 9 : input (8, 8)  ,  output : (8, 2)\n",
      "Batch 10 : input (8, 8)  ,  output : (8, 2)\n",
      "Batch 11 : input (8, 8)  ,  output : (8, 2)\n",
      "Batch 12 : input (6, 8)  ,  output : (6, 2)\n"
     ]
    }
   ],
   "source": [
    "print(\"Batches dimensions: \\n\")\n",
    "for i in range(len(X_train_b)):\n",
    "    print(\"Batch {} : input {}  ,  output : {}\".format(i, X_train_b[i].shape, Y_train_b[i].shape))"
   ]
  },
  {
   "cell_type": "code",
   "execution_count": 119,
   "metadata": {
    "colab": {},
    "colab_type": "code",
    "id": "7Cyx2vNti_z4"
   },
   "outputs": [],
   "source": [
    "class EarlyStopping:\n",
    "    \"\"\" Stop network training if validation loss increases for a certain time.\n",
    "        The code is base on https://github.com/Bjarten/early-stopping-pytorch/blob/master/pytorchtools.py\"\"\"\n",
    "    def __init__(self, patience=30, path='weights_NN'):\n",
    "        self.patience = patience\n",
    "        self.counter = 0\n",
    "        self.early_stop = False\n",
    "        self.val_loss_min = np.Inf\n",
    "        self.path = path\n",
    "\n",
    "    def __call__(self, val_loss, model):\n",
    "\n",
    "        if self.val_loss_min > val_loss:\n",
    "            self.val_loss_min = val_loss\n",
    "            self.counter = 0\n",
    "            torch.save(model.state_dict(), self.path)\n",
    "        else:\n",
    "            self.counter += 1\n",
    "            if self.counter >= self.patience:\n",
    "                self.early_stop = True"
   ]
  },
  {
   "cell_type": "markdown",
   "metadata": {
    "colab_type": "text",
    "id": "-7O7AIIoyzhU"
   },
   "source": [
    "## **Neural network**"
   ]
  },
  {
   "cell_type": "markdown",
   "metadata": {
    "colab_type": "text",
    "id": "Vyx3cytYfs7E"
   },
   "source": [
    "First define network class"
   ]
  },
  {
   "cell_type": "code",
   "execution_count": 134,
   "metadata": {
    "colab": {},
    "colab_type": "code",
    "id": "3aMiO2DUfrIK"
   },
   "outputs": [],
   "source": [
    "class FFNN(torch.nn.Module):\n",
    "    \"\"\" Implementation of FeedForward Neural Network \"\"\"\n",
    "    def __init__(self, D_in, H, D_out, p):\n",
    "        super(FFNN, self).__init__()\n",
    "        # First hidden layer\n",
    "        self.W_1 = Parameter(init.xavier_normal_(torch.Tensor(H, D_in)))\n",
    "        self.b_1 = Parameter(init.constant_(torch.Tensor(H), 0))\n",
    "        # Second hidden layer\n",
    "        self.W_2 = Parameter(init.xavier_normal_(torch.Tensor(H, H)))\n",
    "        self.b_2 = Parameter(init.constant_(torch.Tensor(H), 0))\n",
    "        # Third hidden layer\n",
    "        self.W_3 = Parameter(init.xavier_normal_(torch.Tensor(H, H)))\n",
    "        self.b_3 = Parameter(init.constant_(torch.Tensor(H), 0))\n",
    "        # Output layer\n",
    "        self.W_4 = Parameter(init.xavier_normal_(torch.Tensor(D_out, H)))\n",
    "        self.b_4 = Parameter(init.constant_(torch.Tensor(D_out), 0))\n",
    "        \n",
    "        # define activation function in constructor\n",
    "        self.activation_1 = torch.nn.ReLU()\n",
    "        self.activation_2 = torch.nn.ReLU()\n",
    "        self.activation_3 = torch.nn.ReLU()\n",
    "        self.dropout = torch.nn.Dropout(p=p)\n",
    "\n",
    "    def forward(self, x):\n",
    "        x = F.linear(x, self.W_1, self.b_1)\n",
    "        x = self.activation_1(x)\n",
    "        x = self.dropout(x)\n",
    "        x = F.linear(x, self.W_2, self.b_2)\n",
    "        x = self.activation_2(x)\n",
    "        x = self.dropout(x)\n",
    "        x = F.linear(x, self.W_3, self.b_3)\n",
    "        x = self.activation_3(x)\n",
    "        x = self.dropout(x)\n",
    "        pred = F.linear(x, self.W_4, self.b_4)\n",
    "        return pred"
   ]
  },
  {
   "cell_type": "code",
   "execution_count": 148,
   "metadata": {
    "colab": {
     "base_uri": "https://localhost:8080/",
     "height": 357
    },
    "colab_type": "code",
    "id": "ibkHXkYKmXs6",
    "outputId": "3a2927df-9996-474a-eee5-3ec0d6f12263",
    "scrolled": false
   },
   "outputs": [
    {
     "name": "stdout",
     "output_type": "stream",
     "text": [
      "Iteration : 0000 | Train loss : 0.58370 | Val loss : 0.26036\n",
      "Iteration : 0100 | Train loss : 0.20426 | Val loss : 0.24594\n",
      "Iteration : 0200 | Train loss : 0.17710 | Val loss : 0.19058\n",
      "Iteration : 0300 | Train loss : 0.15079 | Val loss : 0.16629\n",
      "Iteration : 0400 | Train loss : 0.14910 | Val loss : 0.15567\n",
      "Iteration : 0500 | Train loss : 0.14500 | Val loss : 0.14987\n",
      "Iteration : 0600 | Train loss : 0.13611 | Val loss : 0.14801\n",
      "Iteration : 0700 | Train loss : 0.13003 | Val loss : 0.14594\n",
      "Iteration : 0800 | Train loss : 0.13113 | Val loss : 0.14406\n",
      "Iteration : 0900 | Train loss : 0.12846 | Val loss : 0.14344\n",
      "Iteration : 1000 | Train loss : 0.12323 | Val loss : 0.14225\n",
      "Iteration : 1100 | Train loss : 0.11962 | Val loss : 0.14183\n",
      "Iteration : 1200 | Train loss : 0.11541 | Val loss : 0.13995\n",
      "Iteration : 1300 | Train loss : 0.11410 | Val loss : 0.13884\n",
      "Iteration : 1400 | Train loss : 0.11140 | Val loss : 0.13669\n",
      "Iteration : 1500 | Train loss : 0.11058 | Val loss : 0.13449\n",
      "Iteration : 1600 | Train loss : 0.10897 | Val loss : 0.13176\n",
      "Iteration : 1700 | Train loss : 0.11012 | Val loss : 0.12988\n",
      "Iteration : 1800 | Train loss : 0.10393 | Val loss : 0.12790\n",
      "Iteration : 1900 | Train loss : 0.10346 | Val loss : 0.12649\n",
      "Iteration : 2000 | Train loss : 0.10694 | Val loss : 0.12440\n",
      "Iteration : 2100 | Train loss : 0.09914 | Val loss : 0.12212\n",
      "Iteration : 2200 | Train loss : 0.10729 | Val loss : 0.12004\n",
      "Iteration : 2300 | Train loss : 0.09666 | Val loss : 0.11909\n",
      "Iteration : 2400 | Train loss : 0.10166 | Val loss : 0.11706\n",
      "Iteration : 2500 | Train loss : 0.09992 | Val loss : 0.11504\n",
      "Iteration : 2600 | Train loss : 0.09348 | Val loss : 0.11347\n",
      "Iteration : 2700 | Train loss : 0.09014 | Val loss : 0.11214\n",
      "Iteration : 2800 | Train loss : 0.09570 | Val loss : 0.11043\n",
      "Iteration : 2900 | Train loss : 0.09187 | Val loss : 0.10837\n",
      "Iteration : 3000 | Train loss : 0.09591 | Val loss : 0.10742\n",
      "Iteration : 3100 | Train loss : 0.09127 | Val loss : 0.10692\n",
      "Iteration : 3200 | Train loss : 0.08877 | Val loss : 0.10541\n",
      "Iteration : 3300 | Train loss : 0.09823 | Val loss : 0.10535\n",
      "Iteration : 3400 | Train loss : 0.08518 | Val loss : 0.10538\n",
      "Iteration : 3500 | Train loss : 0.09425 | Val loss : 0.10497\n",
      "Iteration : 3600 | Train loss : 0.08849 | Val loss : 0.10475\n",
      "Iteration : 3700 | Train loss : 0.09637 | Val loss : 0.10332\n",
      "Iteration : 3800 | Train loss : 0.08682 | Val loss : 0.10442\n",
      "Iteration : 3900 | Train loss : 0.08241 | Val loss : 0.10312\n",
      "Iteration : 4000 | Train loss : 0.09133 | Val loss : 0.10353\n",
      "Iteration : 4100 | Train loss : 0.09687 | Val loss : 0.10210\n",
      "Iteration : 4200 | Train loss : 0.09175 | Val loss : 0.10350\n",
      "Iteration : 4300 | Train loss : 0.08314 | Val loss : 0.10287\n",
      "Iteration : 4400 | Train loss : 0.08419 | Val loss : 0.10345\n",
      "Iteration : 4500 | Train loss : 0.08135 | Val loss : 0.10145\n",
      "Iteration : 4600 | Train loss : 0.08044 | Val loss : 0.10408\n",
      "Iteration : 4700 | Train loss : 0.08492 | Val loss : 0.10170\n",
      "Iteration : 4800 | Train loss : 0.08739 | Val loss : 0.10266\n",
      "Iteration : 4900 | Train loss : 0.08229 | Val loss : 0.10274\n",
      "Iteration : 5000 | Train loss : 0.08621 | Val loss : 0.10213\n",
      "Iteration : 5100 | Train loss : 0.08865 | Val loss : 0.10246\n",
      "Iteration : 5200 | Train loss : 0.08698 | Val loss : 0.10222\n",
      "Iteration : 5300 | Train loss : 0.07754 | Val loss : 0.10111\n",
      "Iteration : 5400 | Train loss : 0.08343 | Val loss : 0.10142\n",
      "Iteration : 5500 | Train loss : 0.08355 | Val loss : 0.10242\n",
      "Iteration : 5600 | Train loss : 0.08271 | Val loss : 0.10105\n",
      "Iteration : 5700 | Train loss : 0.07727 | Val loss : 0.10035\n",
      "Iteration : 5800 | Train loss : 0.08116 | Val loss : 0.10029\n",
      "Iteration : 5900 | Train loss : 0.07436 | Val loss : 0.10102\n",
      "Iteration : 6000 | Train loss : 0.08356 | Val loss : 0.10150\n",
      "Iteration : 6100 | Train loss : 0.08526 | Val loss : 0.10111\n",
      "Iteration : 6200 | Train loss : 0.07567 | Val loss : 0.10259\n",
      "Iteration : 6300 | Train loss : 0.08008 | Val loss : 0.10111\n",
      "Iteration : 6400 | Train loss : 0.07804 | Val loss : 0.10072\n",
      "Iteration : 6500 | Train loss : 0.07543 | Val loss : 0.10244\n",
      "Iteration : 6600 | Train loss : 0.07306 | Val loss : 0.10123\n",
      "Iteration : 6700 | Train loss : 0.07967 | Val loss : 0.10266\n",
      "Iteration : 6800 | Train loss : 0.08303 | Val loss : 0.10339\n",
      "Iteration : 6900 | Train loss : 0.07481 | Val loss : 0.10172\n",
      "Iteration : 7000 | Train loss : 0.08246 | Val loss : 0.10144\n",
      "Iteration : 7100 | Train loss : 0.09043 | Val loss : 0.10193\n",
      "Iteration : 7200 | Train loss : 0.08270 | Val loss : 0.10251\n",
      "Iteration : 7300 | Train loss : 0.07911 | Val loss : 0.10369\n",
      "Iteration : 7400 | Train loss : 0.07796 | Val loss : 0.10284\n",
      "Iteration : 7500 | Train loss : 0.07698 | Val loss : 0.10263\n",
      "Iteration : 7600 | Train loss : 0.07767 | Val loss : 0.10200\n",
      "Iteration : 7700 | Train loss : 0.07635 | Val loss : 0.10250\n",
      "Iteration : 7800 | Train loss : 0.07657 | Val loss : 0.10114\n",
      "Iteration : 7900 | Train loss : 0.07776 | Val loss : 0.10149\n",
      "Iteration : 8000 | Train loss : 0.08512 | Val loss : 0.10227\n",
      "Iteration : 8100 | Train loss : 0.07643 | Val loss : 0.10054\n",
      "Iteration : 8200 | Train loss : 0.07890 | Val loss : 0.10231\n",
      "Iteration : 8300 | Train loss : 0.07116 | Val loss : 0.10159\n",
      "Iteration : 8400 | Train loss : 0.08254 | Val loss : 0.10092\n",
      "Iteration : 8500 | Train loss : 0.07744 | Val loss : 0.10046\n",
      "Iteration : 8600 | Train loss : 0.08027 | Val loss : 0.10055\n",
      "Iteration : 8700 | Train loss : 0.07622 | Val loss : 0.10064\n",
      "Iteration : 8800 | Train loss : 0.08337 | Val loss : 0.10259\n",
      "Iteration : 8900 | Train loss : 0.07413 | Val loss : 0.10128\n",
      "Iteration : 9000 | Train loss : 0.08169 | Val loss : 0.10052\n",
      "Iteration : 9100 | Train loss : 0.07425 | Val loss : 0.09910\n",
      "Iteration : 9200 | Train loss : 0.07615 | Val loss : 0.10189\n",
      "Iteration : 9300 | Train loss : 0.07475 | Val loss : 0.10182\n",
      "Iteration : 9400 | Train loss : 0.07667 | Val loss : 0.09966\n",
      "Iteration : 9500 | Train loss : 0.07887 | Val loss : 0.09992\n",
      "Iteration : 9600 | Train loss : 0.08319 | Val loss : 0.10250\n",
      "Iteration : 9700 | Train loss : 0.07731 | Val loss : 0.10172\n",
      "Iteration : 9800 | Train loss : 0.07762 | Val loss : 0.10092\n",
      "Iteration : 9900 | Train loss : 0.07817 | Val loss : 0.10094\n"
     ]
    }
   ],
   "source": [
    "n_x = X_train.shape[1]\n",
    "n_y = Y_train.shape[1]\n",
    "D_in, H, D_out = n_x, 32, n_y\n",
    "\n",
    "epochs = 10000\n",
    "lr = 1e-4\n",
    "weight_decay = 0.\n",
    "lambda_1 = 1e-3\n",
    "lambda_2 = 1e-5\n",
    "p = 0.5\n",
    "patience = 3000\n",
    "\n",
    "model = FFNN(D_in, H, D_out, p)\n",
    "\n",
    "early_stopping = EarlyStopping(patience=patience)\n",
    "\n",
    "# Flag True if you are in the network optimization process.\n",
    "is_optimizing = True\n",
    "\n",
    "# If weight_NN exists and we are not in optimization mode just load\n",
    "# network weights and evaluate the model.\n",
    "if(os.path.isfile('weights_NN') and is_optimizing==False):\n",
    "    model.load_state_dict(torch.load('weights_NN'))\n",
    "    print(model.eval())\n",
    "else:\n",
    "    criterion = nn.MSELoss(reduction='mean') \n",
    "    optimizer = optim.Adam(model.parameters(), lr=lr, weight_decay=weight_decay)\n",
    "    \n",
    "    # Initialize losses lists.\n",
    "    train_loss = []\n",
    "    val_loss = []\n",
    "    losses = []\n",
    "    W_1_hist = []\n",
    "    W_2_hist = []\n",
    "    W_3_hist = []\n",
    "    \n",
    "    idx = np.arange(len(X_train_b))\n",
    "    \n",
    "    for epoch in range(epochs):\n",
    "        curr_loss = 0\n",
    "        np.random.shuffle(idx)\n",
    "        \n",
    "        model.train()\n",
    "        for batch_num in idx:\n",
    "            \n",
    "            # Create torch variables, required dtype 'float32' no 'float64'\n",
    "            batch_x = Variable(torch.from_numpy(X_train_b[batch_num].astype('float32')))\n",
    "            batch_y = Variable(torch.from_numpy(Y_train_b[batch_num].astype('float32')))\n",
    "            optimizer.zero_grad()\n",
    "            \n",
    "            y_pred = model(batch_x)\n",
    "            \n",
    "            # L1 and L2 regularization\n",
    "            l1_reg = None\n",
    "            l2_reg = None\n",
    "            for W in model.parameters():\n",
    "                if l1_reg is None:\n",
    "                    l1_reg = W.norm(1)\n",
    "                    l2_reg = 0.5* W.norm(2) ** 2\n",
    "                else:\n",
    "                    l1_reg = l1_reg + W.norm(1)\n",
    "                    l2_reg = l2_reg + 0.5 * W.norm(2) ** 2\n",
    "                \n",
    "            # Compute loss\n",
    "            batch_loss = 1 / batch_x.shape[0] * ((y_pred - batch_y).pow(2).sum() + l1_reg * lambda_1 + l2_reg * lambda_2)\n",
    "            batch_loss.backward()\n",
    "\n",
    "            # Update weights\n",
    "            optimizer.step()\n",
    "            \n",
    "            curr_loss += batch_loss\n",
    "        train_loss.append(curr_loss.item() / len(idx))\n",
    "        \n",
    "        # Save norm of the weights\n",
    "        W_1_hist.append(np.linalg.norm(model.W_1.detach().numpy()))\n",
    "        W_2_hist.append(np.linalg.norm(model.W_2.detach().numpy()))\n",
    "        W_3_hist.append(np.linalg.norm(model.W_3.detach().numpy()))\n",
    "        \n",
    "        model.eval()\n",
    "        val_x = Variable(torch.from_numpy(X_val.astype('float32')))\n",
    "        val_y = Variable(torch.from_numpy(Y_val.astype('float32')))\n",
    "        val_pred = model(val_x)\n",
    "        loss_val = 1 / val_x.shape[0] * ((val_y - val_pred).pow(2).sum() + l1_reg * lambda_1 + l2_reg * lambda_2)\n",
    "            \n",
    "        val_loss.append(loss_val.item())\n",
    "\n",
    "        if epoch % 100 == 0:\n",
    "            print(\"Iteration : {:04d} | Train loss : {:.5f} | Val loss : {:.5f}\".format(epoch, train_loss[epoch], val_loss[epoch]))\n",
    "        \n",
    "        early_stopping(val_loss[epoch], model)\n",
    "        \n",
    "        if early_stopping.early_stop:\n",
    "            print(\"\\nEarly stopping - Minimum loss : {:.5f}\".format(early_stopping.val_loss_min))\n",
    "            break\n",
    "    \n",
    "    if not early_stopping.early_stop:\n",
    "        torch.save(model.state_dict(), 'weights_NN')"
   ]
  },
  {
   "cell_type": "code",
   "execution_count": 149,
   "metadata": {},
   "outputs": [
    {
     "data": {
      "text/plain": [
       "(Text(0.5, 0, 'Epoch'), Text(0, 0.5, 'Weights norm'))"
      ]
     },
     "execution_count": 149,
     "metadata": {},
     "output_type": "execute_result"
    },
    {
     "data": {
      "image/png": "[encoded data removed]",
      "text/plain": [
       "<Figure size 576x576 with 1 Axes>"
      ]
     },
     "metadata": {
      "needs_background": "light"
     },
     "output_type": "display_data"
    }
   ],
   "source": [
    "plt.figure(figsize=(8, 8))\n",
    "plt.plot(np.arange(len(W_1_hist)), W_1_hist, 'r',\n",
    "         np.arange(len(W_2_hist)), W_2_hist, 'b',\n",
    "         np.arange(len(W_3_hist)), W_3_hist, 'k')\n",
    "plt.legend(['W_1','W_2', 'W_3'])\n",
    "plt.xlabel('Epoch'), plt.ylabel('Weights norm')\n",
    "#plt.ylim(-.0, .06)"
   ]
  },
  {
   "cell_type": "code",
   "execution_count": 150,
   "metadata": {},
   "outputs": [
    {
     "data": {
      "text/plain": [
       "(Text(0.5, 0, 'Epoch'), Text(0, 0.5, 'Loss'))"
      ]
     },
     "execution_count": 150,
     "metadata": {},
     "output_type": "execute_result"
    },
    {
     "data": {
      "image/png": "[encoded data removed]",
      "text/plain": [
       "<Figure size 576x576 with 1 Axes>"
      ]
     },
     "metadata": {
      "needs_background": "light"
     },
     "output_type": "display_data"
    }
   ],
   "source": [
    "plt.figure(figsize=(8, 8))\n",
    "plt.plot(np.arange(len(train_loss)), train_loss, 'r', np.arange(len(val_loss)), val_loss, 'b')\n",
    "plt.legend(['Train Loss','Validation Loss'])\n",
    "plt.xlabel('Epoch'), plt.ylabel('Loss')\n",
    "#plt.ylim(-.0, .06)"
   ]
  },
  {
   "cell_type": "markdown",
   "metadata": {},
   "source": [
    "We need to go back from normalization in order to have a better feeling of the results and avoid division for very low numbers."
   ]
  },
  {
   "cell_type": "code",
   "execution_count": 151,
   "metadata": {},
   "outputs": [],
   "source": [
    "def reverse_range_norm(x_norm, x_min, x_max):\n",
    "    \"\"\" Inverse of normalization in range [0, 1] \"\"\"\n",
    "    x = x_min +  x_norm * (x_max - x_min)\n",
    "\n",
    "    return x"
   ]
  },
  {
   "cell_type": "code",
   "execution_count": 152,
   "metadata": {},
   "outputs": [
    {
     "name": "stdout",
     "output_type": "stream",
     "text": [
      "\n",
      "The mean of the percentage error is: 28.23%\n"
     ]
    }
   ],
   "source": [
    "flag_list = None\n",
    "model.eval()\n",
    "train_x = Variable(torch.from_numpy(X_train.astype('float32')))\n",
    "train_y = Variable(torch.from_numpy(Y_train.astype('float32')))\n",
    "\n",
    "train_pred = model(train_x)\n",
    "\n",
    "train_y = reverse_range_norm(train_y.detach().numpy(), y_min, y_max)\n",
    "train_pred = reverse_range_norm(train_pred.detach().numpy(), y_min, y_max)\n",
    "\n",
    "err_perc = abs(train_y - train_pred) / (train_y + 1e-12) * 100\n",
    "\n",
    "if flag_list:\n",
    "    for i in range(train_y.shape[0]):\n",
    "        print(\"True : {:06.2f}, {:06.2f}  |  Prediction : {:06.2f}, {:06.2f}  |  Error : {:07.2f}%, {:07.2f}%\".\n",
    "              format(*train_y[i, :], *train_pred[i, :], *err_perc[i, :]))\n",
    "    \n",
    "print(\"\\nThe mean of the percentage error is: {:.2f}%\".format(np.mean(err_perc)))"
   ]
  },
  {
   "cell_type": "code",
   "execution_count": 153,
   "metadata": {},
   "outputs": [
    {
     "name": "stdout",
     "output_type": "stream",
     "text": [
      "\n",
      "The mean of the percentage error is: 40.38%\n"
     ]
    }
   ],
   "source": [
    "flag_list = None\n",
    "model.eval()\n",
    "val_x = Variable(torch.from_numpy(X_val.astype('float32')))\n",
    "val_y = Variable(torch.from_numpy(Y_val.astype('float32')))\n",
    "\n",
    "val_pred = model(val_x)\n",
    "\n",
    "val_y = reverse_range_norm(val_y.detach().numpy(), y_min, y_max)\n",
    "val_pred = reverse_range_norm(val_pred.detach().numpy(), y_min, y_max)\n",
    "\n",
    "err_perc = abs(val_y - val_pred) / val_y * 100\n",
    "    \n",
    "if flag_list:\n",
    "    for i in range(val_y.shape[0]):\n",
    "        print(\"True : {:06.2f}, {:06.2f}  |  Prediction : {:06.2f}, {:06.2f}  |  Error : {:07.2f}%, {:07.2f}%\".\n",
    "              format(*val_y[i, :], *val_pred[i, :], *err_perc[i, :]))\n",
    "print(\"\\nThe mean of the percentage error is: {:.2f}%\".format(np.mean(err_perc)))"
   ]
  },
  {
   "cell_type": "code",
   "execution_count": 108,
   "metadata": {},
   "outputs": [
    {
     "name": "stdout",
     "output_type": "stream",
     "text": [
      "\n",
      "The mean of the percentage error is: 29.56%\n"
     ]
    }
   ],
   "source": [
    "flag_list = False\n",
    "testing = False\n",
    "\n",
    "if testing:\n",
    "    model.eval()\n",
    "    test_x = Variable(torch.from_numpy(X_test.astype('float32')))\n",
    "    test_y = Variable(torch.from_numpy(Y_test.astype('float32')))\n",
    "\n",
    "    test_pred = model(test_x)\n",
    "    \n",
    "    test_y = reverse_range_norm(test_y.detach().numpy(), y_min, y_max)\n",
    "    test_pred = reverse_range_norm(test_pred.detach().numpy(), y_min, y_max)\n",
    "\n",
    "    err_perc = abs(test_y - test_pred) / test_y * 100\n",
    "\n",
    "    if flag_list:\n",
    "        for i in range(test_y.shape[0]):\n",
    "            print(\"True : {:.4f}, {:.4f}  |  Prediction : {:.4f}, {:.4f}  |  Error : {:07.2f}%, {:07.2f}%\".\n",
    "                  format(*test_y[i, :], *test_pred[i, :], *err_perc[i, :]))\n",
    "    print(\"\\nThe mean of the percentage error is: {:.2f}%\".format(np.mean(err_perc)))"
   ]
  },
  {
   "cell_type": "code",
   "execution_count": 67,
   "metadata": {
    "scrolled": true
   },
   "outputs": [
    {
     "name": "stdout",
     "output_type": "stream",
     "text": [
      "W_1 Parameter containing:\n",
      "tensor([[ 1.6076e-01,  2.9201e-02, -2.0080e-02,  1.0035e-01, -7.7736e-02,\n",
      "         -1.5217e-01, -1.3130e-01,  7.3196e-01],\n",
      "        [-1.6701e-01, -4.7064e-02, -1.1387e-01,  7.3239e-01, -5.9730e-02,\n",
      "          4.3083e-02, -1.4083e-01,  9.2516e-02],\n",
      "        [-1.1790e-01, -6.4568e-03,  2.3158e-01, -7.8901e-01, -5.4922e-02,\n",
      "         -1.3657e-02, -8.8686e-02, -1.0021e-01],\n",
      "        [-2.5807e-01,  7.4009e-02,  1.3900e-01,  1.0941e-01,  2.4172e-01,\n",
      "         -4.1777e-01,  1.8446e-01, -1.4877e-01],\n",
      "        [ 3.2722e-01,  5.3174e-02,  4.7396e-02,  4.2710e-02,  4.2612e-02,\n",
      "          3.2857e-02,  1.9792e-01, -4.5342e-01],\n",
      "        [-1.7791e-01,  3.4020e-01,  1.6824e-01,  1.9266e-02,  1.4444e-01,\n",
      "         -5.9190e-01, -8.0954e-02, -5.0150e-02],\n",
      "        [ 1.5275e-02,  3.4952e-02,  2.2964e-01, -4.9752e-01,  2.9095e-01,\n",
      "         -1.4830e-01,  8.1434e-02, -2.3035e-01],\n",
      "        [-3.4002e-02, -7.6271e-02, -9.3341e-02,  2.8778e-01,  1.4320e-01,\n",
      "          4.8959e-02,  1.4918e-01,  2.7920e-02],\n",
      "        [-6.8547e-02, -6.0272e-02, -1.8389e-02,  4.7208e-01,  1.2660e-01,\n",
      "          6.3109e-02, -1.0050e-01, -1.9526e-03],\n",
      "        [-1.0052e-01, -2.7388e-01,  4.5767e-02,  1.1093e-02, -6.6829e-03,\n",
      "         -7.7683e-04,  3.3938e-01,  3.7679e-01],\n",
      "        [ 2.5451e-01,  3.0551e-01, -2.0733e-01, -2.1575e-01,  1.1911e-01,\n",
      "          3.0987e-02, -6.3932e-02,  7.0600e-03],\n",
      "        [-1.2290e-01, -1.4528e-02,  4.1882e-01, -4.8911e-01, -3.5807e-01,\n",
      "         -9.1150e-02,  4.3867e-01, -2.1507e-01],\n",
      "        [-1.9836e-01,  4.1120e-02,  4.4320e-01, -9.9533e-01,  6.8834e-02,\n",
      "          1.2084e-01, -1.1096e-01, -2.3468e-01],\n",
      "        [-7.8139e-03, -2.2433e-02, -1.9934e-03, -3.3521e-03, -7.6368e-03,\n",
      "         -3.9807e-03, -5.8920e-03, -1.2827e-02],\n",
      "        [-3.0861e-02, -5.4901e-02,  1.5410e-03, -3.3556e-03, -2.2021e-02,\n",
      "         -6.0098e-02,  1.5229e-02,  5.2135e-01],\n",
      "        [ 1.6284e-02, -4.7964e-02,  4.2445e-02,  4.9613e-02,  1.9438e-01,\n",
      "         -1.0859e-01,  5.5909e-03, -6.1124e-01],\n",
      "        [-2.5988e-01, -4.4777e-02, -7.4497e-02,  1.6616e-01, -1.5371e-01,\n",
      "          5.2650e-02, -8.7246e-01,  3.8592e-01],\n",
      "        [-1.2246e-01,  2.6299e-01,  5.9207e-03, -2.2661e-02,  2.5230e-01,\n",
      "         -1.6522e-01, -2.9733e-01,  1.5547e-01],\n",
      "        [-5.0409e-01,  4.3079e-01, -6.2372e-03, -3.2877e-02, -3.1332e-01,\n",
      "         -3.6813e-01,  2.1111e-01, -6.1192e-02],\n",
      "        [ 1.8752e-01, -1.9441e-01, -1.0545e-01, -2.5582e-01,  2.6893e-01,\n",
      "         -2.2051e-01,  1.3108e-01, -4.5187e-01],\n",
      "        [ 1.9851e-01, -1.3312e-01,  1.1450e-02, -8.4074e-02, -2.9730e-01,\n",
      "          1.1814e-01,  3.6089e-01,  4.4709e-01],\n",
      "        [ 1.4927e-01, -1.8369e-01,  9.3871e-02, -7.7213e-02,  2.7941e-01,\n",
      "          6.9180e-02,  3.5977e-01,  2.5402e-02],\n",
      "        [-1.5843e-02,  1.0347e-02, -3.0821e-02, -3.0056e-02, -2.3415e-02,\n",
      "          9.1720e-03, -3.7783e-02,  1.6073e-02],\n",
      "        [ 5.6835e-02,  3.0790e-02,  3.7037e-02, -2.7577e-03, -4.4812e-02,\n",
      "         -4.9210e-02, -1.0952e-02,  4.1198e-01],\n",
      "        [-3.2447e-03, -1.8053e-03, -2.7053e-06, -1.2986e-06,  5.3393e-06,\n",
      "          3.8960e-05,  8.4033e-07, -3.0033e-06],\n",
      "        [ 7.5097e-02, -1.9527e-01, -6.3655e-02, -1.4135e-01,  9.4798e-02,\n",
      "          2.7160e-01, -1.8380e-01,  1.0894e-01],\n",
      "        [-3.5817e-01,  1.4687e-01, -1.7328e-01,  2.3025e-01,  9.9949e-02,\n",
      "         -1.8167e-02,  1.9443e-01, -6.9547e-02],\n",
      "        [-2.6282e-01, -4.3130e-02,  2.4431e-01, -3.5999e-01, -1.0466e-01,\n",
      "         -1.3779e-01,  4.1601e-01,  4.8364e-01],\n",
      "        [-4.6552e-02, -6.8243e-01, -1.0913e-01, -2.0492e-01,  1.9275e-01,\n",
      "          4.8752e-01, -1.6137e-01,  6.2325e-02],\n",
      "        [ 2.0882e-01, -1.8601e-02,  7.7981e-02, -8.7003e-01, -7.0018e-02,\n",
      "         -1.4878e-02,  4.3325e-02,  3.4533e-01],\n",
      "        [ 2.1314e-01, -6.5666e-02, -4.7116e-02,  1.7504e-01, -1.2323e-02,\n",
      "         -3.9995e-01, -7.2999e-02, -5.4767e-02],\n",
      "        [ 1.2456e-01,  1.9577e-02, -8.1831e-02,  6.1791e-01, -6.6827e-02,\n",
      "         -1.9011e-02, -3.9218e-02, -8.7371e-02]], requires_grad=True)\n",
      "b_1 Parameter containing:\n",
      "tensor([-0.1666, -0.2516,  0.2948, -0.0094, -0.0895, -0.0466, -0.0258, -0.1975,\n",
      "        -0.2578, -0.1253, -0.1580,  0.0882,  0.1867, -0.0078, -0.2388,  0.1138,\n",
      "         0.1283, -0.0628,  0.0446,  0.0788, -0.2199, -0.3105, -0.0157, -0.1139,\n",
      "        -0.0104, -0.0772, -0.1441, -0.1802, -0.0280,  0.0599,  0.0789, -0.2831],\n",
      "       requires_grad=True)\n",
      "W_2 Parameter containing:\n",
      "tensor([[-0.0265, -0.1181, -0.4273,  ..., -0.0480,  0.0697, -0.2611],\n",
      "        [ 0.0304, -0.2353, -0.6931,  ..., -0.3642,  0.0909, -0.0366],\n",
      "        [ 0.4260, -0.0215,  0.0883,  ..., -0.4532,  0.0835,  0.0596],\n",
      "        ...,\n",
      "        [-0.1059, -0.0074,  0.2623,  ...,  0.0648, -0.5021,  0.2098],\n",
      "        [ 0.1152,  0.0600,  0.0537,  ..., -0.2319,  0.2228,  0.0703],\n",
      "        [-0.0196, -0.2252, -0.4633,  ..., -0.0964,  0.1383, -0.1949]],\n",
      "       requires_grad=True)\n",
      "b_2 Parameter containing:\n",
      "tensor([ 0.0792,  0.1322, -0.1572, -0.0610,  0.0229, -0.1052,  0.0686,  0.1204,\n",
      "        -0.0068, -0.0932, -0.0247, -0.1389,  0.0837,  0.0549,  0.0937, -0.1174,\n",
      "        -0.0160,  0.0788,  0.1227,  0.0607,  0.0354,  0.0372,  0.0714, -0.0432,\n",
      "         0.0606,  0.0603, -0.0331,  0.0421, -0.0786,  0.0169, -0.0766,  0.0854],\n",
      "       requires_grad=True)\n",
      "W_4 Parameter containing:\n",
      "tensor([[ 1.4597e-01, -2.3594e-02, -3.7688e-01,  4.5127e-01,  8.8455e-02,\n",
      "         -2.3595e-01,  7.0464e-02, -1.0606e-01, -3.1400e-07,  6.4983e-02,\n",
      "          3.1372e-01, -4.0203e-01,  5.0029e-01,  9.3538e-02, -9.1973e-02,\n",
      "          5.0607e-01,  2.1162e-02,  8.6775e-01, -2.8374e-01, -1.7037e-01,\n",
      "         -4.4227e-01, -2.2297e-01,  1.6123e-01,  5.3253e-01,  3.4964e-02,\n",
      "          3.5119e-01,  4.3552e-01,  2.4026e-01, -3.8911e-01, -3.6767e-01,\n",
      "         -1.9147e-01,  1.5120e-01],\n",
      "        [ 2.3194e-01,  5.0974e-01, -5.4529e-01, -1.7415e-01, -2.7691e-01,\n",
      "          6.7690e-01, -3.9804e-01,  4.4935e-01,  7.1694e-06, -2.8989e-01,\n",
      "          4.5393e-02, -1.9041e-01,  3.5519e-01, -4.6527e-01,  4.8217e-01,\n",
      "         -9.7805e-02, -4.4706e-01, -1.3403e-01,  7.2348e-01, -3.3430e-01,\n",
      "          1.2936e-01, -5.3495e-01,  2.4671e-01,  1.5484e-02, -3.2021e-01,\n",
      "         -1.3894e-01, -9.3554e-02,  1.8583e-01, -2.1155e-01, -1.6800e-01,\n",
      "         -2.6769e-01,  4.2810e-01]], requires_grad=True)\n",
      "b_4 Parameter containing:\n",
      "tensor([0.3821, 0.3642], requires_grad=True)\n"
     ]
    }
   ],
   "source": [
    "#for name, param in model.named_parameters():\n",
    "#    print(name, param)"
   ]
  }
 ],
 "metadata": {
  "colab": {
   "collapsed_sections": [],
   "name": "MLP.ipynb",
   "provenance": []
  },
  "kernelspec": {
   "display_name": "Python 3",
   "language": "python",
   "name": "python3"
  },
  "language_info": {
   "codemirror_mode": {
    "name": "ipython",
    "version": 3
   },
   "file_extension": ".py",
   "mimetype": "text/x-python",
   "name": "python",
   "nbconvert_exporter": "python",
   "pygments_lexer": "ipython3",
   "version": "3.7.7"
  }
 },
 "nbformat": 4,
 "nbformat_minor": 1
}
