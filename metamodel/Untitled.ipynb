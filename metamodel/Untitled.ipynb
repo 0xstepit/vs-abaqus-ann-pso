{
 "cells": [
  {
   "cell_type": "code",
   "execution_count": 1,
   "metadata": {},
   "outputs": [],
   "source": [
    "import torch\n",
    "a = torch.arange(9, dtype= torch.float) - 4\n",
    "b = a.reshape((3, 3))"
   ]
  },
  {
   "cell_type": "code",
   "execution_count": 2,
   "metadata": {},
   "outputs": [
    {
     "data": {
      "text/plain": [
       "tensor([-4., -3., -2., -1.,  0.,  1.,  2.,  3.,  4.])"
      ]
     },
     "execution_count": 2,
     "metadata": {},
     "output_type": "execute_result"
    }
   ],
   "source": [
    "a"
   ]
  },
  {
   "cell_type": "code",
   "execution_count": 5,
   "metadata": {},
   "outputs": [
    {
     "data": {
      "text/plain": [
       "tensor(7.7460)"
      ]
     },
     "execution_count": 5,
     "metadata": {},
     "output_type": "execute_result"
    }
   ],
   "source": [
    "a.norm(2)"
   ]
  },
  {
   "cell_type": "code",
   "execution_count": 6,
   "metadata": {},
   "outputs": [
    {
     "data": {
      "text/plain": [
       "tensor(20.)"
      ]
     },
     "execution_count": 6,
     "metadata": {},
     "output_type": "execute_result"
    }
   ],
   "source": [
    "a.norm(1)"
   ]
  },
  {
   "cell_type": "code",
   "execution_count": 8,
   "metadata": {},
   "outputs": [],
   "source": [
    "import numpy as np\n",
    "aa = a.numpy()"
   ]
  },
  {
   "cell_type": "code",
   "execution_count": 10,
   "metadata": {},
   "outputs": [
    {
     "data": {
      "text/plain": [
       "7.745966692414834"
      ]
     },
     "execution_count": 10,
     "metadata": {},
     "output_type": "execute_result"
    }
   ],
   "source": [
    "norma2 = np.sum(aa**2)**0.5\n",
    "norma2"
   ]
  },
  {
   "cell_type": "code",
   "execution_count": 15,
   "metadata": {},
   "outputs": [
    {
     "data": {
      "text/plain": [
       "20.0"
      ]
     },
     "execution_count": 15,
     "metadata": {},
     "output_type": "execute_result"
    }
   ],
   "source": [
    "norma1 = np.sum(np.abs(aa))\n",
    "norma1"
   ]
  },
  {
   "cell_type": "code",
   "execution_count": 25,
   "metadata": {},
   "outputs": [],
   "source": [
    "from torch.autograd import Variable\n",
    "l2_reg = Variable(torch.FloatTensor(1), requires_grad=True)\n",
    "l2_reg = l2_reg + a.norm(2)"
   ]
  },
  {
   "cell_type": "code",
   "execution_count": 26,
   "metadata": {},
   "outputs": [
    {
     "data": {
      "text/plain": [
       "array([7.745967], dtype=float32)"
      ]
     },
     "execution_count": 26,
     "metadata": {},
     "output_type": "execute_result"
    }
   ],
   "source": [
    "l2_reg.detach().numpy()"
   ]
  },
  {
   "cell_type": "code",
   "execution_count": 28,
   "metadata": {},
   "outputs": [
    {
     "data": {
      "text/plain": [
       "array([7.745967, 7.745967, 7.745967, 7.745967, 7.745967, 7.745967,\n",
       "       7.745967, 7.745967, 7.745967, 7.745967, 7.745967, 7.745967,\n",
       "       7.745967, 7.745967, 7.745967, 7.745967, 7.745967, 7.745967,\n",
       "       7.745967, 7.745967, 7.745967, 7.745967, 7.745967, 7.745967,\n",
       "       7.745967, 7.745967, 7.745967, 7.745967, 7.745967, 7.745967,\n",
       "       7.745967, 7.745967, 7.745967, 7.745967, 7.745967, 7.745967,\n",
       "       7.745967, 7.745967, 7.745967, 7.745967, 7.745967, 7.745967,\n",
       "       7.745967, 7.745967, 7.745967, 7.745967, 7.745967, 7.745967,\n",
       "       7.745967, 7.745967, 7.745967, 7.745967, 7.745967, 7.745967,\n",
       "       7.745967, 7.745967, 7.745967, 7.745967, 7.745967, 7.745967,\n",
       "       7.745967, 7.745967, 7.745967, 7.745967, 7.745967, 7.745967,\n",
       "       7.745967, 7.745967, 7.745967, 7.745967, 7.745967, 7.745967,\n",
       "       7.745967, 7.745967, 7.745967, 7.745967, 7.745967, 7.745967,\n",
       "       7.745967, 7.745967, 7.745967, 7.745967, 7.745967, 7.745967,\n",
       "       7.745967, 7.745967, 7.760085, 7.745967, 7.745967, 7.745967,\n",
       "       7.915797, 7.745967, 7.745967, 7.745967, 7.745967, 7.745967,\n",
       "       7.745967, 7.745967, 7.915797, 7.745967], dtype=float32)"
      ]
     },
     "execution_count": 28,
     "metadata": {},
     "output_type": "execute_result"
    }
   ],
   "source": [
    "l1_reg = Variable(torch.FloatTensor(100), requires_grad=True)\n",
    "l1_reg = l1_reg + a.norm(2)\n",
    "l1_reg.detach().numpy()"
   ]
  },
  {
   "cell_type": "code",
   "execution_count": null,
   "metadata": {},
   "outputs": [],
   "source": []
  }
 ],
 "metadata": {
  "kernelspec": {
   "display_name": "Python 3",
   "language": "python",
   "name": "python3"
  },
  "language_info": {
   "codemirror_mode": {
    "name": "ipython",
    "version": 3
   },
   "file_extension": ".py",
   "mimetype": "text/x-python",
   "name": "python",
   "nbconvert_exporter": "python",
   "pygments_lexer": "ipython3",
   "version": "3.7.7"
  }
 },
 "nbformat": 4,
 "nbformat_minor": 4
}
