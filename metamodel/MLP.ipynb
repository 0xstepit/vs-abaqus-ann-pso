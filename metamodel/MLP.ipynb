{
 "cells": [
  {
   "cell_type": "markdown",
   "metadata": {
    "colab_type": "text",
    "id": "GLQLStKwyzgs"
   },
   "source": [
    "# **METAMODELING WITH ARTIFICIAL NEURAL NETWORK**\n",
    "\n",
    "In this notebook, we will use the results of Abaqus analyses in order to build an Artificial Neural Network (ANN) of the Finite Element (FE) analysis solver."
   ]
  },
  {
   "cell_type": "code",
   "execution_count": 1,
   "metadata": {
    "colab": {},
    "colab_type": "code",
    "id": "1HiM0koqnW-b"
   },
   "outputs": [],
   "source": [
    "# Install latest Tensorflow build\n",
    "#!pip install -q tf-nightly-2.0-preview\n",
    "from tensorflow import summary\n",
    "%load_ext tensorboard"
   ]
  },
  {
   "cell_type": "code",
   "execution_count": 2,
   "metadata": {
    "colab": {},
    "colab_type": "code",
    "id": "Orwif6dIvF4t"
   },
   "outputs": [],
   "source": [
    "import matplotlib.pyplot as plt\n",
    "import pandas as pd\n",
    "import numpy as np\n",
    "import random\n",
    "import time\n",
    "import sys\n",
    "import os"
   ]
  },
  {
   "cell_type": "code",
   "execution_count": 3,
   "metadata": {
    "colab": {
     "base_uri": "https://localhost:8080/",
     "height": 51
    },
    "colab_type": "code",
    "id": "Bwj567NSvHv1",
    "outputId": "e91823c3-87c5-47fe-cca9-cd505741e7ff"
   },
   "outputs": [
    {
     "name": "stdout",
     "output_type": "stream",
     "text": [
      "Requirement already satisfied: pyrenn in /opt/anaconda3/lib/python3.7/site-packages (0.1)\r\n",
      "Requirement already satisfied: numpy in /opt/anaconda3/lib/python3.7/site-packages (from pyrenn) (1.18.1)\r\n"
     ]
    }
   ],
   "source": [
    "# Scikit-learn\n",
    "from sklearn.model_selection import train_test_split\n",
    "\n",
    "# PyTorch\n",
    "import torch.utils.data as Data\n",
    "from torch.autograd import Variable\n",
    "from torch.nn.parameter import Parameter\n",
    "import torch.nn as nn\n",
    "import torch.nn.functional as F\n",
    "import torch.optim as optim\n",
    "import torch.nn.init as init\n",
    "from torch.utils.tensorboard import SummaryWriter\n",
    "\n",
    "# Pyrenn\n",
    "! pip install pyrenn\n",
    "import pyrenn as prn\n",
    "\n",
    "# Matplotlib spec\n",
    "from matplotlib import rc\n",
    "rc('font',**{'family':'serif','serif':['Palatino']}) # Palatino font\n",
    "plt.rcParams['pdf.fonttype'] = 42"
   ]
  },
  {
   "cell_type": "code",
   "execution_count": 4,
   "metadata": {
    "colab": {
     "base_uri": "https://localhost:8080/",
     "height": 34
    },
    "colab_type": "code",
    "id": "jqtrSiFqdBTe",
    "outputId": "1cd691d5-fc75-4420-b6e5-d331a6ee9c38"
   },
   "outputs": [
    {
     "ename": "NameError",
     "evalue": "name 'torch' is not defined",
     "output_type": "error",
     "traceback": [
      "\u001b[0;31m---------------------------------------------------------------------------\u001b[0m",
      "\u001b[0;31mNameError\u001b[0m                                 Traceback (most recent call last)",
      "\u001b[0;32m<ipython-input-4-ec9450a707b2>\u001b[0m in \u001b[0;36m<module>\u001b[0;34m\u001b[0m\n\u001b[0;32m----> 1\u001b[0;31m \u001b[0mtorch\u001b[0m\u001b[0;34m.\u001b[0m\u001b[0m__version__\u001b[0m\u001b[0;34m\u001b[0m\u001b[0;34m\u001b[0m\u001b[0m\n\u001b[0m",
      "\u001b[0;31mNameError\u001b[0m: name 'torch' is not defined"
     ]
    }
   ],
   "source": [
    "torch.__version__"
   ]
  },
  {
   "cell_type": "markdown",
   "metadata": {
    "colab_type": "text",
    "id": "xMkgB8U2dS1A"
   },
   "source": [
    "When this notebook has been generated the result of the previous line of code is: _'1.5.1+cu101'_"
   ]
  },
  {
   "cell_type": "markdown",
   "metadata": {
    "colab_type": "text",
    "id": "JZDSnO7jyzg8"
   },
   "source": [
    "We fix the seed in order to obtain reproducible results.\n",
    "\n",
    "__N.B.__ : Reproducible results are obtained every time the runtime is restarded and runned. If you run multiple time the same cell the results will not be reporducible."
   ]
  },
  {
   "cell_type": "code",
   "execution_count": null,
   "metadata": {
    "colab": {},
    "colab_type": "code",
    "id": "SytMvTAE22lL"
   },
   "outputs": [],
   "source": [
    "seed = 0\n",
    "np.random.seed(seed=seed)\n",
    "torch.manual_seed(seed=seed)\n",
    "random.seed(seed)\n",
    "torch.backends.cudnn.deterministic = True\n",
    "torch.cuda.manual_seed(seed=seed)"
   ]
  },
  {
   "cell_type": "markdown",
   "metadata": {
    "colab_type": "text",
    "id": "bxRgA_ioyzhA"
   },
   "source": [
    "## **Data preprocessing**\n",
    "\n",
    "We start by importing some information about the model used to generate the dataset."
   ]
  },
  {
   "cell_type": "code",
   "execution_count": 1,
   "metadata": {
    "colab": {
     "base_uri": "https://localhost:8080/",
     "height": 80
    },
    "colab_type": "code",
    "id": "0FZ6R8aeyzhB",
    "outputId": "e6f59f12-68cb-4eb0-dd90-990424b0c8c0"
   },
   "outputs": [
    {
     "ename": "NameError",
     "evalue": "name 'sys' is not defined",
     "output_type": "error",
     "traceback": [
      "\u001b[0;31m---------------------------------------------------------------------------\u001b[0m",
      "\u001b[0;31mNameError\u001b[0m                                 Traceback (most recent call last)",
      "\u001b[0;32m<ipython-input-1-c94a6fed4cf2>\u001b[0m in \u001b[0;36m<module>\u001b[0;34m\u001b[0m\n\u001b[1;32m      6\u001b[0m \u001b[0;34m\u001b[0m\u001b[0m\n\u001b[1;32m      7\u001b[0m \u001b[0;31m# Check if notebook running in Colab\u001b[0m\u001b[0;34m\u001b[0m\u001b[0;34m\u001b[0m\u001b[0;34m\u001b[0m\u001b[0m\n\u001b[0;32m----> 8\u001b[0;31m \u001b[0mis_colab\u001b[0m \u001b[0;34m=\u001b[0m \u001b[0;34m'google.colab'\u001b[0m \u001b[0;32min\u001b[0m \u001b[0msys\u001b[0m\u001b[0;34m.\u001b[0m\u001b[0mmodules\u001b[0m\u001b[0;34m\u001b[0m\u001b[0;34m\u001b[0m\u001b[0m\n\u001b[0m\u001b[1;32m      9\u001b[0m \u001b[0;34m\u001b[0m\u001b[0m\n\u001b[1;32m     10\u001b[0m \u001b[0;31m# Model info folder\u001b[0m\u001b[0;34m\u001b[0m\u001b[0;34m\u001b[0m\u001b[0;34m\u001b[0m\u001b[0m\n",
      "\u001b[0;31mNameError\u001b[0m: name 'sys' is not defined"
     ]
    }
   ],
   "source": [
    "# Modify parameter to choose the output folder to consider\n",
    "load_case = 'axial'\n",
    "stacking_sequence = 'symmetric_balanced'\n",
    "data_set = '2x'\n",
    "fiber_path = 'harmlin'\n",
    "\n",
    "# Check if notebook running in Colab\n",
    "is_colab = 'google.colab' in sys.modules\n",
    "\n",
    "# Model info folder\n",
    "if is_colab:\n",
    "    input_folder = './'\n",
    "else:\n",
    "    input_folder = load_case + '/' + stacking_sequence + '/' + data_set + '/' + fiber_path + '/'\n",
    "\n",
    "info = pd.read_csv(input_folder + 'model_info.csv', sep=\",\")\n",
    "info.index = ['Value']\n",
    "eff_plies = int(info['EffectivePlies'].values)\n",
    "train_smp = int(info['Train'].values)\n",
    "info.head()"
   ]
  },
  {
   "cell_type": "markdown",
   "metadata": {
    "colab_type": "text",
    "id": "EIBWzRwLyzhG"
   },
   "source": [
    "At this point we have to import the data set containing the input and output of the FE analysis. The data is stored in a dataframe in which the upper part is associated to the training set and the lower part to the test set. The precise number of upper row belonging to the train set is indicated in the info above."
   ]
  },
  {
   "cell_type": "code",
   "execution_count": 7,
   "metadata": {
    "colab": {
     "base_uri": "https://localhost:8080/",
     "height": 419
    },
    "colab_type": "code",
    "id": "niD2Q60oyzhG",
    "outputId": "6046f3fb-ed80-4099-aa94-7eb2dd87de49"
   },
   "outputs": [
    {
     "data": {
      "text/html": [
       "<div>\n",
       "<style scoped>\n",
       "    .dataframe tbody tr th:only-of-type {\n",
       "        vertical-align: middle;\n",
       "    }\n",
       "\n",
       "    .dataframe tbody tr th {\n",
       "        vertical-align: top;\n",
       "    }\n",
       "\n",
       "    .dataframe thead th {\n",
       "        text-align: right;\n",
       "    }\n",
       "</style>\n",
       "<table border=\"1\" class=\"dataframe\">\n",
       "  <thead>\n",
       "    <tr style=\"text-align: right;\">\n",
       "      <th></th>\n",
       "      <th>Amplitude1</th>\n",
       "      <th>PhaseShift1</th>\n",
       "      <th>Omega1</th>\n",
       "      <th>Beta1</th>\n",
       "      <th>Amplitude2</th>\n",
       "      <th>PhaseShift2</th>\n",
       "      <th>Omega2</th>\n",
       "      <th>Beta2</th>\n",
       "      <th>Buckling</th>\n",
       "      <th>Stiffness</th>\n",
       "    </tr>\n",
       "  </thead>\n",
       "  <tbody>\n",
       "    <tr>\n",
       "      <th>0</th>\n",
       "      <td>1.346</td>\n",
       "      <td>43.532</td>\n",
       "      <td>0.577</td>\n",
       "      <td>42.909</td>\n",
       "      <td>-8.553</td>\n",
       "      <td>-40.104</td>\n",
       "      <td>1.525</td>\n",
       "      <td>-6.376</td>\n",
       "      <td>292.386</td>\n",
       "      <td>298.618</td>\n",
       "    </tr>\n",
       "    <tr>\n",
       "      <th>1</th>\n",
       "      <td>-22.383</td>\n",
       "      <td>-71.063</td>\n",
       "      <td>1.114</td>\n",
       "      <td>27.844</td>\n",
       "      <td>29.049</td>\n",
       "      <td>-70.370</td>\n",
       "      <td>0.821</td>\n",
       "      <td>1.689</td>\n",
       "      <td>215.937</td>\n",
       "      <td>383.198</td>\n",
       "    </tr>\n",
       "    <tr>\n",
       "      <th>2</th>\n",
       "      <td>-35.555</td>\n",
       "      <td>52.964</td>\n",
       "      <td>0.195</td>\n",
       "      <td>-80.748</td>\n",
       "      <td>1.128</td>\n",
       "      <td>-32.291</td>\n",
       "      <td>0.035</td>\n",
       "      <td>26.998</td>\n",
       "      <td>304.865</td>\n",
       "      <td>192.210</td>\n",
       "    </tr>\n",
       "    <tr>\n",
       "      <th>3</th>\n",
       "      <td>-23.268</td>\n",
       "      <td>54.123</td>\n",
       "      <td>1.211</td>\n",
       "      <td>35.123</td>\n",
       "      <td>-48.020</td>\n",
       "      <td>42.979</td>\n",
       "      <td>1.229</td>\n",
       "      <td>53.272</td>\n",
       "      <td>243.675</td>\n",
       "      <td>105.103</td>\n",
       "    </tr>\n",
       "    <tr>\n",
       "      <th>4</th>\n",
       "      <td>-101.971</td>\n",
       "      <td>-77.838</td>\n",
       "      <td>1.118</td>\n",
       "      <td>78.264</td>\n",
       "      <td>7.348</td>\n",
       "      <td>21.548</td>\n",
       "      <td>1.688</td>\n",
       "      <td>11.832</td>\n",
       "      <td>232.324</td>\n",
       "      <td>273.162</td>\n",
       "    </tr>\n",
       "    <tr>\n",
       "      <th>...</th>\n",
       "      <td>...</td>\n",
       "      <td>...</td>\n",
       "      <td>...</td>\n",
       "      <td>...</td>\n",
       "      <td>...</td>\n",
       "      <td>...</td>\n",
       "      <td>...</td>\n",
       "      <td>...</td>\n",
       "      <td>...</td>\n",
       "      <td>...</td>\n",
       "    </tr>\n",
       "    <tr>\n",
       "      <th>145</th>\n",
       "      <td>29.920</td>\n",
       "      <td>41.062</td>\n",
       "      <td>1.695</td>\n",
       "      <td>-54.802</td>\n",
       "      <td>-125.334</td>\n",
       "      <td>-84.776</td>\n",
       "      <td>0.259</td>\n",
       "      <td>-2.603</td>\n",
       "      <td>272.834</td>\n",
       "      <td>254.537</td>\n",
       "    </tr>\n",
       "    <tr>\n",
       "      <th>146</th>\n",
       "      <td>35.540</td>\n",
       "      <td>-32.174</td>\n",
       "      <td>1.291</td>\n",
       "      <td>49.134</td>\n",
       "      <td>113.044</td>\n",
       "      <td>77.722</td>\n",
       "      <td>0.468</td>\n",
       "      <td>-30.086</td>\n",
       "      <td>213.910</td>\n",
       "      <td>78.865</td>\n",
       "    </tr>\n",
       "    <tr>\n",
       "      <th>147</th>\n",
       "      <td>-96.888</td>\n",
       "      <td>2.429</td>\n",
       "      <td>0.270</td>\n",
       "      <td>-15.823</td>\n",
       "      <td>-33.970</td>\n",
       "      <td>16.777</td>\n",
       "      <td>1.985</td>\n",
       "      <td>61.143</td>\n",
       "      <td>378.629</td>\n",
       "      <td>202.524</td>\n",
       "    </tr>\n",
       "    <tr>\n",
       "      <th>148</th>\n",
       "      <td>55.056</td>\n",
       "      <td>53.195</td>\n",
       "      <td>0.386</td>\n",
       "      <td>-42.375</td>\n",
       "      <td>44.873</td>\n",
       "      <td>-58.405</td>\n",
       "      <td>0.411</td>\n",
       "      <td>-24.463</td>\n",
       "      <td>247.500</td>\n",
       "      <td>231.079</td>\n",
       "    </tr>\n",
       "    <tr>\n",
       "      <th>149</th>\n",
       "      <td>14.244</td>\n",
       "      <td>-75.391</td>\n",
       "      <td>1.182</td>\n",
       "      <td>6.508</td>\n",
       "      <td>-9.442</td>\n",
       "      <td>64.808</td>\n",
       "      <td>1.827</td>\n",
       "      <td>32.076</td>\n",
       "      <td>243.601</td>\n",
       "      <td>341.329</td>\n",
       "    </tr>\n",
       "  </tbody>\n",
       "</table>\n",
       "<p>150 rows × 10 columns</p>\n",
       "</div>"
      ],
      "text/plain": [
       "     Amplitude1  PhaseShift1  Omega1  ...   Beta2  Buckling  Stiffness\n",
       "0         1.346       43.532   0.577  ...  -6.376   292.386    298.618\n",
       "1       -22.383      -71.063   1.114  ...   1.689   215.937    383.198\n",
       "2       -35.555       52.964   0.195  ...  26.998   304.865    192.210\n",
       "3       -23.268       54.123   1.211  ...  53.272   243.675    105.103\n",
       "4      -101.971      -77.838   1.118  ...  11.832   232.324    273.162\n",
       "..          ...          ...     ...  ...     ...       ...        ...\n",
       "145      29.920       41.062   1.695  ...  -2.603   272.834    254.537\n",
       "146      35.540      -32.174   1.291  ... -30.086   213.910     78.865\n",
       "147     -96.888        2.429   0.270  ...  61.143   378.629    202.524\n",
       "148      55.056       53.195   0.386  ... -24.463   247.500    231.079\n",
       "149      14.244      -75.391   1.182  ...  32.076   243.601    341.329\n",
       "\n",
       "[150 rows x 10 columns]"
      ]
     },
     "execution_count": 7,
     "metadata": {
      "tags": []
     },
     "output_type": "execute_result"
    }
   ],
   "source": [
    "# Model info folder\n",
    "if is_colab:\n",
    "    data_folder = './'\n",
    "else:\n",
    "    data_folder = '../dataset/' + load_case + '/' + stacking_sequence + '/'\\\n",
    "                    + data_set + '/' + fiber_path + '/'\n",
    "\n",
    "data_orig = pd.read_csv(data_folder + '/data.csv', sep=',')\n",
    "data = data_orig.drop(columns='Stiffness')\n",
    "data_orig"
   ]
  },
  {
   "cell_type": "markdown",
   "metadata": {
    "colab_type": "text",
    "id": "DqfVPfr1yzhL"
   },
   "source": [
    "After importing the data we change the sign of the features associated to negeative values of the buckling load, and the sign of the buckling loads. In this way all the critical values have the same sign."
   ]
  },
  {
   "cell_type": "code",
   "execution_count": 8,
   "metadata": {
    "colab": {},
    "colab_type": "code",
    "id": "IzaIvVw7yzhM"
   },
   "outputs": [],
   "source": [
    "# indexes = data['Buckling'].values < 0\n",
    "# data[indexes] = -data[indexes]\n",
    "# data"
   ]
  },
  {
   "cell_type": "markdown",
   "metadata": {
    "colab_type": "text",
    "id": "S9U4RPrnyzhP"
   },
   "source": [
    "The most important step to perform before training our model is the normalization of the variables. Different strategies are possible at this end, among which 2 are the most used:\n",
    "\n",
    "* Range normalization: converts all the values to the range $[0, 1]$\n",
    "\n",
    "* Standard score normalization: forces the variables to have $0$ mean and $1$ standard deviation\n",
    "\n",
    "We will try both to see the effect on the model performance."
   ]
  },
  {
   "cell_type": "code",
   "execution_count": 9,
   "metadata": {
    "colab": {},
    "colab_type": "code",
    "id": "-ZVjkHziyzhQ"
   },
   "outputs": [],
   "source": [
    "def range_norm(x):\n",
    "    \"\"\"normalization in range [0, 1]\"\"\"\n",
    "    x_min = np.min(x, axis=0)\n",
    "    x_max = np.max(x, axis=0)\n",
    "    x_norm = (x - x_min) / (x_max - x_min)\n",
    "\n",
    "    return x_norm\n",
    "\n",
    "def std_norm(x):\n",
    "    \"\"\"normalization with zero mean and unitary standard deviation\"\"\"\n",
    "    m = np.mean(x, axis=0)\n",
    "    s = np.std(x, axis=0)\n",
    "    x_norm = (x - m) / s\n",
    "    \n",
    "    return x_norm"
   ]
  },
  {
   "cell_type": "code",
   "execution_count": 10,
   "metadata": {
    "colab": {
     "base_uri": "https://localhost:8080/",
     "height": 297
    },
    "colab_type": "code",
    "id": "ORbqtnh-yzhR",
    "outputId": "d18315cf-cbc9-40f5-f987-26f6485bba5b"
   },
   "outputs": [
    {
     "data": {
      "text/html": [
       "<div>\n",
       "<style scoped>\n",
       "    .dataframe tbody tr th:only-of-type {\n",
       "        vertical-align: middle;\n",
       "    }\n",
       "\n",
       "    .dataframe tbody tr th {\n",
       "        vertical-align: top;\n",
       "    }\n",
       "\n",
       "    .dataframe thead th {\n",
       "        text-align: right;\n",
       "    }\n",
       "</style>\n",
       "<table border=\"1\" class=\"dataframe\">\n",
       "  <thead>\n",
       "    <tr style=\"text-align: right;\">\n",
       "      <th></th>\n",
       "      <th>Amplitude1</th>\n",
       "      <th>PhaseShift1</th>\n",
       "      <th>Omega1</th>\n",
       "      <th>Beta1</th>\n",
       "      <th>Amplitude2</th>\n",
       "      <th>PhaseShift2</th>\n",
       "      <th>Omega2</th>\n",
       "      <th>Beta2</th>\n",
       "      <th>Buckling</th>\n",
       "      <th>Stiffness</th>\n",
       "    </tr>\n",
       "  </thead>\n",
       "  <tbody>\n",
       "    <tr>\n",
       "      <th>count</th>\n",
       "      <td>1.500000e+02</td>\n",
       "      <td>150.000000</td>\n",
       "      <td>1.500000e+02</td>\n",
       "      <td>1.500000e+02</td>\n",
       "      <td>1.500000e+02</td>\n",
       "      <td>1.500000e+02</td>\n",
       "      <td>1.500000e+02</td>\n",
       "      <td>1.500000e+02</td>\n",
       "      <td>1.500000e+02</td>\n",
       "      <td>1.500000e+02</td>\n",
       "    </tr>\n",
       "    <tr>\n",
       "      <th>mean</th>\n",
       "      <td>2.257453e-17</td>\n",
       "      <td>0.000000</td>\n",
       "      <td>4.921989e-16</td>\n",
       "      <td>6.013708e-17</td>\n",
       "      <td>1.221245e-17</td>\n",
       "      <td>-4.440892e-17</td>\n",
       "      <td>-8.585725e-17</td>\n",
       "      <td>1.776357e-16</td>\n",
       "      <td>6.467049e-17</td>\n",
       "      <td>-1.998401e-16</td>\n",
       "    </tr>\n",
       "    <tr>\n",
       "      <th>std</th>\n",
       "      <td>1.003350e+00</td>\n",
       "      <td>1.003350</td>\n",
       "      <td>1.003350e+00</td>\n",
       "      <td>1.003350e+00</td>\n",
       "      <td>1.003350e+00</td>\n",
       "      <td>1.003350e+00</td>\n",
       "      <td>1.003350e+00</td>\n",
       "      <td>1.003350e+00</td>\n",
       "      <td>1.003350e+00</td>\n",
       "      <td>1.003350e+00</td>\n",
       "    </tr>\n",
       "    <tr>\n",
       "      <th>min</th>\n",
       "      <td>-2.237077e+00</td>\n",
       "      <td>-1.715443</td>\n",
       "      <td>-1.709088e+00</td>\n",
       "      <td>-1.710976e+00</td>\n",
       "      <td>-2.571150e+00</td>\n",
       "      <td>-1.704126e+00</td>\n",
       "      <td>-1.725275e+00</td>\n",
       "      <td>-1.708281e+00</td>\n",
       "      <td>-2.208064e+00</td>\n",
       "      <td>-1.248515e+00</td>\n",
       "    </tr>\n",
       "    <tr>\n",
       "      <th>25%</th>\n",
       "      <td>-4.895682e-01</td>\n",
       "      <td>-0.861636</td>\n",
       "      <td>-8.611402e-01</td>\n",
       "      <td>-8.335842e-01</td>\n",
       "      <td>-5.083211e-01</td>\n",
       "      <td>-8.601580e-01</td>\n",
       "      <td>-8.650708e-01</td>\n",
       "      <td>-8.659319e-01</td>\n",
       "      <td>-7.041367e-01</td>\n",
       "      <td>-9.208806e-01</td>\n",
       "    </tr>\n",
       "    <tr>\n",
       "      <th>50%</th>\n",
       "      <td>4.664685e-02</td>\n",
       "      <td>-0.001340</td>\n",
       "      <td>-1.041492e-03</td>\n",
       "      <td>-7.252163e-04</td>\n",
       "      <td>-2.542373e-02</td>\n",
       "      <td>1.044490e-02</td>\n",
       "      <td>-4.866849e-03</td>\n",
       "      <td>3.595344e-03</td>\n",
       "      <td>-2.162520e-02</td>\n",
       "      <td>-1.514433e-02</td>\n",
       "    </tr>\n",
       "    <tr>\n",
       "      <th>75%</th>\n",
       "      <td>4.913795e-01</td>\n",
       "      <td>0.876075</td>\n",
       "      <td>8.738117e-01</td>\n",
       "      <td>8.441662e-01</td>\n",
       "      <td>5.452075e-01</td>\n",
       "      <td>8.502479e-01</td>\n",
       "      <td>8.726363e-01</td>\n",
       "      <td>8.474090e-01</td>\n",
       "      <td>6.105571e-01</td>\n",
       "      <td>7.140474e-01</td>\n",
       "    </tr>\n",
       "    <tr>\n",
       "      <th>max</th>\n",
       "      <td>2.361024e+00</td>\n",
       "      <td>1.723493</td>\n",
       "      <td>1.719156e+00</td>\n",
       "      <td>1.729762e+00</td>\n",
       "      <td>2.424907e+00</td>\n",
       "      <td>1.725804e+00</td>\n",
       "      <td>1.715541e+00</td>\n",
       "      <td>1.727091e+00</td>\n",
       "      <td>3.334353e+00</td>\n",
       "      <td>2.843263e+00</td>\n",
       "    </tr>\n",
       "  </tbody>\n",
       "</table>\n",
       "</div>"
      ],
      "text/plain": [
       "         Amplitude1  PhaseShift1  ...      Buckling     Stiffness\n",
       "count  1.500000e+02   150.000000  ...  1.500000e+02  1.500000e+02\n",
       "mean   2.257453e-17     0.000000  ...  6.467049e-17 -1.998401e-16\n",
       "std    1.003350e+00     1.003350  ...  1.003350e+00  1.003350e+00\n",
       "min   -2.237077e+00    -1.715443  ... -2.208064e+00 -1.248515e+00\n",
       "25%   -4.895682e-01    -0.861636  ... -7.041367e-01 -9.208806e-01\n",
       "50%    4.664685e-02    -0.001340  ... -2.162520e-02 -1.514433e-02\n",
       "75%    4.913795e-01     0.876075  ...  6.105571e-01  7.140474e-01\n",
       "max    2.361024e+00     1.723493  ...  3.334353e+00  2.843263e+00\n",
       "\n",
       "[8 rows x 10 columns]"
      ]
     },
     "execution_count": 10,
     "metadata": {
      "tags": []
     },
     "output_type": "execute_result"
    }
   ],
   "source": [
    "data_norm = std_norm(data_orig)\n",
    "data_norm.describe()"
   ]
  },
  {
   "cell_type": "markdown",
   "metadata": {
    "colab_type": "text",
    "id": "TL3mX63XyzhT"
   },
   "source": [
    "Now we can split the data into training and test set. The two sets have been generate independently during the DOE."
   ]
  },
  {
   "cell_type": "code",
   "execution_count": 11,
   "metadata": {
    "colab": {
     "base_uri": "https://localhost:8080/",
     "height": 153
    },
    "colab_type": "code",
    "id": "uy149NwNyzhT",
    "outputId": "224f9a13-bed4-4c54-f05e-a4eee762b812"
   },
   "outputs": [
    {
     "name": "stdout",
     "output_type": "stream",
     "text": [
      "- - - - -\n",
      "Problem info:\n",
      "- - - - -\n",
      "X_train : (120, 8)\n",
      "Y_train : (120, 2)\n",
      "X_test : (30, 8)\n",
      "Y_test : (30, 2)\n",
      "- - - - -\n"
     ]
    }
   ],
   "source": [
    "X = data_norm.drop(['Buckling', 'Stiffness'], axis=1).values\n",
    "Y = data_norm[['Buckling','Stiffness']].values\n",
    "\n",
    "# Train set\n",
    "_X_train = X[:train_smp, :]\n",
    "_Y_train = Y[:train_smp]\n",
    "\n",
    "# Test set\n",
    "X_test = X[train_smp:, :]\n",
    "Y_test = Y[train_smp:]\n",
    "\n",
    "print('- - - - -')\n",
    "print('Problem info:')\n",
    "print('- - - - -')\n",
    "print(\"X_train : {}\".format(_X_train.shape))\n",
    "print(\"Y_train : {}\".format(_Y_train.shape))\n",
    "print(\"X_test : {}\".format(X_test.shape))\n",
    "print(\"Y_test : {}\".format(Y_test.shape))\n",
    "print('- - - - -')"
   ]
  },
  {
   "cell_type": "markdown",
   "metadata": {
    "colab_type": "text",
    "id": "--wM6mi5sU75"
   },
   "source": [
    "We can now split the training set into train and val. In this way the validation set will be used to monitoring the overfitting/underfitting."
   ]
  },
  {
   "cell_type": "code",
   "execution_count": 12,
   "metadata": {
    "colab": {},
    "colab_type": "code",
    "id": "1kCLvQ1TsT9Y"
   },
   "outputs": [],
   "source": [
    "X_train, X_val, Y_train, Y_val = train_test_split(_X_train, _Y_train, test_size=0.5, random_state=seed)"
   ]
  },
  {
   "cell_type": "markdown",
   "metadata": {
    "colab_type": "text",
    "id": "6ngXLJgnf3zs"
   },
   "source": [
    "At this point we can generate the iterable data sets for Torch"
   ]
  },
  {
   "cell_type": "code",
   "execution_count": 13,
   "metadata": {
    "colab": {},
    "colab_type": "code",
    "id": "J3haXjC9f3UA"
   },
   "outputs": [],
   "source": [
    "# just for the training set\n",
    "batch = 16\n",
    "\n",
    "def _init_fn(worker_id):\n",
    "    np.random.seed(int(seed))\n",
    "    \n",
    "train_dataset = Data.TensorDataset(torch.from_numpy(X_train).float(), torch.from_numpy(Y_train).float())\n",
    "train_loader = Data.DataLoader(dataset=train_dataset, batch_size=batch, shuffle=True, num_workers=0, pin_memory=True, worker_init_fn=_init_fn)\n",
    "\n",
    "val_dataset = Data.TensorDataset(torch.from_numpy(X_val).float(), torch.from_numpy(Y_val).float())\n",
    "val_loader = Data.DataLoader(dataset=val_dataset, batch_size=X_val.shape[0], shuffle=True, num_workers=0, pin_memory=True, worker_init_fn=_init_fn)\n",
    "\n",
    "test_dataset = Data.TensorDataset(torch.from_numpy(X_test).float(), torch.from_numpy(Y_test).float())\n",
    "test_loader = Data.DataLoader(dataset=test_dataset, batch_size=X_test.shape[0], shuffle=True, num_workers=0, pin_memory=True, worker_init_fn=_init_fn)"
   ]
  },
  {
   "cell_type": "markdown",
   "metadata": {
    "colab_type": "text",
    "id": "-7O7AIIoyzhU"
   },
   "source": [
    "## **Neural network**"
   ]
  },
  {
   "cell_type": "markdown",
   "metadata": {
    "colab_type": "text",
    "id": "Vyx3cytYfs7E"
   },
   "source": [
    "First define network class"
   ]
  },
  {
   "cell_type": "code",
   "execution_count": 18,
   "metadata": {
    "colab": {},
    "colab_type": "code",
    "id": "3aMiO2DUfrIK"
   },
   "outputs": [],
   "source": [
    "class MLPNN(torch.nn.Module):\n",
    "    def __init__(self, D_in, H, D_out):\n",
    "        super(MLPNN, self).__init__()\n",
    "        self.linear1 = torch.nn.Linear(D_in, H)\n",
    "        torch.nn.init.xavier_uniform_(self.linear1.weight)\n",
    "        torch.nn.init.zeros_(self.linear1.bias)\n",
    "        self.linear2 = torch.nn.Linear(H, H)\n",
    "        torch.nn.init.xavier_uniform_(self.linear2.weight)\n",
    "        torch.nn.init.zeros_(self.linear2.bias)\n",
    "        self.linear3 = torch.nn.Linear(H//2, H)\n",
    "        torch.nn.init.xavier_uniform_(self.linear3.weight)\n",
    "        torch.nn.init.zeros_(self.linear3.bias)\n",
    "        self.linear4 = torch.nn.Linear(H, D_out)\n",
    "        torch.nn.init.xavier_uniform_(self.linear4.weight)\n",
    "        torch.nn.init.zeros_(self.linear4.bias)\n",
    "\n",
    "    def forward(self, x):\n",
    "        h_relu = self.linear1(x).clamp(min=0)\n",
    "        h_relu = self.linear2(h_relu).clamp(min=0)\n",
    "        #h_relu = self.linear3(h_relu).clamp(min=0)\n",
    "        y_pred = self.linear4(h_relu)\n",
    "        return y_pred"
   ]
  },
  {
   "cell_type": "code",
   "execution_count": 15,
   "metadata": {
    "colab": {},
    "colab_type": "code",
    "id": "7Cyx2vNti_z4"
   },
   "outputs": [],
   "source": [
    "class EarlyStopping:\n",
    "    def __init__(self, patience=30, delta=1e-3, path='checkpoint.pt'):\n",
    "        self.patience = patience\n",
    "        self.counter = 0\n",
    "        self.best_loss = None\n",
    "        self.early_stop = False\n",
    "        self.val_loss_min = np.Inf\n",
    "        self.delta = delta\n",
    "        self.path = path\n",
    "\n",
    "    def __call__(self, val_loss, model):\n",
    "\n",
    "        if self.val_loss_min > val_loss:\n",
    "            self.val_loss_min = val_loss\n",
    "            self.counter = 0\n",
    "            torch.save(model.state_dict(), self.path)\n",
    "        else:\n",
    "            self.counter += 1\n",
    "            if self.counter >= self.patience:\n",
    "                self.early_stop = True"
   ]
  },
  {
   "cell_type": "code",
   "execution_count": 19,
   "metadata": {
    "colab": {
     "base_uri": "https://localhost:8080/",
     "height": 357
    },
    "colab_type": "code",
    "id": "ibkHXkYKmXs6",
    "outputId": "3a2927df-9996-474a-eee5-3ec0d6f12263"
   },
   "outputs": [
    {
     "name": "stdout",
     "output_type": "stream",
     "text": [
      "Iteration:  0  Loss:  1.1381099224090576  Val loss:  1.0261197090148926\n",
      "Iteration:  50  Loss:  0.3996419906616211  Val loss:  1.0528138875961304\n",
      "Iteration:  100  Loss:  0.2617047131061554  Val loss:  1.0494502782821655\n",
      "Iteration:  150  Loss:  0.150391086935997  Val loss:  1.1083488464355469\n",
      "Iteration:  200  Loss:  0.06864530593156815  Val loss:  1.153719186782837\n",
      "Iteration:  250  Loss:  0.045219164341688156  Val loss:  1.1826711893081665\n",
      "Iteration:  300  Loss:  0.016674937680363655  Val loss:  1.2101542949676514\n",
      "Iteration:  350  Loss:  0.020762121304869652  Val loss:  1.222291350364685\n",
      "Iteration:  400  Loss:  0.01847849041223526  Val loss:  1.2347774505615234\n",
      "Iteration:  450  Loss:  0.01702648587524891  Val loss:  1.2460888624191284\n",
      "Iteration:  500  Loss:  0.01572049967944622  Val loss:  1.2471487522125244\n",
      "Iteration:  550  Loss:  0.018908506259322166  Val loss:  1.25712251663208\n",
      "Iteration:  600  Loss:  0.014085493981838226  Val loss:  1.2596080303192139\n",
      "Iteration:  650  Loss:  0.01035311445593834  Val loss:  1.2667949199676514\n",
      "Iteration:  700  Loss:  0.011152994818985462  Val loss:  1.2576637268066406\n",
      "Iteration:  750  Loss:  0.015150196850299835  Val loss:  1.246858835220337\n",
      "Iteration:  800  Loss:  0.007354080211371183  Val loss:  1.2421364784240723\n",
      "Iteration:  850  Loss:  0.00928119570016861  Val loss:  1.2384577989578247\n",
      "Iteration:  900  Loss:  0.011763871647417545  Val loss:  1.2317014932632446\n",
      "Iteration:  950  Loss:  0.00968815665692091  Val loss:  1.2216721773147583\n"
     ]
    }
   ],
   "source": [
    "n_x = X_train.shape[1]\n",
    "n_y = Y_train.shape[1]\n",
    "D_in, H, D_out = n_x, 32, n_y\n",
    "\n",
    "# %rm -rf runs\n",
    "tb = SummaryWriter() # output to ./runs/ directory\n",
    "\n",
    "modelMLP = MLPNN(D_in, H, D_out)\n",
    "\n",
    "epochs = 1000\n",
    "lr = 1e-3\n",
    "\n",
    "is_optimizing = True\n",
    "\n",
    "if(os.path.isfile('net_weights/weights_NN') and is_optimizing==False):\n",
    "    modelMLP.load_state_dict(torch.load('net_weights/weights_NN'))\n",
    "    print(modelMLP.eval())\n",
    "else:\n",
    "    criterion = torch.nn.MSELoss(reduction='mean') \n",
    "    optimizer = torch.optim.Adam(modelMLP.parameters(), lr=lr, weight_decay=0.01)\n",
    "    train_loss = []\n",
    "    for epoch in range(epochs):\n",
    "        for step, (batch_x, batch_y) in enumerate(train_loader):\n",
    "            y_pred = modelMLP(batch_x)\n",
    "            loss = criterion(y_pred, batch_y)\n",
    "            train_loss.append(loss.item())\n",
    "            optimizer.zero_grad()\n",
    "            loss.backward()\n",
    "            optimizer.step()\n",
    "\n",
    "        with torch.no_grad():\n",
    "            for step, (val_x, val_y) in enumerate(val_loader):\n",
    "                val_pred = modelMLP(val_x)\n",
    "                loss_val = criterion(val_pred, val_y)\n",
    "\n",
    "        if epoch % 50 == 0:\n",
    "            print(\"Iteration: \", epoch, \" Loss: \", loss.item(), \" Val loss: \", loss_val.item())\n",
    "\n",
    "    torch.save(modelMLP.state_dict(), 'weights_NN')\n",
    "\n",
    "tb.add_graph(modelMLP, batch_x)\n",
    "tb.close()"
   ]
  },
  {
   "cell_type": "code",
   "execution_count": 17,
   "metadata": {
    "colab": {
     "base_uri": "https://localhost:8080/"
    },
    "colab_type": "code",
    "id": "vxcyjr6IeO3z",
    "outputId": "a373c975-c00c-4223-8db6-7592c3dcf9f8",
    "pycharm": {
     "name": "#%%\n"
    }
   },
   "outputs": [
    {
     "data": {
      "text/plain": [
       "Reusing TensorBoard on port 6006 (pid 258), started 4:47:33 ago. (Use '!kill 258' to kill it.)"
      ]
     },
     "metadata": {
      "tags": []
     },
     "output_type": "display_data"
    },
    {
     "data": {
      "application/javascript": [
       "\n",
       "        (async () => {\n",
       "            const url = await google.colab.kernel.proxyPort(6006, {\"cache\": true});\n",
       "            const iframe = document.createElement('iframe');\n",
       "            iframe.src = url;\n",
       "            iframe.setAttribute('width', '100%');\n",
       "            iframe.setAttribute('height', '800');\n",
       "            iframe.setAttribute('frameborder', 0);\n",
       "            document.body.appendChild(iframe);\n",
       "        })();\n",
       "    "
      ],
      "text/plain": [
       "<IPython.core.display.Javascript object>"
      ]
     },
     "metadata": {
      "tags": []
     },
     "output_type": "display_data"
    }
   ],
   "source": [
    "%tensorboard --logdir=runs"
   ]
  }
 ],
 "metadata": {
  "colab": {
   "collapsed_sections": [],
   "name": "MLP.ipynb",
   "provenance": []
  },
  "kernelspec": {
   "display_name": "Python 3",
   "language": "python",
   "name": "python3"
  },
  "language_info": {
   "codemirror_mode": {
    "name": "ipython",
    "version": 3
   },
   "file_extension": ".py",
   "mimetype": "text/x-python",
   "name": "python",
   "nbconvert_exporter": "python",
   "pygments_lexer": "ipython3",
   "version": "3.7.7"
  }
 },
 "nbformat": 4,
 "nbformat_minor": 1
}
